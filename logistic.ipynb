{
 "cells": [
  {
   "cell_type": "code",
   "execution_count": 2,
   "id": "784067b7",
   "metadata": {},
   "outputs": [],
   "source": [
    "import numpy as np\n",
    "import pandas as pd\n",
    "import matplotlib.pyplot as plt\n",
    "import seaborn as sns"
   ]
  },
  {
   "cell_type": "code",
   "execution_count": 3,
   "id": "0f7aefe0",
   "metadata": {},
   "outputs": [],
   "source": [
    "from sklearn.datasets import make_classification"
   ]
  },
  {
   "cell_type": "code",
   "execution_count": 4,
   "id": "d262128d",
   "metadata": {},
   "outputs": [],
   "source": [
    "X,y=make_classification(n_samples=1000,n_classes=2,n_features=10,random_state=42)"
   ]
  },
  {
   "cell_type": "markdown",
   "id": "d37c8a01",
   "metadata": {},
   "source": []
  },
  {
   "cell_type": "code",
   "execution_count": 5,
   "id": "216c57cd",
   "metadata": {},
   "outputs": [
    {
     "data": {
      "text/plain": [
       "(1000, 10)"
      ]
     },
     "execution_count": 5,
     "metadata": {},
     "output_type": "execute_result"
    }
   ],
   "source": [
    "X.shape"
   ]
  },
  {
   "cell_type": "code",
   "execution_count": 6,
   "id": "aa27a8c1",
   "metadata": {},
   "outputs": [],
   "source": [
    "from sklearn.model_selection import train_test_split"
   ]
  },
  {
   "cell_type": "code",
   "execution_count": 7,
   "id": "664c1272",
   "metadata": {},
   "outputs": [],
   "source": [
    "X_train,X_test,y_train,y_test=train_test_split(X,y,test_size=0.25,random_state=42)"
   ]
  },
  {
   "cell_type": "code",
   "execution_count": 8,
   "id": "763f9c57",
   "metadata": {},
   "outputs": [
    {
     "data": {
      "text/plain": [
       "array([[-1.01232181,  0.28123049, -0.87512274, ...,  1.15469377,\n",
       "         1.18259881, -1.27036205],\n",
       "       [-0.02101069,  0.74744497, -0.03870931, ..., -0.10435845,\n",
       "        -0.04258589,  0.45015563],\n",
       "       [ 0.37607013,  0.33385997,  0.24958079, ..., -1.31221919,\n",
       "        -0.68607663,  1.08176673],\n",
       "       ...,\n",
       "       [ 0.04091467,  0.42796263, -0.00235298, ..., -1.92277177,\n",
       "        -0.17104772,  1.63925652],\n",
       "       [ 0.3393792 , -0.64015446,  0.25253995, ..., -1.39922826,\n",
       "        -0.52991248, -0.7348109 ],\n",
       "       [ 1.84815207, -0.31305803,  1.78069642, ...,  0.60451533,\n",
       "        -1.56102804, -1.25040773]])"
      ]
     },
     "execution_count": 8,
     "metadata": {},
     "output_type": "execute_result"
    }
   ],
   "source": [
    "X_train"
   ]
  },
  {
   "cell_type": "code",
   "execution_count": 9,
   "id": "a33760e9",
   "metadata": {},
   "outputs": [],
   "source": [
    "from sklearn.linear_model import LogisticRegression\n",
    "logistic=LogisticRegression()"
   ]
  },
  {
   "cell_type": "code",
   "execution_count": 10,
   "id": "dde6938c",
   "metadata": {},
   "outputs": [
    {
     "data": {
      "text/html": [
       "<style>#sk-container-id-1 {color: black;}#sk-container-id-1 pre{padding: 0;}#sk-container-id-1 div.sk-toggleable {background-color: white;}#sk-container-id-1 label.sk-toggleable__label {cursor: pointer;display: block;width: 100%;margin-bottom: 0;padding: 0.3em;box-sizing: border-box;text-align: center;}#sk-container-id-1 label.sk-toggleable__label-arrow:before {content: \"▸\";float: left;margin-right: 0.25em;color: #696969;}#sk-container-id-1 label.sk-toggleable__label-arrow:hover:before {color: black;}#sk-container-id-1 div.sk-estimator:hover label.sk-toggleable__label-arrow:before {color: black;}#sk-container-id-1 div.sk-toggleable__content {max-height: 0;max-width: 0;overflow: hidden;text-align: left;background-color: #f0f8ff;}#sk-container-id-1 div.sk-toggleable__content pre {margin: 0.2em;color: black;border-radius: 0.25em;background-color: #f0f8ff;}#sk-container-id-1 input.sk-toggleable__control:checked~div.sk-toggleable__content {max-height: 200px;max-width: 100%;overflow: auto;}#sk-container-id-1 input.sk-toggleable__control:checked~label.sk-toggleable__label-arrow:before {content: \"▾\";}#sk-container-id-1 div.sk-estimator input.sk-toggleable__control:checked~label.sk-toggleable__label {background-color: #d4ebff;}#sk-container-id-1 div.sk-label input.sk-toggleable__control:checked~label.sk-toggleable__label {background-color: #d4ebff;}#sk-container-id-1 input.sk-hidden--visually {border: 0;clip: rect(1px 1px 1px 1px);clip: rect(1px, 1px, 1px, 1px);height: 1px;margin: -1px;overflow: hidden;padding: 0;position: absolute;width: 1px;}#sk-container-id-1 div.sk-estimator {font-family: monospace;background-color: #f0f8ff;border: 1px dotted black;border-radius: 0.25em;box-sizing: border-box;margin-bottom: 0.5em;}#sk-container-id-1 div.sk-estimator:hover {background-color: #d4ebff;}#sk-container-id-1 div.sk-parallel-item::after {content: \"\";width: 100%;border-bottom: 1px solid gray;flex-grow: 1;}#sk-container-id-1 div.sk-label:hover label.sk-toggleable__label {background-color: #d4ebff;}#sk-container-id-1 div.sk-serial::before {content: \"\";position: absolute;border-left: 1px solid gray;box-sizing: border-box;top: 0;bottom: 0;left: 50%;z-index: 0;}#sk-container-id-1 div.sk-serial {display: flex;flex-direction: column;align-items: center;background-color: white;padding-right: 0.2em;padding-left: 0.2em;position: relative;}#sk-container-id-1 div.sk-item {position: relative;z-index: 1;}#sk-container-id-1 div.sk-parallel {display: flex;align-items: stretch;justify-content: center;background-color: white;position: relative;}#sk-container-id-1 div.sk-item::before, #sk-container-id-1 div.sk-parallel-item::before {content: \"\";position: absolute;border-left: 1px solid gray;box-sizing: border-box;top: 0;bottom: 0;left: 50%;z-index: -1;}#sk-container-id-1 div.sk-parallel-item {display: flex;flex-direction: column;z-index: 1;position: relative;background-color: white;}#sk-container-id-1 div.sk-parallel-item:first-child::after {align-self: flex-end;width: 50%;}#sk-container-id-1 div.sk-parallel-item:last-child::after {align-self: flex-start;width: 50%;}#sk-container-id-1 div.sk-parallel-item:only-child::after {width: 0;}#sk-container-id-1 div.sk-dashed-wrapped {border: 1px dashed gray;margin: 0 0.4em 0.5em 0.4em;box-sizing: border-box;padding-bottom: 0.4em;background-color: white;}#sk-container-id-1 div.sk-label label {font-family: monospace;font-weight: bold;display: inline-block;line-height: 1.2em;}#sk-container-id-1 div.sk-label-container {text-align: center;}#sk-container-id-1 div.sk-container {/* jupyter's `normalize.less` sets `[hidden] { display: none; }` but bootstrap.min.css set `[hidden] { display: none !important; }` so we also need the `!important` here to be able to override the default hidden behavior on the sphinx rendered scikit-learn.org. See: https://github.com/scikit-learn/scikit-learn/issues/21755 */display: inline-block !important;position: relative;}#sk-container-id-1 div.sk-text-repr-fallback {display: none;}</style><div id=\"sk-container-id-1\" class=\"sk-top-container\"><div class=\"sk-text-repr-fallback\"><pre>LogisticRegression()</pre><b>In a Jupyter environment, please rerun this cell to show the HTML representation or trust the notebook. <br />On GitHub, the HTML representation is unable to render, please try loading this page with nbviewer.org.</b></div><div class=\"sk-container\" hidden><div class=\"sk-item\"><div class=\"sk-estimator sk-toggleable\"><input class=\"sk-toggleable__control sk-hidden--visually\" id=\"sk-estimator-id-1\" type=\"checkbox\" checked><label for=\"sk-estimator-id-1\" class=\"sk-toggleable__label sk-toggleable__label-arrow\">LogisticRegression</label><div class=\"sk-toggleable__content\"><pre>LogisticRegression()</pre></div></div></div></div></div>"
      ],
      "text/plain": [
       "LogisticRegression()"
      ]
     },
     "execution_count": 10,
     "metadata": {},
     "output_type": "execute_result"
    }
   ],
   "source": [
    "logistic.fit(X_train,y_train)"
   ]
  },
  {
   "cell_type": "code",
   "execution_count": 11,
   "id": "e649fa9e",
   "metadata": {},
   "outputs": [],
   "source": [
    "y_pred=logistic.predict(X_test)"
   ]
  },
  {
   "cell_type": "code",
   "execution_count": 12,
   "id": "96c7477d",
   "metadata": {},
   "outputs": [
    {
     "data": {
      "text/plain": [
       "array([0, 1, 0, 1, 0, 1, 0, 0, 0, 0, 0, 1, 0, 1, 0, 0, 1, 1, 1, 1, 1, 0,\n",
       "       1, 0, 0, 1, 0, 0, 1, 1, 1, 1, 0, 0, 0, 0, 1, 1, 1, 1, 0, 1, 1, 0,\n",
       "       0, 0, 1, 1, 1, 1, 0, 1, 1, 0, 1, 0, 1, 0, 1, 0, 1, 0, 0, 1, 1, 1,\n",
       "       0, 0, 1, 1, 1, 1, 1, 0, 1, 0, 0, 1, 0, 1, 0, 0, 1, 0, 1, 0, 0, 0,\n",
       "       0, 1, 1, 1, 1, 1, 1, 1, 0, 0, 1, 0, 1, 0, 1, 0, 0, 1, 0, 1, 1, 1,\n",
       "       1, 1, 1, 1, 1, 0, 0, 1, 0, 0, 1, 1, 0, 1, 1, 1, 1, 1, 1, 1, 1, 0,\n",
       "       1, 1, 1, 1, 0, 0, 0, 1, 1, 0, 0, 0, 0, 0, 1, 0, 0, 0, 1, 0, 0, 1,\n",
       "       0, 0, 1, 0, 1, 1, 0, 1, 0, 0, 0, 0, 0, 0, 0, 1, 1, 1, 0, 0, 1, 1,\n",
       "       0, 0, 1, 1, 1, 1, 1, 1, 1, 0, 0, 0, 0, 1, 0, 0, 0, 0, 1, 0, 0, 1,\n",
       "       1, 1, 0, 1, 0, 0, 0, 1, 1, 1, 1, 1, 0, 0, 0, 0, 0, 1, 0, 1, 0, 1,\n",
       "       1, 0, 0, 1, 1, 1, 0, 1, 1, 0, 0, 0, 0, 0, 0, 0, 0, 0, 1, 1, 0, 1,\n",
       "       0, 1, 1, 0, 1, 0, 1, 0])"
      ]
     },
     "execution_count": 12,
     "metadata": {},
     "output_type": "execute_result"
    }
   ],
   "source": [
    "y_pred"
   ]
  },
  {
   "cell_type": "code",
   "execution_count": 13,
   "id": "baac3f77",
   "metadata": {},
   "outputs": [
    {
     "data": {
      "text/plain": [
       "array([[7.80405311e-01, 2.19594689e-01],\n",
       "       [3.33970550e-02, 9.66602945e-01],\n",
       "       [6.54302432e-01, 3.45697568e-01],\n",
       "       [7.74617238e-02, 9.22538276e-01],\n",
       "       [9.74933382e-01, 2.50666180e-02],\n",
       "       [4.02908279e-02, 9.59709172e-01],\n",
       "       [9.77942561e-01, 2.20574386e-02],\n",
       "       [9.53537697e-01, 4.64623026e-02],\n",
       "       [7.96199363e-01, 2.03800637e-01],\n",
       "       [6.82684766e-01, 3.17315234e-01],\n",
       "       [9.11092664e-01, 8.89073362e-02],\n",
       "       [2.49231213e-01, 7.50768787e-01],\n",
       "       [5.20874896e-01, 4.79125104e-01],\n",
       "       [2.11316593e-01, 7.88683407e-01],\n",
       "       [7.85894005e-01, 2.14105995e-01],\n",
       "       [9.43617675e-01, 5.63823254e-02],\n",
       "       [2.64794983e-02, 9.73520502e-01],\n",
       "       [3.45032612e-01, 6.54967388e-01],\n",
       "       [3.19896268e-01, 6.80103732e-01],\n",
       "       [2.00610368e-01, 7.99389632e-01],\n",
       "       [4.95913661e-01, 5.04086339e-01],\n",
       "       [9.62346032e-01, 3.76539681e-02],\n",
       "       [1.92460673e-01, 8.07539327e-01],\n",
       "       [7.86737166e-01, 2.13262834e-01],\n",
       "       [8.67182555e-01, 1.32817445e-01],\n",
       "       [4.23688525e-02, 9.57631148e-01],\n",
       "       [9.21126349e-01, 7.88736514e-02],\n",
       "       [8.00149654e-01, 1.99850346e-01],\n",
       "       [4.87697802e-01, 5.12302198e-01],\n",
       "       [3.41722552e-01, 6.58277448e-01],\n",
       "       [6.56786865e-02, 9.34321313e-01],\n",
       "       [5.50696468e-04, 9.99449304e-01],\n",
       "       [9.68509408e-01, 3.14905923e-02],\n",
       "       [9.72909146e-01, 2.70908537e-02],\n",
       "       [9.37747779e-01, 6.22522213e-02],\n",
       "       [5.04323668e-01, 4.95676332e-01],\n",
       "       [8.41850208e-02, 9.15814979e-01],\n",
       "       [3.24704765e-01, 6.75295235e-01],\n",
       "       [4.63601901e-01, 5.36398099e-01],\n",
       "       [1.62967695e-04, 9.99837032e-01],\n",
       "       [9.15501558e-01, 8.44984417e-02],\n",
       "       [9.22003493e-02, 9.07799651e-01],\n",
       "       [4.76495513e-01, 5.23504487e-01],\n",
       "       [9.37085094e-01, 6.29149062e-02],\n",
       "       [9.76223519e-01, 2.37764807e-02],\n",
       "       [5.72880936e-01, 4.27119064e-01],\n",
       "       [1.63183828e-02, 9.83681617e-01],\n",
       "       [7.34507013e-02, 9.26549299e-01],\n",
       "       [1.38145574e-02, 9.86185443e-01],\n",
       "       [5.35996121e-02, 9.46400388e-01],\n",
       "       [8.11401656e-01, 1.88598344e-01],\n",
       "       [4.93495384e-03, 9.95065046e-01],\n",
       "       [4.86710920e-01, 5.13289080e-01],\n",
       "       [8.68947311e-01, 1.31052689e-01],\n",
       "       [8.34157929e-03, 9.91658421e-01],\n",
       "       [5.86371187e-01, 4.13628813e-01],\n",
       "       [1.50803338e-01, 8.49196662e-01],\n",
       "       [9.77286076e-01, 2.27139238e-02],\n",
       "       [9.52950335e-02, 9.04704967e-01],\n",
       "       [9.02198902e-01, 9.78010978e-02],\n",
       "       [7.02841760e-03, 9.92971582e-01],\n",
       "       [7.09005819e-01, 2.90994181e-01],\n",
       "       [7.59290849e-01, 2.40709151e-01],\n",
       "       [3.15510457e-02, 9.68448954e-01],\n",
       "       [3.22761110e-01, 6.77238890e-01],\n",
       "       [1.83068880e-01, 8.16931120e-01],\n",
       "       [8.37473632e-01, 1.62526368e-01],\n",
       "       [8.95593632e-01, 1.04406368e-01],\n",
       "       [3.28270128e-01, 6.71729872e-01],\n",
       "       [1.67567226e-01, 8.32432774e-01],\n",
       "       [3.32952337e-01, 6.67047663e-01],\n",
       "       [4.37243643e-02, 9.56275636e-01],\n",
       "       [2.11505293e-04, 9.99788495e-01],\n",
       "       [9.67890740e-01, 3.21092598e-02],\n",
       "       [1.88238574e-01, 8.11761426e-01],\n",
       "       [8.79110238e-01, 1.20889762e-01],\n",
       "       [9.73720551e-01, 2.62794490e-02],\n",
       "       [1.72079413e-03, 9.98279206e-01],\n",
       "       [9.41325002e-01, 5.86749980e-02],\n",
       "       [1.62489453e-01, 8.37510547e-01],\n",
       "       [8.06541294e-01, 1.93458706e-01],\n",
       "       [9.40285955e-01, 5.97140450e-02],\n",
       "       [9.59201608e-02, 9.04079839e-01],\n",
       "       [8.64915318e-01, 1.35084682e-01],\n",
       "       [2.52567507e-04, 9.99747432e-01],\n",
       "       [8.67102423e-01, 1.32897577e-01],\n",
       "       [8.39960176e-01, 1.60039824e-01],\n",
       "       [8.56925125e-01, 1.43074875e-01],\n",
       "       [8.66388980e-01, 1.33611020e-01],\n",
       "       [1.28614011e-01, 8.71385989e-01],\n",
       "       [2.64172967e-03, 9.97358270e-01],\n",
       "       [2.16673201e-02, 9.78332680e-01],\n",
       "       [1.15210426e-01, 8.84789574e-01],\n",
       "       [2.74267624e-01, 7.25732376e-01],\n",
       "       [5.72353016e-02, 9.42764698e-01],\n",
       "       [2.24190726e-01, 7.75809274e-01],\n",
       "       [9.36272483e-01, 6.37275173e-02],\n",
       "       [9.37323976e-01, 6.26760242e-02],\n",
       "       [4.08399479e-01, 5.91600521e-01],\n",
       "       [9.15439240e-01, 8.45607604e-02],\n",
       "       [4.68132776e-03, 9.95318672e-01],\n",
       "       [9.38878823e-01, 6.11211769e-02],\n",
       "       [1.57767811e-02, 9.84223219e-01],\n",
       "       [9.97956118e-01, 2.04388162e-03],\n",
       "       [9.91885103e-01, 8.11489684e-03],\n",
       "       [2.79337365e-01, 7.20662635e-01],\n",
       "       [9.79828787e-01, 2.01712133e-02],\n",
       "       [4.48754853e-03, 9.95512451e-01],\n",
       "       [4.48924688e-01, 5.51075312e-01],\n",
       "       [1.04345512e-01, 8.95654488e-01],\n",
       "       [1.75728898e-01, 8.24271102e-01],\n",
       "       [6.10258564e-02, 9.38974144e-01],\n",
       "       [5.82983180e-02, 9.41701682e-01],\n",
       "       [1.26449420e-01, 8.73550580e-01],\n",
       "       [8.77894685e-03, 9.91221053e-01],\n",
       "       [8.57878574e-01, 1.42121426e-01],\n",
       "       [6.80748557e-01, 3.19251443e-01],\n",
       "       [1.95234093e-01, 8.04765907e-01],\n",
       "       [9.82424959e-01, 1.75750410e-02],\n",
       "       [9.43068357e-01, 5.69316429e-02],\n",
       "       [7.52475267e-04, 9.99247525e-01],\n",
       "       [3.95583761e-02, 9.60441624e-01],\n",
       "       [9.37226146e-01, 6.27738542e-02],\n",
       "       [2.71159418e-02, 9.72884058e-01],\n",
       "       [5.34309177e-02, 9.46569082e-01],\n",
       "       [1.58359033e-01, 8.41640967e-01],\n",
       "       [2.33254928e-03, 9.97667451e-01],\n",
       "       [1.26731386e-01, 8.73268614e-01],\n",
       "       [6.74097003e-02, 9.32590300e-01],\n",
       "       [5.35412303e-03, 9.94645877e-01],\n",
       "       [1.60121011e-01, 8.39878989e-01],\n",
       "       [8.61865388e-01, 1.38134612e-01],\n",
       "       [1.93997187e-01, 8.06002813e-01],\n",
       "       [3.58087511e-02, 9.64191249e-01],\n",
       "       [4.30617885e-01, 5.69382115e-01],\n",
       "       [1.20247976e-01, 8.79752024e-01],\n",
       "       [9.66201827e-01, 3.37981727e-02],\n",
       "       [8.48281890e-01, 1.51718110e-01],\n",
       "       [9.51907544e-01, 4.80924555e-02],\n",
       "       [3.52534151e-02, 9.64746585e-01],\n",
       "       [3.05037126e-01, 6.94962874e-01],\n",
       "       [9.84012658e-01, 1.59873419e-02],\n",
       "       [8.58391902e-01, 1.41608098e-01],\n",
       "       [9.66637310e-01, 3.33626896e-02],\n",
       "       [5.54690075e-01, 4.45309925e-01],\n",
       "       [6.12661884e-01, 3.87338116e-01],\n",
       "       [1.51084691e-03, 9.98489153e-01],\n",
       "       [8.96047117e-01, 1.03952883e-01],\n",
       "       [9.84262652e-01, 1.57373484e-02],\n",
       "       [9.88996578e-01, 1.10034223e-02],\n",
       "       [3.10888755e-02, 9.68911125e-01],\n",
       "       [9.93360976e-01, 6.63902362e-03],\n",
       "       [9.19798176e-01, 8.02018241e-02],\n",
       "       [4.93109072e-01, 5.06890928e-01],\n",
       "       [9.33164204e-01, 6.68357959e-02],\n",
       "       [9.83661258e-01, 1.63387416e-02],\n",
       "       [3.51835235e-03, 9.96481648e-01],\n",
       "       [9.41275187e-01, 5.87248132e-02],\n",
       "       [4.86263513e-01, 5.13736487e-01],\n",
       "       [1.32566894e-01, 8.67433106e-01],\n",
       "       [9.64063859e-01, 3.59361406e-02],\n",
       "       [9.49628746e-02, 9.05037125e-01],\n",
       "       [9.05327615e-01, 9.46723852e-02],\n",
       "       [9.29615462e-01, 7.03845378e-02],\n",
       "       [8.89227279e-01, 1.10772721e-01],\n",
       "       [7.67541166e-01, 2.32458834e-01],\n",
       "       [8.71114399e-01, 1.28885601e-01],\n",
       "       [8.49705171e-01, 1.50294829e-01],\n",
       "       [9.61826560e-01, 3.81734400e-02],\n",
       "       [2.63185383e-01, 7.36814617e-01],\n",
       "       [1.03666871e-01, 8.96333129e-01],\n",
       "       [4.80722755e-01, 5.19277245e-01],\n",
       "       [8.54730458e-01, 1.45269542e-01],\n",
       "       [9.18818942e-01, 8.11810581e-02],\n",
       "       [1.38886119e-01, 8.61113881e-01],\n",
       "       [5.72776185e-02, 9.42722382e-01],\n",
       "       [7.95224292e-01, 2.04775708e-01],\n",
       "       [5.39131795e-01, 4.60868205e-01],\n",
       "       [1.38669075e-01, 8.61330925e-01],\n",
       "       [8.50150980e-02, 9.14984902e-01],\n",
       "       [8.34690964e-03, 9.91653090e-01],\n",
       "       [2.44102813e-01, 7.55897187e-01],\n",
       "       [5.55453777e-02, 9.44454622e-01],\n",
       "       [3.34025139e-02, 9.66597486e-01],\n",
       "       [1.21827907e-01, 8.78172093e-01],\n",
       "       [7.99881559e-01, 2.00118441e-01],\n",
       "       [8.38858319e-01, 1.61141681e-01],\n",
       "       [9.98577238e-01, 1.42276226e-03],\n",
       "       [8.74534069e-01, 1.25465931e-01],\n",
       "       [3.60141748e-02, 9.63985825e-01],\n",
       "       [5.90449015e-01, 4.09550985e-01],\n",
       "       [9.86002273e-01, 1.39977266e-02],\n",
       "       [8.03767684e-01, 1.96232316e-01],\n",
       "       [8.54357976e-01, 1.45642024e-01],\n",
       "       [1.07877465e-01, 8.92122535e-01],\n",
       "       [8.17277683e-01, 1.82722317e-01],\n",
       "       [8.94750402e-01, 1.05249598e-01],\n",
       "       [9.33514514e-02, 9.06648549e-01],\n",
       "       [1.33091357e-02, 9.86690864e-01],\n",
       "       [6.55226564e-03, 9.93447734e-01],\n",
       "       [8.95684770e-01, 1.04315230e-01],\n",
       "       [1.22485683e-02, 9.87751432e-01],\n",
       "       [6.61222701e-01, 3.38777299e-01],\n",
       "       [6.55021507e-01, 3.44978493e-01],\n",
       "       [8.93281568e-01, 1.06718432e-01],\n",
       "       [4.06703931e-01, 5.93296069e-01],\n",
       "       [4.98216423e-02, 9.50178358e-01],\n",
       "       [1.24967771e-01, 8.75032229e-01],\n",
       "       [4.75946165e-04, 9.99524054e-01],\n",
       "       [1.75097183e-01, 8.24902817e-01],\n",
       "       [9.76120836e-01, 2.38791642e-02],\n",
       "       [8.99064932e-01, 1.00935068e-01],\n",
       "       [7.72800814e-01, 2.27199186e-01],\n",
       "       [9.30791319e-01, 6.92086811e-02],\n",
       "       [9.77242567e-01, 2.27574334e-02],\n",
       "       [4.10031353e-01, 5.89968647e-01],\n",
       "       [9.50772689e-01, 4.92273108e-02],\n",
       "       [1.43562014e-03, 9.98564380e-01],\n",
       "       [8.11801086e-01, 1.88198914e-01],\n",
       "       [2.19082307e-01, 7.80917693e-01],\n",
       "       [2.32829460e-01, 7.67170540e-01],\n",
       "       [8.07696109e-01, 1.92303891e-01],\n",
       "       [9.37778135e-01, 6.22218652e-02],\n",
       "       [1.72535110e-02, 9.82746489e-01],\n",
       "       [1.68382316e-01, 8.31617684e-01],\n",
       "       [2.58655458e-02, 9.74134454e-01],\n",
       "       [8.64584301e-01, 1.35415699e-01],\n",
       "       [8.87782088e-04, 9.99112218e-01],\n",
       "       [7.92467023e-02, 9.20753298e-01],\n",
       "       [9.77427749e-01, 2.25722508e-02],\n",
       "       [9.67716085e-01, 3.22839151e-02],\n",
       "       [7.81233111e-01, 2.18766889e-01],\n",
       "       [9.96906485e-01, 3.09351477e-03],\n",
       "       [9.55969502e-01, 4.40304978e-02],\n",
       "       [8.01306876e-01, 1.98693124e-01],\n",
       "       [9.61612627e-01, 3.83873729e-02],\n",
       "       [9.97664088e-01, 2.33591165e-03],\n",
       "       [9.28278659e-01, 7.17213409e-02],\n",
       "       [2.52333709e-02, 9.74766629e-01],\n",
       "       [1.40107441e-01, 8.59892559e-01],\n",
       "       [9.93070073e-01, 6.92992740e-03],\n",
       "       [3.41325378e-03, 9.96586746e-01],\n",
       "       [7.24641827e-01, 2.75358173e-01],\n",
       "       [1.29472911e-01, 8.70527089e-01],\n",
       "       [2.32778680e-02, 9.76722132e-01],\n",
       "       [8.45490624e-01, 1.54509376e-01],\n",
       "       [1.53019212e-04, 9.99846981e-01],\n",
       "       [9.39749382e-01, 6.02506183e-02],\n",
       "       [9.67656107e-03, 9.90323439e-01],\n",
       "       [7.89660040e-01, 2.10339960e-01]])"
      ]
     },
     "execution_count": 13,
     "metadata": {},
     "output_type": "execute_result"
    }
   ],
   "source": [
    "logistic.predict_proba(X_test)"
   ]
  },
  {
   "cell_type": "code",
   "execution_count": 14,
   "id": "617c93b4",
   "metadata": {},
   "outputs": [],
   "source": [
    "from sklearn.metrics import accuracy_score,confusion_matrix,classification_report"
   ]
  },
  {
   "cell_type": "code",
   "execution_count": 15,
   "id": "ceddf1a5",
   "metadata": {},
   "outputs": [
    {
     "name": "stdout",
     "output_type": "stream",
     "text": [
      "0.84\n"
     ]
    }
   ],
   "source": [
    "score=accuracy_score(y_test,y_pred)\n",
    "print(score)"
   ]
  },
  {
   "cell_type": "code",
   "execution_count": 16,
   "id": "3f8353d4",
   "metadata": {},
   "outputs": [
    {
     "data": {
      "text/plain": [
       "array([[ 98,  15],\n",
       "       [ 25, 112]], dtype=int64)"
      ]
     },
     "execution_count": 16,
     "metadata": {},
     "output_type": "execute_result"
    }
   ],
   "source": [
    "confusion_matrix(y_test,y_pred)"
   ]
  },
  {
   "cell_type": "code",
   "execution_count": 17,
   "id": "e4cc2e67",
   "metadata": {},
   "outputs": [
    {
     "name": "stdout",
     "output_type": "stream",
     "text": [
      "              precision    recall  f1-score   support\n",
      "\n",
      "           0       0.80      0.87      0.83       113\n",
      "           1       0.88      0.82      0.85       137\n",
      "\n",
      "    accuracy                           0.84       250\n",
      "   macro avg       0.84      0.84      0.84       250\n",
      "weighted avg       0.84      0.84      0.84       250\n",
      "\n"
     ]
    }
   ],
   "source": [
    "print(classification_report(y_test,y_pred))"
   ]
  },
  {
   "cell_type": "markdown",
   "id": "5ed89d4e",
   "metadata": {},
   "source": [
    "hyper parameter tunning and cross validation"
   ]
  },
  {
   "cell_type": "code",
   "execution_count": 18,
   "id": "1fbdd395",
   "metadata": {},
   "outputs": [],
   "source": [
    "log=LogisticRegression()\n",
    "penalty=['l1','l2','elasticnet']\n",
    "C=[100,10,1,50]\n",
    "solver= [ 'liblinear', 'newton-cg', 'newton-cholesky', 'sag', 'saga']\n",
    "params=dict(penalty=penalty,C=C,solver=solver)"
   ]
  },
  {
   "cell_type": "code",
   "execution_count": 19,
   "id": "26a58624",
   "metadata": {},
   "outputs": [],
   "source": [
    "from sklearn.model_selection import StratifiedKFold\n",
    "cv = StratifiedKFold(n_splits=5)\n"
   ]
  },
  {
   "cell_type": "code",
   "execution_count": 20,
   "id": "e02906b9",
   "metadata": {},
   "outputs": [
    {
     "name": "stderr",
     "output_type": "stream",
     "text": [
      "c:\\Users\\Acer\\OneDrive\\Desktop\\supervied\\venv\\lib\\site-packages\\sklearn\\linear_model\\_sag.py:350: ConvergenceWarning: The max_iter was reached which means the coef_ did not converge\n",
      "  warnings.warn(\n",
      "c:\\Users\\Acer\\OneDrive\\Desktop\\supervied\\venv\\lib\\site-packages\\sklearn\\linear_model\\_sag.py:350: ConvergenceWarning: The max_iter was reached which means the coef_ did not converge\n",
      "  warnings.warn(\n",
      "c:\\Users\\Acer\\OneDrive\\Desktop\\supervied\\venv\\lib\\site-packages\\sklearn\\linear_model\\_sag.py:350: ConvergenceWarning: The max_iter was reached which means the coef_ did not converge\n",
      "  warnings.warn(\n",
      "c:\\Users\\Acer\\OneDrive\\Desktop\\supervied\\venv\\lib\\site-packages\\sklearn\\linear_model\\_sag.py:350: ConvergenceWarning: The max_iter was reached which means the coef_ did not converge\n",
      "  warnings.warn(\n",
      "c:\\Users\\Acer\\OneDrive\\Desktop\\supervied\\venv\\lib\\site-packages\\sklearn\\linear_model\\_sag.py:350: ConvergenceWarning: The max_iter was reached which means the coef_ did not converge\n",
      "  warnings.warn(\n",
      "c:\\Users\\Acer\\OneDrive\\Desktop\\supervied\\venv\\lib\\site-packages\\sklearn\\linear_model\\_sag.py:350: ConvergenceWarning: The max_iter was reached which means the coef_ did not converge\n",
      "  warnings.warn(\n",
      "c:\\Users\\Acer\\OneDrive\\Desktop\\supervied\\venv\\lib\\site-packages\\sklearn\\linear_model\\_sag.py:350: ConvergenceWarning: The max_iter was reached which means the coef_ did not converge\n",
      "  warnings.warn(\n",
      "c:\\Users\\Acer\\OneDrive\\Desktop\\supervied\\venv\\lib\\site-packages\\sklearn\\linear_model\\_sag.py:350: ConvergenceWarning: The max_iter was reached which means the coef_ did not converge\n",
      "  warnings.warn(\n",
      "c:\\Users\\Acer\\OneDrive\\Desktop\\supervied\\venv\\lib\\site-packages\\sklearn\\linear_model\\_sag.py:350: ConvergenceWarning: The max_iter was reached which means the coef_ did not converge\n",
      "  warnings.warn(\n",
      "c:\\Users\\Acer\\OneDrive\\Desktop\\supervied\\venv\\lib\\site-packages\\sklearn\\linear_model\\_sag.py:350: ConvergenceWarning: The max_iter was reached which means the coef_ did not converge\n",
      "  warnings.warn(\n",
      "c:\\Users\\Acer\\OneDrive\\Desktop\\supervied\\venv\\lib\\site-packages\\sklearn\\linear_model\\_sag.py:350: ConvergenceWarning: The max_iter was reached which means the coef_ did not converge\n",
      "  warnings.warn(\n",
      "c:\\Users\\Acer\\OneDrive\\Desktop\\supervied\\venv\\lib\\site-packages\\sklearn\\linear_model\\_sag.py:350: ConvergenceWarning: The max_iter was reached which means the coef_ did not converge\n",
      "  warnings.warn(\n",
      "c:\\Users\\Acer\\OneDrive\\Desktop\\supervied\\venv\\lib\\site-packages\\sklearn\\linear_model\\_sag.py:350: ConvergenceWarning: The max_iter was reached which means the coef_ did not converge\n",
      "  warnings.warn(\n",
      "c:\\Users\\Acer\\OneDrive\\Desktop\\supervied\\venv\\lib\\site-packages\\sklearn\\linear_model\\_sag.py:350: ConvergenceWarning: The max_iter was reached which means the coef_ did not converge\n",
      "  warnings.warn(\n",
      "c:\\Users\\Acer\\OneDrive\\Desktop\\supervied\\venv\\lib\\site-packages\\sklearn\\linear_model\\_sag.py:350: ConvergenceWarning: The max_iter was reached which means the coef_ did not converge\n",
      "  warnings.warn(\n",
      "c:\\Users\\Acer\\OneDrive\\Desktop\\supervied\\venv\\lib\\site-packages\\sklearn\\model_selection\\_validation.py:425: FitFailedWarning: \n",
      "160 fits failed out of a total of 300.\n",
      "The score on these train-test partitions for these parameters will be set to nan.\n",
      "If these failures are not expected, you can try to debug them by setting error_score='raise'.\n",
      "\n",
      "Below are more details about the failures:\n",
      "--------------------------------------------------------------------------------\n",
      "20 fits failed with the following error:\n",
      "Traceback (most recent call last):\n",
      "  File \"c:\\Users\\Acer\\OneDrive\\Desktop\\supervied\\venv\\lib\\site-packages\\sklearn\\model_selection\\_validation.py\", line 729, in _fit_and_score\n",
      "    estimator.fit(X_train, y_train, **fit_params)\n",
      "  File \"c:\\Users\\Acer\\OneDrive\\Desktop\\supervied\\venv\\lib\\site-packages\\sklearn\\base.py\", line 1152, in wrapper\n",
      "    return fit_method(estimator, *args, **kwargs)\n",
      "  File \"c:\\Users\\Acer\\OneDrive\\Desktop\\supervied\\venv\\lib\\site-packages\\sklearn\\linear_model\\_logistic.py\", line 1169, in fit\n",
      "    solver = _check_solver(self.solver, self.penalty, self.dual)\n",
      "  File \"c:\\Users\\Acer\\OneDrive\\Desktop\\supervied\\venv\\lib\\site-packages\\sklearn\\linear_model\\_logistic.py\", line 56, in _check_solver\n",
      "    raise ValueError(\n",
      "ValueError: Solver newton-cg supports only 'l2' or 'none' penalties, got l1 penalty.\n",
      "\n",
      "--------------------------------------------------------------------------------\n",
      "20 fits failed with the following error:\n",
      "Traceback (most recent call last):\n",
      "  File \"c:\\Users\\Acer\\OneDrive\\Desktop\\supervied\\venv\\lib\\site-packages\\sklearn\\model_selection\\_validation.py\", line 729, in _fit_and_score\n",
      "    estimator.fit(X_train, y_train, **fit_params)\n",
      "  File \"c:\\Users\\Acer\\OneDrive\\Desktop\\supervied\\venv\\lib\\site-packages\\sklearn\\base.py\", line 1152, in wrapper\n",
      "    return fit_method(estimator, *args, **kwargs)\n",
      "  File \"c:\\Users\\Acer\\OneDrive\\Desktop\\supervied\\venv\\lib\\site-packages\\sklearn\\linear_model\\_logistic.py\", line 1169, in fit\n",
      "    solver = _check_solver(self.solver, self.penalty, self.dual)\n",
      "  File \"c:\\Users\\Acer\\OneDrive\\Desktop\\supervied\\venv\\lib\\site-packages\\sklearn\\linear_model\\_logistic.py\", line 56, in _check_solver\n",
      "    raise ValueError(\n",
      "ValueError: Solver newton-cholesky supports only 'l2' or 'none' penalties, got l1 penalty.\n",
      "\n",
      "--------------------------------------------------------------------------------\n",
      "20 fits failed with the following error:\n",
      "Traceback (most recent call last):\n",
      "  File \"c:\\Users\\Acer\\OneDrive\\Desktop\\supervied\\venv\\lib\\site-packages\\sklearn\\model_selection\\_validation.py\", line 729, in _fit_and_score\n",
      "    estimator.fit(X_train, y_train, **fit_params)\n",
      "  File \"c:\\Users\\Acer\\OneDrive\\Desktop\\supervied\\venv\\lib\\site-packages\\sklearn\\base.py\", line 1152, in wrapper\n",
      "    return fit_method(estimator, *args, **kwargs)\n",
      "  File \"c:\\Users\\Acer\\OneDrive\\Desktop\\supervied\\venv\\lib\\site-packages\\sklearn\\linear_model\\_logistic.py\", line 1169, in fit\n",
      "    solver = _check_solver(self.solver, self.penalty, self.dual)\n",
      "  File \"c:\\Users\\Acer\\OneDrive\\Desktop\\supervied\\venv\\lib\\site-packages\\sklearn\\linear_model\\_logistic.py\", line 56, in _check_solver\n",
      "    raise ValueError(\n",
      "ValueError: Solver sag supports only 'l2' or 'none' penalties, got l1 penalty.\n",
      "\n",
      "--------------------------------------------------------------------------------\n",
      "20 fits failed with the following error:\n",
      "Traceback (most recent call last):\n",
      "  File \"c:\\Users\\Acer\\OneDrive\\Desktop\\supervied\\venv\\lib\\site-packages\\sklearn\\model_selection\\_validation.py\", line 729, in _fit_and_score\n",
      "    estimator.fit(X_train, y_train, **fit_params)\n",
      "  File \"c:\\Users\\Acer\\OneDrive\\Desktop\\supervied\\venv\\lib\\site-packages\\sklearn\\base.py\", line 1152, in wrapper\n",
      "    return fit_method(estimator, *args, **kwargs)\n",
      "  File \"c:\\Users\\Acer\\OneDrive\\Desktop\\supervied\\venv\\lib\\site-packages\\sklearn\\linear_model\\_logistic.py\", line 1169, in fit\n",
      "    solver = _check_solver(self.solver, self.penalty, self.dual)\n",
      "  File \"c:\\Users\\Acer\\OneDrive\\Desktop\\supervied\\venv\\lib\\site-packages\\sklearn\\linear_model\\_logistic.py\", line 66, in _check_solver\n",
      "    raise ValueError(\n",
      "ValueError: Only 'saga' solver supports elasticnet penalty, got solver=liblinear.\n",
      "\n",
      "--------------------------------------------------------------------------------\n",
      "20 fits failed with the following error:\n",
      "Traceback (most recent call last):\n",
      "  File \"c:\\Users\\Acer\\OneDrive\\Desktop\\supervied\\venv\\lib\\site-packages\\sklearn\\model_selection\\_validation.py\", line 729, in _fit_and_score\n",
      "    estimator.fit(X_train, y_train, **fit_params)\n",
      "  File \"c:\\Users\\Acer\\OneDrive\\Desktop\\supervied\\venv\\lib\\site-packages\\sklearn\\base.py\", line 1152, in wrapper\n",
      "    return fit_method(estimator, *args, **kwargs)\n",
      "  File \"c:\\Users\\Acer\\OneDrive\\Desktop\\supervied\\venv\\lib\\site-packages\\sklearn\\linear_model\\_logistic.py\", line 1169, in fit\n",
      "    solver = _check_solver(self.solver, self.penalty, self.dual)\n",
      "  File \"c:\\Users\\Acer\\OneDrive\\Desktop\\supervied\\venv\\lib\\site-packages\\sklearn\\linear_model\\_logistic.py\", line 56, in _check_solver\n",
      "    raise ValueError(\n",
      "ValueError: Solver newton-cg supports only 'l2' or 'none' penalties, got elasticnet penalty.\n",
      "\n",
      "--------------------------------------------------------------------------------\n",
      "20 fits failed with the following error:\n",
      "Traceback (most recent call last):\n",
      "  File \"c:\\Users\\Acer\\OneDrive\\Desktop\\supervied\\venv\\lib\\site-packages\\sklearn\\model_selection\\_validation.py\", line 729, in _fit_and_score\n",
      "    estimator.fit(X_train, y_train, **fit_params)\n",
      "  File \"c:\\Users\\Acer\\OneDrive\\Desktop\\supervied\\venv\\lib\\site-packages\\sklearn\\base.py\", line 1152, in wrapper\n",
      "    return fit_method(estimator, *args, **kwargs)\n",
      "  File \"c:\\Users\\Acer\\OneDrive\\Desktop\\supervied\\venv\\lib\\site-packages\\sklearn\\linear_model\\_logistic.py\", line 1169, in fit\n",
      "    solver = _check_solver(self.solver, self.penalty, self.dual)\n",
      "  File \"c:\\Users\\Acer\\OneDrive\\Desktop\\supervied\\venv\\lib\\site-packages\\sklearn\\linear_model\\_logistic.py\", line 56, in _check_solver\n",
      "    raise ValueError(\n",
      "ValueError: Solver newton-cholesky supports only 'l2' or 'none' penalties, got elasticnet penalty.\n",
      "\n",
      "--------------------------------------------------------------------------------\n",
      "20 fits failed with the following error:\n",
      "Traceback (most recent call last):\n",
      "  File \"c:\\Users\\Acer\\OneDrive\\Desktop\\supervied\\venv\\lib\\site-packages\\sklearn\\model_selection\\_validation.py\", line 729, in _fit_and_score\n",
      "    estimator.fit(X_train, y_train, **fit_params)\n",
      "  File \"c:\\Users\\Acer\\OneDrive\\Desktop\\supervied\\venv\\lib\\site-packages\\sklearn\\base.py\", line 1152, in wrapper\n",
      "    return fit_method(estimator, *args, **kwargs)\n",
      "  File \"c:\\Users\\Acer\\OneDrive\\Desktop\\supervied\\venv\\lib\\site-packages\\sklearn\\linear_model\\_logistic.py\", line 1169, in fit\n",
      "    solver = _check_solver(self.solver, self.penalty, self.dual)\n",
      "  File \"c:\\Users\\Acer\\OneDrive\\Desktop\\supervied\\venv\\lib\\site-packages\\sklearn\\linear_model\\_logistic.py\", line 56, in _check_solver\n",
      "    raise ValueError(\n",
      "ValueError: Solver sag supports only 'l2' or 'none' penalties, got elasticnet penalty.\n",
      "\n",
      "--------------------------------------------------------------------------------\n",
      "20 fits failed with the following error:\n",
      "Traceback (most recent call last):\n",
      "  File \"c:\\Users\\Acer\\OneDrive\\Desktop\\supervied\\venv\\lib\\site-packages\\sklearn\\model_selection\\_validation.py\", line 729, in _fit_and_score\n",
      "    estimator.fit(X_train, y_train, **fit_params)\n",
      "  File \"c:\\Users\\Acer\\OneDrive\\Desktop\\supervied\\venv\\lib\\site-packages\\sklearn\\base.py\", line 1152, in wrapper\n",
      "    return fit_method(estimator, *args, **kwargs)\n",
      "  File \"c:\\Users\\Acer\\OneDrive\\Desktop\\supervied\\venv\\lib\\site-packages\\sklearn\\linear_model\\_logistic.py\", line 1179, in fit\n",
      "    raise ValueError(\"l1_ratio must be specified when penalty is elasticnet.\")\n",
      "ValueError: l1_ratio must be specified when penalty is elasticnet.\n",
      "\n",
      "  warnings.warn(some_fits_failed_message, FitFailedWarning)\n",
      "c:\\Users\\Acer\\OneDrive\\Desktop\\supervied\\venv\\lib\\site-packages\\sklearn\\model_selection\\_search.py:979: UserWarning: One or more of the test scores are non-finite: [0.868             nan        nan        nan 0.868      0.868\n",
      " 0.868      0.868      0.868      0.868             nan        nan\n",
      "        nan        nan        nan 0.868             nan        nan\n",
      "        nan 0.868      0.868      0.868      0.868      0.868\n",
      " 0.868             nan        nan        nan        nan        nan\n",
      " 0.86533333        nan        nan        nan 0.868      0.86933333\n",
      " 0.86933333 0.86933333 0.86933333 0.86933333        nan        nan\n",
      "        nan        nan        nan 0.868             nan        nan\n",
      "        nan 0.868      0.868      0.868      0.868      0.868\n",
      " 0.868             nan        nan        nan        nan        nan]\n",
      "  warnings.warn(\n"
     ]
    },
    {
     "data": {
      "text/html": [
       "<style>#sk-container-id-2 {color: black;}#sk-container-id-2 pre{padding: 0;}#sk-container-id-2 div.sk-toggleable {background-color: white;}#sk-container-id-2 label.sk-toggleable__label {cursor: pointer;display: block;width: 100%;margin-bottom: 0;padding: 0.3em;box-sizing: border-box;text-align: center;}#sk-container-id-2 label.sk-toggleable__label-arrow:before {content: \"▸\";float: left;margin-right: 0.25em;color: #696969;}#sk-container-id-2 label.sk-toggleable__label-arrow:hover:before {color: black;}#sk-container-id-2 div.sk-estimator:hover label.sk-toggleable__label-arrow:before {color: black;}#sk-container-id-2 div.sk-toggleable__content {max-height: 0;max-width: 0;overflow: hidden;text-align: left;background-color: #f0f8ff;}#sk-container-id-2 div.sk-toggleable__content pre {margin: 0.2em;color: black;border-radius: 0.25em;background-color: #f0f8ff;}#sk-container-id-2 input.sk-toggleable__control:checked~div.sk-toggleable__content {max-height: 200px;max-width: 100%;overflow: auto;}#sk-container-id-2 input.sk-toggleable__control:checked~label.sk-toggleable__label-arrow:before {content: \"▾\";}#sk-container-id-2 div.sk-estimator input.sk-toggleable__control:checked~label.sk-toggleable__label {background-color: #d4ebff;}#sk-container-id-2 div.sk-label input.sk-toggleable__control:checked~label.sk-toggleable__label {background-color: #d4ebff;}#sk-container-id-2 input.sk-hidden--visually {border: 0;clip: rect(1px 1px 1px 1px);clip: rect(1px, 1px, 1px, 1px);height: 1px;margin: -1px;overflow: hidden;padding: 0;position: absolute;width: 1px;}#sk-container-id-2 div.sk-estimator {font-family: monospace;background-color: #f0f8ff;border: 1px dotted black;border-radius: 0.25em;box-sizing: border-box;margin-bottom: 0.5em;}#sk-container-id-2 div.sk-estimator:hover {background-color: #d4ebff;}#sk-container-id-2 div.sk-parallel-item::after {content: \"\";width: 100%;border-bottom: 1px solid gray;flex-grow: 1;}#sk-container-id-2 div.sk-label:hover label.sk-toggleable__label {background-color: #d4ebff;}#sk-container-id-2 div.sk-serial::before {content: \"\";position: absolute;border-left: 1px solid gray;box-sizing: border-box;top: 0;bottom: 0;left: 50%;z-index: 0;}#sk-container-id-2 div.sk-serial {display: flex;flex-direction: column;align-items: center;background-color: white;padding-right: 0.2em;padding-left: 0.2em;position: relative;}#sk-container-id-2 div.sk-item {position: relative;z-index: 1;}#sk-container-id-2 div.sk-parallel {display: flex;align-items: stretch;justify-content: center;background-color: white;position: relative;}#sk-container-id-2 div.sk-item::before, #sk-container-id-2 div.sk-parallel-item::before {content: \"\";position: absolute;border-left: 1px solid gray;box-sizing: border-box;top: 0;bottom: 0;left: 50%;z-index: -1;}#sk-container-id-2 div.sk-parallel-item {display: flex;flex-direction: column;z-index: 1;position: relative;background-color: white;}#sk-container-id-2 div.sk-parallel-item:first-child::after {align-self: flex-end;width: 50%;}#sk-container-id-2 div.sk-parallel-item:last-child::after {align-self: flex-start;width: 50%;}#sk-container-id-2 div.sk-parallel-item:only-child::after {width: 0;}#sk-container-id-2 div.sk-dashed-wrapped {border: 1px dashed gray;margin: 0 0.4em 0.5em 0.4em;box-sizing: border-box;padding-bottom: 0.4em;background-color: white;}#sk-container-id-2 div.sk-label label {font-family: monospace;font-weight: bold;display: inline-block;line-height: 1.2em;}#sk-container-id-2 div.sk-label-container {text-align: center;}#sk-container-id-2 div.sk-container {/* jupyter's `normalize.less` sets `[hidden] { display: none; }` but bootstrap.min.css set `[hidden] { display: none !important; }` so we also need the `!important` here to be able to override the default hidden behavior on the sphinx rendered scikit-learn.org. See: https://github.com/scikit-learn/scikit-learn/issues/21755 */display: inline-block !important;position: relative;}#sk-container-id-2 div.sk-text-repr-fallback {display: none;}</style><div id=\"sk-container-id-2\" class=\"sk-top-container\"><div class=\"sk-text-repr-fallback\"><pre>GridSearchCV(cv=StratifiedKFold(n_splits=5, random_state=None, shuffle=False),\n",
       "             estimator=LogisticRegression(),\n",
       "             param_grid={&#x27;C&#x27;: [100, 10, 1, 50],\n",
       "                         &#x27;penalty&#x27;: [&#x27;l1&#x27;, &#x27;l2&#x27;, &#x27;elasticnet&#x27;],\n",
       "                         &#x27;solver&#x27;: [&#x27;liblinear&#x27;, &#x27;newton-cg&#x27;, &#x27;newton-cholesky&#x27;,\n",
       "                                    &#x27;sag&#x27;, &#x27;saga&#x27;]},\n",
       "             scoring=&#x27;accuracy&#x27;)</pre><b>In a Jupyter environment, please rerun this cell to show the HTML representation or trust the notebook. <br />On GitHub, the HTML representation is unable to render, please try loading this page with nbviewer.org.</b></div><div class=\"sk-container\" hidden><div class=\"sk-item sk-dashed-wrapped\"><div class=\"sk-label-container\"><div class=\"sk-label sk-toggleable\"><input class=\"sk-toggleable__control sk-hidden--visually\" id=\"sk-estimator-id-2\" type=\"checkbox\" ><label for=\"sk-estimator-id-2\" class=\"sk-toggleable__label sk-toggleable__label-arrow\">GridSearchCV</label><div class=\"sk-toggleable__content\"><pre>GridSearchCV(cv=StratifiedKFold(n_splits=5, random_state=None, shuffle=False),\n",
       "             estimator=LogisticRegression(),\n",
       "             param_grid={&#x27;C&#x27;: [100, 10, 1, 50],\n",
       "                         &#x27;penalty&#x27;: [&#x27;l1&#x27;, &#x27;l2&#x27;, &#x27;elasticnet&#x27;],\n",
       "                         &#x27;solver&#x27;: [&#x27;liblinear&#x27;, &#x27;newton-cg&#x27;, &#x27;newton-cholesky&#x27;,\n",
       "                                    &#x27;sag&#x27;, &#x27;saga&#x27;]},\n",
       "             scoring=&#x27;accuracy&#x27;)</pre></div></div></div><div class=\"sk-parallel\"><div class=\"sk-parallel-item\"><div class=\"sk-item\"><div class=\"sk-label-container\"><div class=\"sk-label sk-toggleable\"><input class=\"sk-toggleable__control sk-hidden--visually\" id=\"sk-estimator-id-3\" type=\"checkbox\" ><label for=\"sk-estimator-id-3\" class=\"sk-toggleable__label sk-toggleable__label-arrow\">estimator: LogisticRegression</label><div class=\"sk-toggleable__content\"><pre>LogisticRegression()</pre></div></div></div><div class=\"sk-serial\"><div class=\"sk-item\"><div class=\"sk-estimator sk-toggleable\"><input class=\"sk-toggleable__control sk-hidden--visually\" id=\"sk-estimator-id-4\" type=\"checkbox\" ><label for=\"sk-estimator-id-4\" class=\"sk-toggleable__label sk-toggleable__label-arrow\">LogisticRegression</label><div class=\"sk-toggleable__content\"><pre>LogisticRegression()</pre></div></div></div></div></div></div></div></div></div></div>"
      ],
      "text/plain": [
       "GridSearchCV(cv=StratifiedKFold(n_splits=5, random_state=None, shuffle=False),\n",
       "             estimator=LogisticRegression(),\n",
       "             param_grid={'C': [100, 10, 1, 50],\n",
       "                         'penalty': ['l1', 'l2', 'elasticnet'],\n",
       "                         'solver': ['liblinear', 'newton-cg', 'newton-cholesky',\n",
       "                                    'sag', 'saga']},\n",
       "             scoring='accuracy')"
      ]
     },
     "execution_count": 20,
     "metadata": {},
     "output_type": "execute_result"
    }
   ],
   "source": [
    "from sklearn.model_selection import GridSearchCV\n",
    "grid = GridSearchCV(estimator=log, cv=cv, param_grid=params, scoring='accuracy')\n",
    "grid.fit(X_train, y_train)"
   ]
  },
  {
   "cell_type": "code",
   "execution_count": 21,
   "id": "e44d8f0d",
   "metadata": {},
   "outputs": [
    {
     "data": {
      "text/html": [
       "<style>#sk-container-id-3 {color: black;}#sk-container-id-3 pre{padding: 0;}#sk-container-id-3 div.sk-toggleable {background-color: white;}#sk-container-id-3 label.sk-toggleable__label {cursor: pointer;display: block;width: 100%;margin-bottom: 0;padding: 0.3em;box-sizing: border-box;text-align: center;}#sk-container-id-3 label.sk-toggleable__label-arrow:before {content: \"▸\";float: left;margin-right: 0.25em;color: #696969;}#sk-container-id-3 label.sk-toggleable__label-arrow:hover:before {color: black;}#sk-container-id-3 div.sk-estimator:hover label.sk-toggleable__label-arrow:before {color: black;}#sk-container-id-3 div.sk-toggleable__content {max-height: 0;max-width: 0;overflow: hidden;text-align: left;background-color: #f0f8ff;}#sk-container-id-3 div.sk-toggleable__content pre {margin: 0.2em;color: black;border-radius: 0.25em;background-color: #f0f8ff;}#sk-container-id-3 input.sk-toggleable__control:checked~div.sk-toggleable__content {max-height: 200px;max-width: 100%;overflow: auto;}#sk-container-id-3 input.sk-toggleable__control:checked~label.sk-toggleable__label-arrow:before {content: \"▾\";}#sk-container-id-3 div.sk-estimator input.sk-toggleable__control:checked~label.sk-toggleable__label {background-color: #d4ebff;}#sk-container-id-3 div.sk-label input.sk-toggleable__control:checked~label.sk-toggleable__label {background-color: #d4ebff;}#sk-container-id-3 input.sk-hidden--visually {border: 0;clip: rect(1px 1px 1px 1px);clip: rect(1px, 1px, 1px, 1px);height: 1px;margin: -1px;overflow: hidden;padding: 0;position: absolute;width: 1px;}#sk-container-id-3 div.sk-estimator {font-family: monospace;background-color: #f0f8ff;border: 1px dotted black;border-radius: 0.25em;box-sizing: border-box;margin-bottom: 0.5em;}#sk-container-id-3 div.sk-estimator:hover {background-color: #d4ebff;}#sk-container-id-3 div.sk-parallel-item::after {content: \"\";width: 100%;border-bottom: 1px solid gray;flex-grow: 1;}#sk-container-id-3 div.sk-label:hover label.sk-toggleable__label {background-color: #d4ebff;}#sk-container-id-3 div.sk-serial::before {content: \"\";position: absolute;border-left: 1px solid gray;box-sizing: border-box;top: 0;bottom: 0;left: 50%;z-index: 0;}#sk-container-id-3 div.sk-serial {display: flex;flex-direction: column;align-items: center;background-color: white;padding-right: 0.2em;padding-left: 0.2em;position: relative;}#sk-container-id-3 div.sk-item {position: relative;z-index: 1;}#sk-container-id-3 div.sk-parallel {display: flex;align-items: stretch;justify-content: center;background-color: white;position: relative;}#sk-container-id-3 div.sk-item::before, #sk-container-id-3 div.sk-parallel-item::before {content: \"\";position: absolute;border-left: 1px solid gray;box-sizing: border-box;top: 0;bottom: 0;left: 50%;z-index: -1;}#sk-container-id-3 div.sk-parallel-item {display: flex;flex-direction: column;z-index: 1;position: relative;background-color: white;}#sk-container-id-3 div.sk-parallel-item:first-child::after {align-self: flex-end;width: 50%;}#sk-container-id-3 div.sk-parallel-item:last-child::after {align-self: flex-start;width: 50%;}#sk-container-id-3 div.sk-parallel-item:only-child::after {width: 0;}#sk-container-id-3 div.sk-dashed-wrapped {border: 1px dashed gray;margin: 0 0.4em 0.5em 0.4em;box-sizing: border-box;padding-bottom: 0.4em;background-color: white;}#sk-container-id-3 div.sk-label label {font-family: monospace;font-weight: bold;display: inline-block;line-height: 1.2em;}#sk-container-id-3 div.sk-label-container {text-align: center;}#sk-container-id-3 div.sk-container {/* jupyter's `normalize.less` sets `[hidden] { display: none; }` but bootstrap.min.css set `[hidden] { display: none !important; }` so we also need the `!important` here to be able to override the default hidden behavior on the sphinx rendered scikit-learn.org. See: https://github.com/scikit-learn/scikit-learn/issues/21755 */display: inline-block !important;position: relative;}#sk-container-id-3 div.sk-text-repr-fallback {display: none;}</style><div id=\"sk-container-id-3\" class=\"sk-top-container\"><div class=\"sk-text-repr-fallback\"><pre>GridSearchCV(cv=StratifiedKFold(n_splits=5, random_state=None, shuffle=False),\n",
       "             estimator=LogisticRegression(),\n",
       "             param_grid={&#x27;C&#x27;: [100, 10, 1, 50],\n",
       "                         &#x27;penalty&#x27;: [&#x27;l1&#x27;, &#x27;l2&#x27;, &#x27;elasticnet&#x27;],\n",
       "                         &#x27;solver&#x27;: [&#x27;liblinear&#x27;, &#x27;newton-cg&#x27;, &#x27;newton-cholesky&#x27;,\n",
       "                                    &#x27;sag&#x27;, &#x27;saga&#x27;]},\n",
       "             scoring=&#x27;accuracy&#x27;)</pre><b>In a Jupyter environment, please rerun this cell to show the HTML representation or trust the notebook. <br />On GitHub, the HTML representation is unable to render, please try loading this page with nbviewer.org.</b></div><div class=\"sk-container\" hidden><div class=\"sk-item sk-dashed-wrapped\"><div class=\"sk-label-container\"><div class=\"sk-label sk-toggleable\"><input class=\"sk-toggleable__control sk-hidden--visually\" id=\"sk-estimator-id-5\" type=\"checkbox\" ><label for=\"sk-estimator-id-5\" class=\"sk-toggleable__label sk-toggleable__label-arrow\">GridSearchCV</label><div class=\"sk-toggleable__content\"><pre>GridSearchCV(cv=StratifiedKFold(n_splits=5, random_state=None, shuffle=False),\n",
       "             estimator=LogisticRegression(),\n",
       "             param_grid={&#x27;C&#x27;: [100, 10, 1, 50],\n",
       "                         &#x27;penalty&#x27;: [&#x27;l1&#x27;, &#x27;l2&#x27;, &#x27;elasticnet&#x27;],\n",
       "                         &#x27;solver&#x27;: [&#x27;liblinear&#x27;, &#x27;newton-cg&#x27;, &#x27;newton-cholesky&#x27;,\n",
       "                                    &#x27;sag&#x27;, &#x27;saga&#x27;]},\n",
       "             scoring=&#x27;accuracy&#x27;)</pre></div></div></div><div class=\"sk-parallel\"><div class=\"sk-parallel-item\"><div class=\"sk-item\"><div class=\"sk-label-container\"><div class=\"sk-label sk-toggleable\"><input class=\"sk-toggleable__control sk-hidden--visually\" id=\"sk-estimator-id-6\" type=\"checkbox\" ><label for=\"sk-estimator-id-6\" class=\"sk-toggleable__label sk-toggleable__label-arrow\">estimator: LogisticRegression</label><div class=\"sk-toggleable__content\"><pre>LogisticRegression()</pre></div></div></div><div class=\"sk-serial\"><div class=\"sk-item\"><div class=\"sk-estimator sk-toggleable\"><input class=\"sk-toggleable__control sk-hidden--visually\" id=\"sk-estimator-id-7\" type=\"checkbox\" ><label for=\"sk-estimator-id-7\" class=\"sk-toggleable__label sk-toggleable__label-arrow\">LogisticRegression</label><div class=\"sk-toggleable__content\"><pre>LogisticRegression()</pre></div></div></div></div></div></div></div></div></div></div>"
      ],
      "text/plain": [
       "GridSearchCV(cv=StratifiedKFold(n_splits=5, random_state=None, shuffle=False),\n",
       "             estimator=LogisticRegression(),\n",
       "             param_grid={'C': [100, 10, 1, 50],\n",
       "                         'penalty': ['l1', 'l2', 'elasticnet'],\n",
       "                         'solver': ['liblinear', 'newton-cg', 'newton-cholesky',\n",
       "                                    'sag', 'saga']},\n",
       "             scoring='accuracy')"
      ]
     },
     "execution_count": 21,
     "metadata": {},
     "output_type": "execute_result"
    }
   ],
   "source": [
    "grid"
   ]
  },
  {
   "cell_type": "code",
   "execution_count": 22,
   "id": "f26573de",
   "metadata": {},
   "outputs": [
    {
     "data": {
      "text/plain": [
       "(array([[-1.01232181,  0.28123049, -0.87512274, ...,  1.15469377,\n",
       "          1.18259881, -1.27036205],\n",
       "        [-0.02101069,  0.74744497, -0.03870931, ..., -0.10435845,\n",
       "         -0.04258589,  0.45015563],\n",
       "        [ 0.37607013,  0.33385997,  0.24958079, ..., -1.31221919,\n",
       "         -0.68607663,  1.08176673],\n",
       "        ...,\n",
       "        [ 0.04091467,  0.42796263, -0.00235298, ..., -1.92277177,\n",
       "         -0.17104772,  1.63925652],\n",
       "        [ 0.3393792 , -0.64015446,  0.25253995, ..., -1.39922826,\n",
       "         -0.52991248, -0.7348109 ],\n",
       "        [ 1.84815207, -0.31305803,  1.78069642, ...,  0.60451533,\n",
       "         -1.56102804, -1.25040773]]),\n",
       " array([1, 1, 0, 0, 0, 1, 1, 1, 1, 0, 1, 1, 1, 1, 0, 0, 0, 1, 1, 0, 0, 1,\n",
       "        0, 0, 0, 0, 1, 1, 0, 1, 1, 0, 1, 0, 1, 1, 1, 0, 0, 1, 0, 1, 1, 0,\n",
       "        0, 1, 1, 1, 1, 0, 0, 0, 1, 1, 0, 1, 0, 1, 1, 1, 0, 0, 1, 0, 1, 0,\n",
       "        0, 0, 0, 0, 0, 0, 1, 1, 1, 0, 0, 1, 1, 0, 0, 1, 0, 0, 0, 1, 1, 0,\n",
       "        1, 1, 1, 0, 0, 1, 0, 0, 1, 0, 0, 0, 0, 1, 1, 1, 1, 0, 1, 1, 1, 0,\n",
       "        0, 1, 1, 1, 1, 1, 0, 1, 1, 0, 1, 1, 1, 1, 0, 0, 0, 1, 1, 0, 1, 0,\n",
       "        0, 0, 0, 1, 1, 0, 0, 0, 0, 1, 1, 1, 0, 0, 0, 0, 0, 0, 0, 0, 0, 0,\n",
       "        0, 1, 0, 1, 0, 1, 1, 1, 0, 0, 0, 0, 1, 1, 0, 0, 1, 1, 0, 1, 1, 0,\n",
       "        1, 1, 1, 0, 1, 1, 0, 0, 1, 0, 0, 0, 0, 1, 0, 1, 0, 1, 0, 1, 0, 0,\n",
       "        1, 0, 1, 1, 0, 0, 1, 0, 0, 1, 1, 1, 0, 0, 1, 0, 1, 0, 0, 0, 0, 0,\n",
       "        0, 0, 1, 1, 0, 0, 1, 0, 1, 0, 1, 1, 1, 0, 1, 1, 0, 0, 1, 1, 0, 1,\n",
       "        0, 0, 0, 0, 1, 1, 1, 0, 1, 1, 0, 1, 0, 0, 1, 1, 1, 0, 1, 1, 1, 1,\n",
       "        1, 1, 1, 1, 0, 1, 1, 0, 1, 1, 1, 0, 0, 0, 0, 0, 1, 1, 0, 1, 0, 1,\n",
       "        1, 1, 1, 0, 1, 0, 1, 1, 0, 0, 0, 0, 1, 1, 1, 1, 1, 1, 0, 0, 0, 1,\n",
       "        0, 1, 0, 0, 0, 1, 0, 0, 0, 0, 1, 1, 1, 1, 0, 1, 1, 0, 1, 0, 1, 0,\n",
       "        0, 1, 1, 0, 0, 1, 1, 0, 1, 0, 1, 1, 0, 0, 0, 0, 1, 0, 0, 0, 1, 1,\n",
       "        1, 1, 1, 0, 0, 0, 0, 0, 1, 1, 0, 1, 0, 0, 1, 0, 1, 0, 1, 1, 0, 1,\n",
       "        0, 0, 1, 1, 1, 1, 0, 0, 1, 1, 0, 1, 0, 0, 0, 0, 0, 0, 0, 1, 0, 1,\n",
       "        0, 0, 1, 0, 0, 0, 1, 0, 1, 1, 0, 0, 0, 1, 1, 1, 0, 0, 1, 1, 0, 1,\n",
       "        1, 0, 0, 0, 1, 1, 0, 0, 0, 0, 0, 1, 1, 0, 0, 1, 0, 0, 0, 1, 0, 0,\n",
       "        1, 1, 0, 1, 0, 1, 0, 1, 1, 1, 1, 0, 1, 0, 1, 1, 1, 1, 0, 0, 0, 0,\n",
       "        0, 0, 0, 0, 1, 0, 0, 1, 1, 0, 0, 0, 1, 0, 0, 1, 0, 0, 1, 0, 0, 0,\n",
       "        1, 0, 1, 0, 0, 0, 0, 1, 0, 0, 1, 1, 0, 0, 1, 0, 1, 1, 1, 1, 0, 1,\n",
       "        1, 1, 0, 1, 1, 0, 1, 1, 1, 0, 1, 0, 1, 1, 1, 0, 0, 1, 0, 1, 1, 1,\n",
       "        1, 0, 0, 1, 1, 0, 0, 0, 1, 0, 0, 0, 1, 0, 0, 1, 1, 0, 1, 0, 0, 1,\n",
       "        0, 1, 1, 1, 0, 0, 1, 1, 0, 0, 1, 1, 0, 1, 0, 0, 1, 0, 0, 1, 1, 1,\n",
       "        1, 1, 0, 0, 0, 0, 0, 1, 0, 0, 1, 1, 1, 1, 1, 0, 1, 0, 0, 0, 0, 0,\n",
       "        0, 1, 0, 1, 1, 1, 0, 1, 1, 0, 0, 0, 1, 1, 0, 0, 0, 0, 1, 1, 0, 1,\n",
       "        1, 0, 1, 0, 1, 0, 1, 1, 0, 1, 1, 0, 1, 1, 0, 0, 0, 1, 0, 0, 0, 0,\n",
       "        1, 0, 0, 1, 1, 0, 0, 0, 0, 1, 1, 1, 0, 1, 0, 0, 1, 1, 1, 0, 0, 0,\n",
       "        0, 0, 1, 0, 0, 1, 0, 0, 1, 1, 0, 0, 0, 0, 0, 0, 1, 0, 1, 0, 0, 0,\n",
       "        0, 1, 1, 0, 1, 1, 1, 0, 0, 1, 0, 1, 1, 1, 1, 1, 0, 1, 1, 1, 1, 1,\n",
       "        1, 0, 1, 0, 1, 0, 1, 1, 1, 1, 0, 0, 1, 0, 1, 0, 1, 0, 0, 0, 0, 0,\n",
       "        0, 1, 0, 0, 0, 1, 0, 1, 0, 1, 1, 0, 1, 0, 1, 1, 0, 0, 0, 0, 1, 1,\n",
       "        1, 0]))"
      ]
     },
     "execution_count": 22,
     "metadata": {},
     "output_type": "execute_result"
    }
   ],
   "source": [
    "X_train,y_train"
   ]
  },
  {
   "cell_type": "code",
   "execution_count": 23,
   "id": "0fc5af20",
   "metadata": {},
   "outputs": [
    {
     "name": "stderr",
     "output_type": "stream",
     "text": [
      "c:\\Users\\Acer\\OneDrive\\Desktop\\supervied\\venv\\lib\\site-packages\\sklearn\\linear_model\\_sag.py:350: ConvergenceWarning: The max_iter was reached which means the coef_ did not converge\n",
      "  warnings.warn(\n",
      "c:\\Users\\Acer\\OneDrive\\Desktop\\supervied\\venv\\lib\\site-packages\\sklearn\\linear_model\\_sag.py:350: ConvergenceWarning: The max_iter was reached which means the coef_ did not converge\n",
      "  warnings.warn(\n",
      "c:\\Users\\Acer\\OneDrive\\Desktop\\supervied\\venv\\lib\\site-packages\\sklearn\\linear_model\\_sag.py:350: ConvergenceWarning: The max_iter was reached which means the coef_ did not converge\n",
      "  warnings.warn(\n",
      "c:\\Users\\Acer\\OneDrive\\Desktop\\supervied\\venv\\lib\\site-packages\\sklearn\\linear_model\\_sag.py:350: ConvergenceWarning: The max_iter was reached which means the coef_ did not converge\n",
      "  warnings.warn(\n",
      "c:\\Users\\Acer\\OneDrive\\Desktop\\supervied\\venv\\lib\\site-packages\\sklearn\\linear_model\\_sag.py:350: ConvergenceWarning: The max_iter was reached which means the coef_ did not converge\n",
      "  warnings.warn(\n",
      "c:\\Users\\Acer\\OneDrive\\Desktop\\supervied\\venv\\lib\\site-packages\\sklearn\\linear_model\\_sag.py:350: ConvergenceWarning: The max_iter was reached which means the coef_ did not converge\n",
      "  warnings.warn(\n",
      "c:\\Users\\Acer\\OneDrive\\Desktop\\supervied\\venv\\lib\\site-packages\\sklearn\\linear_model\\_sag.py:350: ConvergenceWarning: The max_iter was reached which means the coef_ did not converge\n",
      "  warnings.warn(\n",
      "c:\\Users\\Acer\\OneDrive\\Desktop\\supervied\\venv\\lib\\site-packages\\sklearn\\linear_model\\_sag.py:350: ConvergenceWarning: The max_iter was reached which means the coef_ did not converge\n",
      "  warnings.warn(\n",
      "c:\\Users\\Acer\\OneDrive\\Desktop\\supervied\\venv\\lib\\site-packages\\sklearn\\linear_model\\_sag.py:350: ConvergenceWarning: The max_iter was reached which means the coef_ did not converge\n",
      "  warnings.warn(\n",
      "c:\\Users\\Acer\\OneDrive\\Desktop\\supervied\\venv\\lib\\site-packages\\sklearn\\linear_model\\_sag.py:350: ConvergenceWarning: The max_iter was reached which means the coef_ did not converge\n",
      "  warnings.warn(\n",
      "c:\\Users\\Acer\\OneDrive\\Desktop\\supervied\\venv\\lib\\site-packages\\sklearn\\linear_model\\_sag.py:350: ConvergenceWarning: The max_iter was reached which means the coef_ did not converge\n",
      "  warnings.warn(\n",
      "c:\\Users\\Acer\\OneDrive\\Desktop\\supervied\\venv\\lib\\site-packages\\sklearn\\linear_model\\_sag.py:350: ConvergenceWarning: The max_iter was reached which means the coef_ did not converge\n",
      "  warnings.warn(\n",
      "c:\\Users\\Acer\\OneDrive\\Desktop\\supervied\\venv\\lib\\site-packages\\sklearn\\linear_model\\_sag.py:350: ConvergenceWarning: The max_iter was reached which means the coef_ did not converge\n",
      "  warnings.warn(\n",
      "c:\\Users\\Acer\\OneDrive\\Desktop\\supervied\\venv\\lib\\site-packages\\sklearn\\linear_model\\_sag.py:350: ConvergenceWarning: The max_iter was reached which means the coef_ did not converge\n",
      "  warnings.warn(\n",
      "c:\\Users\\Acer\\OneDrive\\Desktop\\supervied\\venv\\lib\\site-packages\\sklearn\\linear_model\\_sag.py:350: ConvergenceWarning: The max_iter was reached which means the coef_ did not converge\n",
      "  warnings.warn(\n",
      "c:\\Users\\Acer\\OneDrive\\Desktop\\supervied\\venv\\lib\\site-packages\\sklearn\\model_selection\\_validation.py:425: FitFailedWarning: \n",
      "160 fits failed out of a total of 300.\n",
      "The score on these train-test partitions for these parameters will be set to nan.\n",
      "If these failures are not expected, you can try to debug them by setting error_score='raise'.\n",
      "\n",
      "Below are more details about the failures:\n",
      "--------------------------------------------------------------------------------\n",
      "20 fits failed with the following error:\n",
      "Traceback (most recent call last):\n",
      "  File \"c:\\Users\\Acer\\OneDrive\\Desktop\\supervied\\venv\\lib\\site-packages\\sklearn\\model_selection\\_validation.py\", line 729, in _fit_and_score\n",
      "    estimator.fit(X_train, y_train, **fit_params)\n",
      "  File \"c:\\Users\\Acer\\OneDrive\\Desktop\\supervied\\venv\\lib\\site-packages\\sklearn\\base.py\", line 1152, in wrapper\n",
      "    return fit_method(estimator, *args, **kwargs)\n",
      "  File \"c:\\Users\\Acer\\OneDrive\\Desktop\\supervied\\venv\\lib\\site-packages\\sklearn\\linear_model\\_logistic.py\", line 1169, in fit\n",
      "    solver = _check_solver(self.solver, self.penalty, self.dual)\n",
      "  File \"c:\\Users\\Acer\\OneDrive\\Desktop\\supervied\\venv\\lib\\site-packages\\sklearn\\linear_model\\_logistic.py\", line 56, in _check_solver\n",
      "    raise ValueError(\n",
      "ValueError: Solver newton-cg supports only 'l2' or 'none' penalties, got l1 penalty.\n",
      "\n",
      "--------------------------------------------------------------------------------\n",
      "20 fits failed with the following error:\n",
      "Traceback (most recent call last):\n",
      "  File \"c:\\Users\\Acer\\OneDrive\\Desktop\\supervied\\venv\\lib\\site-packages\\sklearn\\model_selection\\_validation.py\", line 729, in _fit_and_score\n",
      "    estimator.fit(X_train, y_train, **fit_params)\n",
      "  File \"c:\\Users\\Acer\\OneDrive\\Desktop\\supervied\\venv\\lib\\site-packages\\sklearn\\base.py\", line 1152, in wrapper\n",
      "    return fit_method(estimator, *args, **kwargs)\n",
      "  File \"c:\\Users\\Acer\\OneDrive\\Desktop\\supervied\\venv\\lib\\site-packages\\sklearn\\linear_model\\_logistic.py\", line 1169, in fit\n",
      "    solver = _check_solver(self.solver, self.penalty, self.dual)\n",
      "  File \"c:\\Users\\Acer\\OneDrive\\Desktop\\supervied\\venv\\lib\\site-packages\\sklearn\\linear_model\\_logistic.py\", line 56, in _check_solver\n",
      "    raise ValueError(\n",
      "ValueError: Solver newton-cholesky supports only 'l2' or 'none' penalties, got l1 penalty.\n",
      "\n",
      "--------------------------------------------------------------------------------\n",
      "20 fits failed with the following error:\n",
      "Traceback (most recent call last):\n",
      "  File \"c:\\Users\\Acer\\OneDrive\\Desktop\\supervied\\venv\\lib\\site-packages\\sklearn\\model_selection\\_validation.py\", line 729, in _fit_and_score\n",
      "    estimator.fit(X_train, y_train, **fit_params)\n",
      "  File \"c:\\Users\\Acer\\OneDrive\\Desktop\\supervied\\venv\\lib\\site-packages\\sklearn\\base.py\", line 1152, in wrapper\n",
      "    return fit_method(estimator, *args, **kwargs)\n",
      "  File \"c:\\Users\\Acer\\OneDrive\\Desktop\\supervied\\venv\\lib\\site-packages\\sklearn\\linear_model\\_logistic.py\", line 1169, in fit\n",
      "    solver = _check_solver(self.solver, self.penalty, self.dual)\n",
      "  File \"c:\\Users\\Acer\\OneDrive\\Desktop\\supervied\\venv\\lib\\site-packages\\sklearn\\linear_model\\_logistic.py\", line 56, in _check_solver\n",
      "    raise ValueError(\n",
      "ValueError: Solver sag supports only 'l2' or 'none' penalties, got l1 penalty.\n",
      "\n",
      "--------------------------------------------------------------------------------\n",
      "20 fits failed with the following error:\n",
      "Traceback (most recent call last):\n",
      "  File \"c:\\Users\\Acer\\OneDrive\\Desktop\\supervied\\venv\\lib\\site-packages\\sklearn\\model_selection\\_validation.py\", line 729, in _fit_and_score\n",
      "    estimator.fit(X_train, y_train, **fit_params)\n",
      "  File \"c:\\Users\\Acer\\OneDrive\\Desktop\\supervied\\venv\\lib\\site-packages\\sklearn\\base.py\", line 1152, in wrapper\n",
      "    return fit_method(estimator, *args, **kwargs)\n",
      "  File \"c:\\Users\\Acer\\OneDrive\\Desktop\\supervied\\venv\\lib\\site-packages\\sklearn\\linear_model\\_logistic.py\", line 1169, in fit\n",
      "    solver = _check_solver(self.solver, self.penalty, self.dual)\n",
      "  File \"c:\\Users\\Acer\\OneDrive\\Desktop\\supervied\\venv\\lib\\site-packages\\sklearn\\linear_model\\_logistic.py\", line 66, in _check_solver\n",
      "    raise ValueError(\n",
      "ValueError: Only 'saga' solver supports elasticnet penalty, got solver=liblinear.\n",
      "\n",
      "--------------------------------------------------------------------------------\n",
      "20 fits failed with the following error:\n",
      "Traceback (most recent call last):\n",
      "  File \"c:\\Users\\Acer\\OneDrive\\Desktop\\supervied\\venv\\lib\\site-packages\\sklearn\\model_selection\\_validation.py\", line 729, in _fit_and_score\n",
      "    estimator.fit(X_train, y_train, **fit_params)\n",
      "  File \"c:\\Users\\Acer\\OneDrive\\Desktop\\supervied\\venv\\lib\\site-packages\\sklearn\\base.py\", line 1152, in wrapper\n",
      "    return fit_method(estimator, *args, **kwargs)\n",
      "  File \"c:\\Users\\Acer\\OneDrive\\Desktop\\supervied\\venv\\lib\\site-packages\\sklearn\\linear_model\\_logistic.py\", line 1169, in fit\n",
      "    solver = _check_solver(self.solver, self.penalty, self.dual)\n",
      "  File \"c:\\Users\\Acer\\OneDrive\\Desktop\\supervied\\venv\\lib\\site-packages\\sklearn\\linear_model\\_logistic.py\", line 56, in _check_solver\n",
      "    raise ValueError(\n",
      "ValueError: Solver newton-cg supports only 'l2' or 'none' penalties, got elasticnet penalty.\n",
      "\n",
      "--------------------------------------------------------------------------------\n",
      "20 fits failed with the following error:\n",
      "Traceback (most recent call last):\n",
      "  File \"c:\\Users\\Acer\\OneDrive\\Desktop\\supervied\\venv\\lib\\site-packages\\sklearn\\model_selection\\_validation.py\", line 729, in _fit_and_score\n",
      "    estimator.fit(X_train, y_train, **fit_params)\n",
      "  File \"c:\\Users\\Acer\\OneDrive\\Desktop\\supervied\\venv\\lib\\site-packages\\sklearn\\base.py\", line 1152, in wrapper\n",
      "    return fit_method(estimator, *args, **kwargs)\n",
      "  File \"c:\\Users\\Acer\\OneDrive\\Desktop\\supervied\\venv\\lib\\site-packages\\sklearn\\linear_model\\_logistic.py\", line 1169, in fit\n",
      "    solver = _check_solver(self.solver, self.penalty, self.dual)\n",
      "  File \"c:\\Users\\Acer\\OneDrive\\Desktop\\supervied\\venv\\lib\\site-packages\\sklearn\\linear_model\\_logistic.py\", line 56, in _check_solver\n",
      "    raise ValueError(\n",
      "ValueError: Solver newton-cholesky supports only 'l2' or 'none' penalties, got elasticnet penalty.\n",
      "\n",
      "--------------------------------------------------------------------------------\n",
      "20 fits failed with the following error:\n",
      "Traceback (most recent call last):\n",
      "  File \"c:\\Users\\Acer\\OneDrive\\Desktop\\supervied\\venv\\lib\\site-packages\\sklearn\\model_selection\\_validation.py\", line 729, in _fit_and_score\n",
      "    estimator.fit(X_train, y_train, **fit_params)\n",
      "  File \"c:\\Users\\Acer\\OneDrive\\Desktop\\supervied\\venv\\lib\\site-packages\\sklearn\\base.py\", line 1152, in wrapper\n",
      "    return fit_method(estimator, *args, **kwargs)\n",
      "  File \"c:\\Users\\Acer\\OneDrive\\Desktop\\supervied\\venv\\lib\\site-packages\\sklearn\\linear_model\\_logistic.py\", line 1169, in fit\n",
      "    solver = _check_solver(self.solver, self.penalty, self.dual)\n",
      "  File \"c:\\Users\\Acer\\OneDrive\\Desktop\\supervied\\venv\\lib\\site-packages\\sklearn\\linear_model\\_logistic.py\", line 56, in _check_solver\n",
      "    raise ValueError(\n",
      "ValueError: Solver sag supports only 'l2' or 'none' penalties, got elasticnet penalty.\n",
      "\n",
      "--------------------------------------------------------------------------------\n",
      "20 fits failed with the following error:\n",
      "Traceback (most recent call last):\n",
      "  File \"c:\\Users\\Acer\\OneDrive\\Desktop\\supervied\\venv\\lib\\site-packages\\sklearn\\model_selection\\_validation.py\", line 729, in _fit_and_score\n",
      "    estimator.fit(X_train, y_train, **fit_params)\n",
      "  File \"c:\\Users\\Acer\\OneDrive\\Desktop\\supervied\\venv\\lib\\site-packages\\sklearn\\base.py\", line 1152, in wrapper\n",
      "    return fit_method(estimator, *args, **kwargs)\n",
      "  File \"c:\\Users\\Acer\\OneDrive\\Desktop\\supervied\\venv\\lib\\site-packages\\sklearn\\linear_model\\_logistic.py\", line 1179, in fit\n",
      "    raise ValueError(\"l1_ratio must be specified when penalty is elasticnet.\")\n",
      "ValueError: l1_ratio must be specified when penalty is elasticnet.\n",
      "\n",
      "  warnings.warn(some_fits_failed_message, FitFailedWarning)\n",
      "c:\\Users\\Acer\\OneDrive\\Desktop\\supervied\\venv\\lib\\site-packages\\sklearn\\model_selection\\_search.py:979: UserWarning: One or more of the test scores are non-finite: [0.868             nan        nan        nan 0.868      0.868\n",
      " 0.868      0.868      0.868      0.868             nan        nan\n",
      "        nan        nan        nan 0.868             nan        nan\n",
      "        nan 0.868      0.868      0.868      0.868      0.868\n",
      " 0.868             nan        nan        nan        nan        nan\n",
      " 0.86533333        nan        nan        nan 0.868      0.86933333\n",
      " 0.86933333 0.86933333 0.86933333 0.86933333        nan        nan\n",
      "        nan        nan        nan 0.868             nan        nan\n",
      "        nan 0.868      0.868      0.868      0.868      0.868\n",
      " 0.868             nan        nan        nan        nan        nan]\n",
      "  warnings.warn(\n"
     ]
    },
    {
     "data": {
      "text/html": [
       "<style>#sk-container-id-4 {color: black;}#sk-container-id-4 pre{padding: 0;}#sk-container-id-4 div.sk-toggleable {background-color: white;}#sk-container-id-4 label.sk-toggleable__label {cursor: pointer;display: block;width: 100%;margin-bottom: 0;padding: 0.3em;box-sizing: border-box;text-align: center;}#sk-container-id-4 label.sk-toggleable__label-arrow:before {content: \"▸\";float: left;margin-right: 0.25em;color: #696969;}#sk-container-id-4 label.sk-toggleable__label-arrow:hover:before {color: black;}#sk-container-id-4 div.sk-estimator:hover label.sk-toggleable__label-arrow:before {color: black;}#sk-container-id-4 div.sk-toggleable__content {max-height: 0;max-width: 0;overflow: hidden;text-align: left;background-color: #f0f8ff;}#sk-container-id-4 div.sk-toggleable__content pre {margin: 0.2em;color: black;border-radius: 0.25em;background-color: #f0f8ff;}#sk-container-id-4 input.sk-toggleable__control:checked~div.sk-toggleable__content {max-height: 200px;max-width: 100%;overflow: auto;}#sk-container-id-4 input.sk-toggleable__control:checked~label.sk-toggleable__label-arrow:before {content: \"▾\";}#sk-container-id-4 div.sk-estimator input.sk-toggleable__control:checked~label.sk-toggleable__label {background-color: #d4ebff;}#sk-container-id-4 div.sk-label input.sk-toggleable__control:checked~label.sk-toggleable__label {background-color: #d4ebff;}#sk-container-id-4 input.sk-hidden--visually {border: 0;clip: rect(1px 1px 1px 1px);clip: rect(1px, 1px, 1px, 1px);height: 1px;margin: -1px;overflow: hidden;padding: 0;position: absolute;width: 1px;}#sk-container-id-4 div.sk-estimator {font-family: monospace;background-color: #f0f8ff;border: 1px dotted black;border-radius: 0.25em;box-sizing: border-box;margin-bottom: 0.5em;}#sk-container-id-4 div.sk-estimator:hover {background-color: #d4ebff;}#sk-container-id-4 div.sk-parallel-item::after {content: \"\";width: 100%;border-bottom: 1px solid gray;flex-grow: 1;}#sk-container-id-4 div.sk-label:hover label.sk-toggleable__label {background-color: #d4ebff;}#sk-container-id-4 div.sk-serial::before {content: \"\";position: absolute;border-left: 1px solid gray;box-sizing: border-box;top: 0;bottom: 0;left: 50%;z-index: 0;}#sk-container-id-4 div.sk-serial {display: flex;flex-direction: column;align-items: center;background-color: white;padding-right: 0.2em;padding-left: 0.2em;position: relative;}#sk-container-id-4 div.sk-item {position: relative;z-index: 1;}#sk-container-id-4 div.sk-parallel {display: flex;align-items: stretch;justify-content: center;background-color: white;position: relative;}#sk-container-id-4 div.sk-item::before, #sk-container-id-4 div.sk-parallel-item::before {content: \"\";position: absolute;border-left: 1px solid gray;box-sizing: border-box;top: 0;bottom: 0;left: 50%;z-index: -1;}#sk-container-id-4 div.sk-parallel-item {display: flex;flex-direction: column;z-index: 1;position: relative;background-color: white;}#sk-container-id-4 div.sk-parallel-item:first-child::after {align-self: flex-end;width: 50%;}#sk-container-id-4 div.sk-parallel-item:last-child::after {align-self: flex-start;width: 50%;}#sk-container-id-4 div.sk-parallel-item:only-child::after {width: 0;}#sk-container-id-4 div.sk-dashed-wrapped {border: 1px dashed gray;margin: 0 0.4em 0.5em 0.4em;box-sizing: border-box;padding-bottom: 0.4em;background-color: white;}#sk-container-id-4 div.sk-label label {font-family: monospace;font-weight: bold;display: inline-block;line-height: 1.2em;}#sk-container-id-4 div.sk-label-container {text-align: center;}#sk-container-id-4 div.sk-container {/* jupyter's `normalize.less` sets `[hidden] { display: none; }` but bootstrap.min.css set `[hidden] { display: none !important; }` so we also need the `!important` here to be able to override the default hidden behavior on the sphinx rendered scikit-learn.org. See: https://github.com/scikit-learn/scikit-learn/issues/21755 */display: inline-block !important;position: relative;}#sk-container-id-4 div.sk-text-repr-fallback {display: none;}</style><div id=\"sk-container-id-4\" class=\"sk-top-container\"><div class=\"sk-text-repr-fallback\"><pre>GridSearchCV(cv=StratifiedKFold(n_splits=5, random_state=None, shuffle=False),\n",
       "             estimator=LogisticRegression(),\n",
       "             param_grid={&#x27;C&#x27;: [100, 10, 1, 50],\n",
       "                         &#x27;penalty&#x27;: [&#x27;l1&#x27;, &#x27;l2&#x27;, &#x27;elasticnet&#x27;],\n",
       "                         &#x27;solver&#x27;: [&#x27;liblinear&#x27;, &#x27;newton-cg&#x27;, &#x27;newton-cholesky&#x27;,\n",
       "                                    &#x27;sag&#x27;, &#x27;saga&#x27;]},\n",
       "             scoring=&#x27;accuracy&#x27;)</pre><b>In a Jupyter environment, please rerun this cell to show the HTML representation or trust the notebook. <br />On GitHub, the HTML representation is unable to render, please try loading this page with nbviewer.org.</b></div><div class=\"sk-container\" hidden><div class=\"sk-item sk-dashed-wrapped\"><div class=\"sk-label-container\"><div class=\"sk-label sk-toggleable\"><input class=\"sk-toggleable__control sk-hidden--visually\" id=\"sk-estimator-id-8\" type=\"checkbox\" ><label for=\"sk-estimator-id-8\" class=\"sk-toggleable__label sk-toggleable__label-arrow\">GridSearchCV</label><div class=\"sk-toggleable__content\"><pre>GridSearchCV(cv=StratifiedKFold(n_splits=5, random_state=None, shuffle=False),\n",
       "             estimator=LogisticRegression(),\n",
       "             param_grid={&#x27;C&#x27;: [100, 10, 1, 50],\n",
       "                         &#x27;penalty&#x27;: [&#x27;l1&#x27;, &#x27;l2&#x27;, &#x27;elasticnet&#x27;],\n",
       "                         &#x27;solver&#x27;: [&#x27;liblinear&#x27;, &#x27;newton-cg&#x27;, &#x27;newton-cholesky&#x27;,\n",
       "                                    &#x27;sag&#x27;, &#x27;saga&#x27;]},\n",
       "             scoring=&#x27;accuracy&#x27;)</pre></div></div></div><div class=\"sk-parallel\"><div class=\"sk-parallel-item\"><div class=\"sk-item\"><div class=\"sk-label-container\"><div class=\"sk-label sk-toggleable\"><input class=\"sk-toggleable__control sk-hidden--visually\" id=\"sk-estimator-id-9\" type=\"checkbox\" ><label for=\"sk-estimator-id-9\" class=\"sk-toggleable__label sk-toggleable__label-arrow\">estimator: LogisticRegression</label><div class=\"sk-toggleable__content\"><pre>LogisticRegression()</pre></div></div></div><div class=\"sk-serial\"><div class=\"sk-item\"><div class=\"sk-estimator sk-toggleable\"><input class=\"sk-toggleable__control sk-hidden--visually\" id=\"sk-estimator-id-10\" type=\"checkbox\" ><label for=\"sk-estimator-id-10\" class=\"sk-toggleable__label sk-toggleable__label-arrow\">LogisticRegression</label><div class=\"sk-toggleable__content\"><pre>LogisticRegression()</pre></div></div></div></div></div></div></div></div></div></div>"
      ],
      "text/plain": [
       "GridSearchCV(cv=StratifiedKFold(n_splits=5, random_state=None, shuffle=False),\n",
       "             estimator=LogisticRegression(),\n",
       "             param_grid={'C': [100, 10, 1, 50],\n",
       "                         'penalty': ['l1', 'l2', 'elasticnet'],\n",
       "                         'solver': ['liblinear', 'newton-cg', 'newton-cholesky',\n",
       "                                    'sag', 'saga']},\n",
       "             scoring='accuracy')"
      ]
     },
     "execution_count": 23,
     "metadata": {},
     "output_type": "execute_result"
    }
   ],
   "source": [
    "grid.fit(X_train,y_train)"
   ]
  },
  {
   "cell_type": "code",
   "execution_count": 24,
   "id": "6d6d987e",
   "metadata": {},
   "outputs": [
    {
     "data": {
      "text/plain": [
       "{'C': 1, 'penalty': 'l2', 'solver': 'liblinear'}"
      ]
     },
     "execution_count": 24,
     "metadata": {},
     "output_type": "execute_result"
    }
   ],
   "source": [
    "grid.best_params_"
   ]
  },
  {
   "cell_type": "code",
   "execution_count": 25,
   "id": "ead57429",
   "metadata": {},
   "outputs": [
    {
     "data": {
      "text/plain": [
       "0.8693333333333333"
      ]
     },
     "execution_count": 25,
     "metadata": {},
     "output_type": "execute_result"
    }
   ],
   "source": [
    "grid.best_score_"
   ]
  },
  {
   "attachments": {
    "image.png": {
     "image/png": "[encoded data removed]"
    }
   },
   "cell_type": "markdown",
   "id": "c4d382bc",
   "metadata": {},
   "source": [
    "![image.png](attachment:image.png)"
   ]
  },
  {
   "cell_type": "markdown",
   "id": "854256b0",
   "metadata": {},
   "source": [
    "## randomized search cv"
   ]
  },
  {
   "cell_type": "code",
   "execution_count": 26,
   "id": "44592dcc",
   "metadata": {},
   "outputs": [],
   "source": [
    "log=LogisticRegression()\n",
    "penalty=['l1','l2','elasticnet']\n",
    "C=[100,10,1,50]\n",
    "solver= [ 'liblinear', 'newton-cg', 'newton-cholesky', 'sag', 'saga']\n",
    "params=dict(penalty=penalty,C=C,solver=solver)"
   ]
  },
  {
   "cell_type": "code",
   "execution_count": 27,
   "id": "5c790e6e",
   "metadata": {},
   "outputs": [],
   "source": [
    "cv = StratifiedKFold(n_splits=5)"
   ]
  },
  {
   "cell_type": "code",
   "execution_count": 28,
   "id": "f940980a",
   "metadata": {},
   "outputs": [],
   "source": [
    "from sklearn.model_selection import RandomizedSearchCV\n",
    "rancv=RandomizedSearchCV(estimator=log,param_distributions=params,n_iter=10,cv=cv)\n"
   ]
  },
  {
   "cell_type": "code",
   "execution_count": 29,
   "id": "186bcd9b",
   "metadata": {},
   "outputs": [
    {
     "data": {
      "text/html": [
       "<style>#sk-container-id-5 {color: black;}#sk-container-id-5 pre{padding: 0;}#sk-container-id-5 div.sk-toggleable {background-color: white;}#sk-container-id-5 label.sk-toggleable__label {cursor: pointer;display: block;width: 100%;margin-bottom: 0;padding: 0.3em;box-sizing: border-box;text-align: center;}#sk-container-id-5 label.sk-toggleable__label-arrow:before {content: \"▸\";float: left;margin-right: 0.25em;color: #696969;}#sk-container-id-5 label.sk-toggleable__label-arrow:hover:before {color: black;}#sk-container-id-5 div.sk-estimator:hover label.sk-toggleable__label-arrow:before {color: black;}#sk-container-id-5 div.sk-toggleable__content {max-height: 0;max-width: 0;overflow: hidden;text-align: left;background-color: #f0f8ff;}#sk-container-id-5 div.sk-toggleable__content pre {margin: 0.2em;color: black;border-radius: 0.25em;background-color: #f0f8ff;}#sk-container-id-5 input.sk-toggleable__control:checked~div.sk-toggleable__content {max-height: 200px;max-width: 100%;overflow: auto;}#sk-container-id-5 input.sk-toggleable__control:checked~label.sk-toggleable__label-arrow:before {content: \"▾\";}#sk-container-id-5 div.sk-estimator input.sk-toggleable__control:checked~label.sk-toggleable__label {background-color: #d4ebff;}#sk-container-id-5 div.sk-label input.sk-toggleable__control:checked~label.sk-toggleable__label {background-color: #d4ebff;}#sk-container-id-5 input.sk-hidden--visually {border: 0;clip: rect(1px 1px 1px 1px);clip: rect(1px, 1px, 1px, 1px);height: 1px;margin: -1px;overflow: hidden;padding: 0;position: absolute;width: 1px;}#sk-container-id-5 div.sk-estimator {font-family: monospace;background-color: #f0f8ff;border: 1px dotted black;border-radius: 0.25em;box-sizing: border-box;margin-bottom: 0.5em;}#sk-container-id-5 div.sk-estimator:hover {background-color: #d4ebff;}#sk-container-id-5 div.sk-parallel-item::after {content: \"\";width: 100%;border-bottom: 1px solid gray;flex-grow: 1;}#sk-container-id-5 div.sk-label:hover label.sk-toggleable__label {background-color: #d4ebff;}#sk-container-id-5 div.sk-serial::before {content: \"\";position: absolute;border-left: 1px solid gray;box-sizing: border-box;top: 0;bottom: 0;left: 50%;z-index: 0;}#sk-container-id-5 div.sk-serial {display: flex;flex-direction: column;align-items: center;background-color: white;padding-right: 0.2em;padding-left: 0.2em;position: relative;}#sk-container-id-5 div.sk-item {position: relative;z-index: 1;}#sk-container-id-5 div.sk-parallel {display: flex;align-items: stretch;justify-content: center;background-color: white;position: relative;}#sk-container-id-5 div.sk-item::before, #sk-container-id-5 div.sk-parallel-item::before {content: \"\";position: absolute;border-left: 1px solid gray;box-sizing: border-box;top: 0;bottom: 0;left: 50%;z-index: -1;}#sk-container-id-5 div.sk-parallel-item {display: flex;flex-direction: column;z-index: 1;position: relative;background-color: white;}#sk-container-id-5 div.sk-parallel-item:first-child::after {align-self: flex-end;width: 50%;}#sk-container-id-5 div.sk-parallel-item:last-child::after {align-self: flex-start;width: 50%;}#sk-container-id-5 div.sk-parallel-item:only-child::after {width: 0;}#sk-container-id-5 div.sk-dashed-wrapped {border: 1px dashed gray;margin: 0 0.4em 0.5em 0.4em;box-sizing: border-box;padding-bottom: 0.4em;background-color: white;}#sk-container-id-5 div.sk-label label {font-family: monospace;font-weight: bold;display: inline-block;line-height: 1.2em;}#sk-container-id-5 div.sk-label-container {text-align: center;}#sk-container-id-5 div.sk-container {/* jupyter's `normalize.less` sets `[hidden] { display: none; }` but bootstrap.min.css set `[hidden] { display: none !important; }` so we also need the `!important` here to be able to override the default hidden behavior on the sphinx rendered scikit-learn.org. See: https://github.com/scikit-learn/scikit-learn/issues/21755 */display: inline-block !important;position: relative;}#sk-container-id-5 div.sk-text-repr-fallback {display: none;}</style><div id=\"sk-container-id-5\" class=\"sk-top-container\"><div class=\"sk-text-repr-fallback\"><pre>RandomizedSearchCV(cv=StratifiedKFold(n_splits=5, random_state=None, shuffle=False),\n",
       "                   estimator=LogisticRegression(),\n",
       "                   param_distributions={&#x27;C&#x27;: [100, 10, 1, 50],\n",
       "                                        &#x27;penalty&#x27;: [&#x27;l1&#x27;, &#x27;l2&#x27;, &#x27;elasticnet&#x27;],\n",
       "                                        &#x27;solver&#x27;: [&#x27;liblinear&#x27;, &#x27;newton-cg&#x27;,\n",
       "                                                   &#x27;newton-cholesky&#x27;, &#x27;sag&#x27;,\n",
       "                                                   &#x27;saga&#x27;]})</pre><b>In a Jupyter environment, please rerun this cell to show the HTML representation or trust the notebook. <br />On GitHub, the HTML representation is unable to render, please try loading this page with nbviewer.org.</b></div><div class=\"sk-container\" hidden><div class=\"sk-item sk-dashed-wrapped\"><div class=\"sk-label-container\"><div class=\"sk-label sk-toggleable\"><input class=\"sk-toggleable__control sk-hidden--visually\" id=\"sk-estimator-id-11\" type=\"checkbox\" ><label for=\"sk-estimator-id-11\" class=\"sk-toggleable__label sk-toggleable__label-arrow\">RandomizedSearchCV</label><div class=\"sk-toggleable__content\"><pre>RandomizedSearchCV(cv=StratifiedKFold(n_splits=5, random_state=None, shuffle=False),\n",
       "                   estimator=LogisticRegression(),\n",
       "                   param_distributions={&#x27;C&#x27;: [100, 10, 1, 50],\n",
       "                                        &#x27;penalty&#x27;: [&#x27;l1&#x27;, &#x27;l2&#x27;, &#x27;elasticnet&#x27;],\n",
       "                                        &#x27;solver&#x27;: [&#x27;liblinear&#x27;, &#x27;newton-cg&#x27;,\n",
       "                                                   &#x27;newton-cholesky&#x27;, &#x27;sag&#x27;,\n",
       "                                                   &#x27;saga&#x27;]})</pre></div></div></div><div class=\"sk-parallel\"><div class=\"sk-parallel-item\"><div class=\"sk-item\"><div class=\"sk-label-container\"><div class=\"sk-label sk-toggleable\"><input class=\"sk-toggleable__control sk-hidden--visually\" id=\"sk-estimator-id-12\" type=\"checkbox\" ><label for=\"sk-estimator-id-12\" class=\"sk-toggleable__label sk-toggleable__label-arrow\">estimator: LogisticRegression</label><div class=\"sk-toggleable__content\"><pre>LogisticRegression()</pre></div></div></div><div class=\"sk-serial\"><div class=\"sk-item\"><div class=\"sk-estimator sk-toggleable\"><input class=\"sk-toggleable__control sk-hidden--visually\" id=\"sk-estimator-id-13\" type=\"checkbox\" ><label for=\"sk-estimator-id-13\" class=\"sk-toggleable__label sk-toggleable__label-arrow\">LogisticRegression</label><div class=\"sk-toggleable__content\"><pre>LogisticRegression()</pre></div></div></div></div></div></div></div></div></div></div>"
      ],
      "text/plain": [
       "RandomizedSearchCV(cv=StratifiedKFold(n_splits=5, random_state=None, shuffle=False),\n",
       "                   estimator=LogisticRegression(),\n",
       "                   param_distributions={'C': [100, 10, 1, 50],\n",
       "                                        'penalty': ['l1', 'l2', 'elasticnet'],\n",
       "                                        'solver': ['liblinear', 'newton-cg',\n",
       "                                                   'newton-cholesky', 'sag',\n",
       "                                                   'saga']})"
      ]
     },
     "execution_count": 29,
     "metadata": {},
     "output_type": "execute_result"
    }
   ],
   "source": [
    "rancv"
   ]
  },
  {
   "cell_type": "code",
   "execution_count": 30,
   "id": "60e901be",
   "metadata": {},
   "outputs": [
    {
     "name": "stderr",
     "output_type": "stream",
     "text": [
      "c:\\Users\\Acer\\OneDrive\\Desktop\\supervied\\venv\\lib\\site-packages\\sklearn\\linear_model\\_sag.py:350: ConvergenceWarning: The max_iter was reached which means the coef_ did not converge\n",
      "  warnings.warn(\n",
      "c:\\Users\\Acer\\OneDrive\\Desktop\\supervied\\venv\\lib\\site-packages\\sklearn\\linear_model\\_sag.py:350: ConvergenceWarning: The max_iter was reached which means the coef_ did not converge\n",
      "  warnings.warn(\n",
      "c:\\Users\\Acer\\OneDrive\\Desktop\\supervied\\venv\\lib\\site-packages\\sklearn\\linear_model\\_sag.py:350: ConvergenceWarning: The max_iter was reached which means the coef_ did not converge\n",
      "  warnings.warn(\n",
      "c:\\Users\\Acer\\OneDrive\\Desktop\\supervied\\venv\\lib\\site-packages\\sklearn\\linear_model\\_sag.py:350: ConvergenceWarning: The max_iter was reached which means the coef_ did not converge\n",
      "  warnings.warn(\n",
      "c:\\Users\\Acer\\OneDrive\\Desktop\\supervied\\venv\\lib\\site-packages\\sklearn\\linear_model\\_sag.py:350: ConvergenceWarning: The max_iter was reached which means the coef_ did not converge\n",
      "  warnings.warn(\n",
      "c:\\Users\\Acer\\OneDrive\\Desktop\\supervied\\venv\\lib\\site-packages\\sklearn\\linear_model\\_sag.py:350: ConvergenceWarning: The max_iter was reached which means the coef_ did not converge\n",
      "  warnings.warn(\n",
      "c:\\Users\\Acer\\OneDrive\\Desktop\\supervied\\venv\\lib\\site-packages\\sklearn\\linear_model\\_sag.py:350: ConvergenceWarning: The max_iter was reached which means the coef_ did not converge\n",
      "  warnings.warn(\n",
      "c:\\Users\\Acer\\OneDrive\\Desktop\\supervied\\venv\\lib\\site-packages\\sklearn\\linear_model\\_sag.py:350: ConvergenceWarning: The max_iter was reached which means the coef_ did not converge\n",
      "  warnings.warn(\n",
      "c:\\Users\\Acer\\OneDrive\\Desktop\\supervied\\venv\\lib\\site-packages\\sklearn\\linear_model\\_sag.py:350: ConvergenceWarning: The max_iter was reached which means the coef_ did not converge\n",
      "  warnings.warn(\n",
      "c:\\Users\\Acer\\OneDrive\\Desktop\\supervied\\venv\\lib\\site-packages\\sklearn\\linear_model\\_sag.py:350: ConvergenceWarning: The max_iter was reached which means the coef_ did not converge\n",
      "  warnings.warn(\n",
      "c:\\Users\\Acer\\OneDrive\\Desktop\\supervied\\venv\\lib\\site-packages\\sklearn\\model_selection\\_validation.py:425: FitFailedWarning: \n",
      "15 fits failed out of a total of 50.\n",
      "The score on these train-test partitions for these parameters will be set to nan.\n",
      "If these failures are not expected, you can try to debug them by setting error_score='raise'.\n",
      "\n",
      "Below are more details about the failures:\n",
      "--------------------------------------------------------------------------------\n",
      "5 fits failed with the following error:\n",
      "Traceback (most recent call last):\n",
      "  File \"c:\\Users\\Acer\\OneDrive\\Desktop\\supervied\\venv\\lib\\site-packages\\sklearn\\model_selection\\_validation.py\", line 729, in _fit_and_score\n",
      "    estimator.fit(X_train, y_train, **fit_params)\n",
      "  File \"c:\\Users\\Acer\\OneDrive\\Desktop\\supervied\\venv\\lib\\site-packages\\sklearn\\base.py\", line 1152, in wrapper\n",
      "    return fit_method(estimator, *args, **kwargs)\n",
      "  File \"c:\\Users\\Acer\\OneDrive\\Desktop\\supervied\\venv\\lib\\site-packages\\sklearn\\linear_model\\_logistic.py\", line 1169, in fit\n",
      "    solver = _check_solver(self.solver, self.penalty, self.dual)\n",
      "  File \"c:\\Users\\Acer\\OneDrive\\Desktop\\supervied\\venv\\lib\\site-packages\\sklearn\\linear_model\\_logistic.py\", line 56, in _check_solver\n",
      "    raise ValueError(\n",
      "ValueError: Solver newton-cg supports only 'l2' or 'none' penalties, got l1 penalty.\n",
      "\n",
      "--------------------------------------------------------------------------------\n",
      "10 fits failed with the following error:\n",
      "Traceback (most recent call last):\n",
      "  File \"c:\\Users\\Acer\\OneDrive\\Desktop\\supervied\\venv\\lib\\site-packages\\sklearn\\model_selection\\_validation.py\", line 729, in _fit_and_score\n",
      "    estimator.fit(X_train, y_train, **fit_params)\n",
      "  File \"c:\\Users\\Acer\\OneDrive\\Desktop\\supervied\\venv\\lib\\site-packages\\sklearn\\base.py\", line 1152, in wrapper\n",
      "    return fit_method(estimator, *args, **kwargs)\n",
      "  File \"c:\\Users\\Acer\\OneDrive\\Desktop\\supervied\\venv\\lib\\site-packages\\sklearn\\linear_model\\_logistic.py\", line 1169, in fit\n",
      "    solver = _check_solver(self.solver, self.penalty, self.dual)\n",
      "  File \"c:\\Users\\Acer\\OneDrive\\Desktop\\supervied\\venv\\lib\\site-packages\\sklearn\\linear_model\\_logistic.py\", line 66, in _check_solver\n",
      "    raise ValueError(\n",
      "ValueError: Only 'saga' solver supports elasticnet penalty, got solver=liblinear.\n",
      "\n",
      "  warnings.warn(some_fits_failed_message, FitFailedWarning)\n",
      "c:\\Users\\Acer\\OneDrive\\Desktop\\supervied\\venv\\lib\\site-packages\\sklearn\\model_selection\\_search.py:979: UserWarning: One or more of the test scores are non-finite: [0.84    nan   nan 0.84  0.84  0.84  0.84    nan 0.84  0.844]\n",
      "  warnings.warn(\n"
     ]
    },
    {
     "data": {
      "text/html": [
       "<style>#sk-container-id-6 {color: black;}#sk-container-id-6 pre{padding: 0;}#sk-container-id-6 div.sk-toggleable {background-color: white;}#sk-container-id-6 label.sk-toggleable__label {cursor: pointer;display: block;width: 100%;margin-bottom: 0;padding: 0.3em;box-sizing: border-box;text-align: center;}#sk-container-id-6 label.sk-toggleable__label-arrow:before {content: \"▸\";float: left;margin-right: 0.25em;color: #696969;}#sk-container-id-6 label.sk-toggleable__label-arrow:hover:before {color: black;}#sk-container-id-6 div.sk-estimator:hover label.sk-toggleable__label-arrow:before {color: black;}#sk-container-id-6 div.sk-toggleable__content {max-height: 0;max-width: 0;overflow: hidden;text-align: left;background-color: #f0f8ff;}#sk-container-id-6 div.sk-toggleable__content pre {margin: 0.2em;color: black;border-radius: 0.25em;background-color: #f0f8ff;}#sk-container-id-6 input.sk-toggleable__control:checked~div.sk-toggleable__content {max-height: 200px;max-width: 100%;overflow: auto;}#sk-container-id-6 input.sk-toggleable__control:checked~label.sk-toggleable__label-arrow:before {content: \"▾\";}#sk-container-id-6 div.sk-estimator input.sk-toggleable__control:checked~label.sk-toggleable__label {background-color: #d4ebff;}#sk-container-id-6 div.sk-label input.sk-toggleable__control:checked~label.sk-toggleable__label {background-color: #d4ebff;}#sk-container-id-6 input.sk-hidden--visually {border: 0;clip: rect(1px 1px 1px 1px);clip: rect(1px, 1px, 1px, 1px);height: 1px;margin: -1px;overflow: hidden;padding: 0;position: absolute;width: 1px;}#sk-container-id-6 div.sk-estimator {font-family: monospace;background-color: #f0f8ff;border: 1px dotted black;border-radius: 0.25em;box-sizing: border-box;margin-bottom: 0.5em;}#sk-container-id-6 div.sk-estimator:hover {background-color: #d4ebff;}#sk-container-id-6 div.sk-parallel-item::after {content: \"\";width: 100%;border-bottom: 1px solid gray;flex-grow: 1;}#sk-container-id-6 div.sk-label:hover label.sk-toggleable__label {background-color: #d4ebff;}#sk-container-id-6 div.sk-serial::before {content: \"\";position: absolute;border-left: 1px solid gray;box-sizing: border-box;top: 0;bottom: 0;left: 50%;z-index: 0;}#sk-container-id-6 div.sk-serial {display: flex;flex-direction: column;align-items: center;background-color: white;padding-right: 0.2em;padding-left: 0.2em;position: relative;}#sk-container-id-6 div.sk-item {position: relative;z-index: 1;}#sk-container-id-6 div.sk-parallel {display: flex;align-items: stretch;justify-content: center;background-color: white;position: relative;}#sk-container-id-6 div.sk-item::before, #sk-container-id-6 div.sk-parallel-item::before {content: \"\";position: absolute;border-left: 1px solid gray;box-sizing: border-box;top: 0;bottom: 0;left: 50%;z-index: -1;}#sk-container-id-6 div.sk-parallel-item {display: flex;flex-direction: column;z-index: 1;position: relative;background-color: white;}#sk-container-id-6 div.sk-parallel-item:first-child::after {align-self: flex-end;width: 50%;}#sk-container-id-6 div.sk-parallel-item:last-child::after {align-self: flex-start;width: 50%;}#sk-container-id-6 div.sk-parallel-item:only-child::after {width: 0;}#sk-container-id-6 div.sk-dashed-wrapped {border: 1px dashed gray;margin: 0 0.4em 0.5em 0.4em;box-sizing: border-box;padding-bottom: 0.4em;background-color: white;}#sk-container-id-6 div.sk-label label {font-family: monospace;font-weight: bold;display: inline-block;line-height: 1.2em;}#sk-container-id-6 div.sk-label-container {text-align: center;}#sk-container-id-6 div.sk-container {/* jupyter's `normalize.less` sets `[hidden] { display: none; }` but bootstrap.min.css set `[hidden] { display: none !important; }` so we also need the `!important` here to be able to override the default hidden behavior on the sphinx rendered scikit-learn.org. See: https://github.com/scikit-learn/scikit-learn/issues/21755 */display: inline-block !important;position: relative;}#sk-container-id-6 div.sk-text-repr-fallback {display: none;}</style><div id=\"sk-container-id-6\" class=\"sk-top-container\"><div class=\"sk-text-repr-fallback\"><pre>RandomizedSearchCV(cv=StratifiedKFold(n_splits=5, random_state=None, shuffle=False),\n",
       "                   estimator=LogisticRegression(),\n",
       "                   param_distributions={&#x27;C&#x27;: [100, 10, 1, 50],\n",
       "                                        &#x27;penalty&#x27;: [&#x27;l1&#x27;, &#x27;l2&#x27;, &#x27;elasticnet&#x27;],\n",
       "                                        &#x27;solver&#x27;: [&#x27;liblinear&#x27;, &#x27;newton-cg&#x27;,\n",
       "                                                   &#x27;newton-cholesky&#x27;, &#x27;sag&#x27;,\n",
       "                                                   &#x27;saga&#x27;]})</pre><b>In a Jupyter environment, please rerun this cell to show the HTML representation or trust the notebook. <br />On GitHub, the HTML representation is unable to render, please try loading this page with nbviewer.org.</b></div><div class=\"sk-container\" hidden><div class=\"sk-item sk-dashed-wrapped\"><div class=\"sk-label-container\"><div class=\"sk-label sk-toggleable\"><input class=\"sk-toggleable__control sk-hidden--visually\" id=\"sk-estimator-id-14\" type=\"checkbox\" ><label for=\"sk-estimator-id-14\" class=\"sk-toggleable__label sk-toggleable__label-arrow\">RandomizedSearchCV</label><div class=\"sk-toggleable__content\"><pre>RandomizedSearchCV(cv=StratifiedKFold(n_splits=5, random_state=None, shuffle=False),\n",
       "                   estimator=LogisticRegression(),\n",
       "                   param_distributions={&#x27;C&#x27;: [100, 10, 1, 50],\n",
       "                                        &#x27;penalty&#x27;: [&#x27;l1&#x27;, &#x27;l2&#x27;, &#x27;elasticnet&#x27;],\n",
       "                                        &#x27;solver&#x27;: [&#x27;liblinear&#x27;, &#x27;newton-cg&#x27;,\n",
       "                                                   &#x27;newton-cholesky&#x27;, &#x27;sag&#x27;,\n",
       "                                                   &#x27;saga&#x27;]})</pre></div></div></div><div class=\"sk-parallel\"><div class=\"sk-parallel-item\"><div class=\"sk-item\"><div class=\"sk-label-container\"><div class=\"sk-label sk-toggleable\"><input class=\"sk-toggleable__control sk-hidden--visually\" id=\"sk-estimator-id-15\" type=\"checkbox\" ><label for=\"sk-estimator-id-15\" class=\"sk-toggleable__label sk-toggleable__label-arrow\">estimator: LogisticRegression</label><div class=\"sk-toggleable__content\"><pre>LogisticRegression()</pre></div></div></div><div class=\"sk-serial\"><div class=\"sk-item\"><div class=\"sk-estimator sk-toggleable\"><input class=\"sk-toggleable__control sk-hidden--visually\" id=\"sk-estimator-id-16\" type=\"checkbox\" ><label for=\"sk-estimator-id-16\" class=\"sk-toggleable__label sk-toggleable__label-arrow\">LogisticRegression</label><div class=\"sk-toggleable__content\"><pre>LogisticRegression()</pre></div></div></div></div></div></div></div></div></div></div>"
      ],
      "text/plain": [
       "RandomizedSearchCV(cv=StratifiedKFold(n_splits=5, random_state=None, shuffle=False),\n",
       "                   estimator=LogisticRegression(),\n",
       "                   param_distributions={'C': [100, 10, 1, 50],\n",
       "                                        'penalty': ['l1', 'l2', 'elasticnet'],\n",
       "                                        'solver': ['liblinear', 'newton-cg',\n",
       "                                                   'newton-cholesky', 'sag',\n",
       "                                                   'saga']})"
      ]
     },
     "execution_count": 30,
     "metadata": {},
     "output_type": "execute_result"
    }
   ],
   "source": [
    "rancv.fit(X_test,y_test)"
   ]
  },
  {
   "cell_type": "code",
   "execution_count": 31,
   "id": "3adfd71c",
   "metadata": {},
   "outputs": [
    {
     "data": {
      "text/plain": [
       "array([0, 1, 0, 1, 0, 1, 0, 0, 0, 0, 0, 1, 1, 1, 0, 0, 1, 1, 1, 1, 1, 0,\n",
       "       1, 0, 0, 1, 0, 0, 1, 1, 1, 1, 0, 0, 0, 1, 1, 1, 1, 1, 0, 1, 1, 0,\n",
       "       0, 1, 1, 1, 1, 1, 0, 1, 1, 0, 1, 1, 1, 0, 1, 0, 1, 0, 0, 1, 1, 1,\n",
       "       0, 0, 1, 1, 1, 1, 1, 0, 1, 0, 0, 1, 0, 1, 0, 0, 1, 0, 1, 0, 0, 0,\n",
       "       0, 1, 1, 1, 1, 1, 1, 1, 0, 0, 1, 0, 1, 0, 1, 0, 0, 1, 0, 1, 1, 1,\n",
       "       1, 1, 1, 1, 1, 0, 0, 1, 0, 0, 1, 1, 0, 1, 1, 1, 1, 1, 1, 1, 1, 0,\n",
       "       1, 1, 1, 1, 0, 0, 0, 1, 1, 0, 0, 0, 1, 0, 1, 0, 0, 0, 1, 0, 0, 0,\n",
       "       0, 0, 1, 0, 1, 1, 0, 1, 0, 0, 0, 1, 0, 0, 0, 1, 1, 1, 0, 0, 1, 1,\n",
       "       0, 0, 1, 1, 1, 1, 1, 1, 1, 0, 0, 0, 0, 1, 1, 0, 0, 0, 1, 0, 0, 1,\n",
       "       1, 1, 0, 1, 0, 0, 0, 0, 1, 1, 1, 1, 0, 0, 0, 0, 0, 1, 0, 1, 0, 1,\n",
       "       1, 0, 0, 1, 1, 1, 0, 1, 1, 0, 0, 0, 0, 0, 0, 0, 0, 0, 1, 1, 0, 1,\n",
       "       1, 1, 1, 0, 1, 0, 1, 0])"
      ]
     },
     "execution_count": 31,
     "metadata": {},
     "output_type": "execute_result"
    }
   ],
   "source": [
    "rancv.predict(X_test)"
   ]
  },
  {
   "cell_type": "code",
   "execution_count": 32,
   "id": "94a9002a",
   "metadata": {},
   "outputs": [
    {
     "data": {
      "text/plain": [
       "0.844"
      ]
     },
     "execution_count": 32,
     "metadata": {},
     "output_type": "execute_result"
    }
   ],
   "source": [
    "rancv.best_score_"
   ]
  },
  {
   "cell_type": "code",
   "execution_count": 33,
   "id": "7df733f0",
   "metadata": {},
   "outputs": [
    {
     "data": {
      "text/plain": [
       "{'solver': 'liblinear', 'penalty': 'l1', 'C': 1}"
      ]
     },
     "execution_count": 33,
     "metadata": {},
     "output_type": "execute_result"
    }
   ],
   "source": [
    "rancv.best_params_"
   ]
  },
  {
   "cell_type": "markdown",
   "id": "e46e8517",
   "metadata": {},
   "source": [
    "## logistic regression for multiclass classification"
   ]
  },
  {
   "cell_type": "code",
   "execution_count": 34,
   "id": "d693867d",
   "metadata": {},
   "outputs": [],
   "source": [
    "#making the dataset\n",
    "X,y=make_classification(n_features=10,n_samples=1000,n_classes=3,n_informative=3)"
   ]
  },
  {
   "cell_type": "code",
   "execution_count": 35,
   "id": "818c37a7",
   "metadata": {},
   "outputs": [],
   "source": [
    "X_train,X_test,y_train,y_test=train_test_split(X,y,test_size=0.25,random_state=42)"
   ]
  },
  {
   "cell_type": "code",
   "execution_count": 36,
   "id": "400739f8",
   "metadata": {},
   "outputs": [
    {
     "data": {
      "text/plain": [
       "array([2, 2, 2, 0, 0, 1, 1, 1, 2, 1, 0, 0, 2, 1, 1, 2, 1, 0, 1, 0, 1, 2,\n",
       "       0, 2, 2, 2, 1, 1, 0, 0, 0, 1, 1, 0, 2, 1, 2, 0, 1, 1, 0, 1, 1, 2,\n",
       "       2, 0, 1, 0, 0, 1, 1, 1, 0, 2, 1, 1, 0, 0, 1, 2, 1, 0, 1, 0, 1, 2,\n",
       "       2, 0, 1, 0, 1, 1, 1, 1, 2, 0, 0, 1, 2, 2, 2, 2, 2, 1, 1, 0, 1, 2,\n",
       "       0, 0, 0, 2, 2, 2, 0, 0, 1, 1, 1, 1, 2, 0, 2, 2, 1, 0, 2, 1, 1, 0,\n",
       "       2, 1, 2, 1, 1, 0, 2, 2, 1, 1, 0, 2, 2, 2, 2, 1, 0, 0, 0, 2, 0, 0,\n",
       "       2, 1, 0, 1, 2, 0, 2, 1, 2, 1, 1, 2, 1, 0, 1, 0, 2, 0, 1, 0, 0, 1,\n",
       "       1, 2, 2, 0, 1, 0, 0, 0, 2, 1, 2, 1, 1, 1, 0, 0, 2, 1, 0, 0, 2, 2,\n",
       "       1, 0, 2, 1, 0, 0, 0, 1, 1, 2, 0, 0, 1, 0, 0, 2, 1, 0, 1, 1, 2, 2,\n",
       "       0, 1, 0, 0, 0, 2, 1, 1, 1, 1, 2, 0, 2, 0, 2, 2, 2, 1, 1, 2, 0, 0,\n",
       "       2, 2, 1, 2, 2, 0, 1, 0, 0, 0, 2, 0, 2, 0, 2, 2, 0, 0, 1, 0, 2, 1,\n",
       "       2, 2, 0, 1, 2, 2, 2, 2, 0, 2, 1, 2, 1, 2, 0, 2, 0, 0, 0, 1, 2, 0,\n",
       "       1, 0, 1, 0, 1, 0, 2, 2, 1, 1, 1, 0, 1, 0, 2, 0, 0, 2, 1, 0, 2, 1,\n",
       "       2, 0, 2, 2, 1, 0, 0, 2, 2, 1, 2, 0, 0, 0, 0, 0, 2, 0, 0, 0, 2, 1,\n",
       "       1, 1, 2, 2, 2, 2, 0, 1, 1, 1, 0, 2, 0, 2, 1, 1, 2, 1, 1, 0, 2, 1,\n",
       "       0, 0, 1, 2, 0, 0, 2, 1, 0, 1, 2, 0, 0, 0, 2, 2, 0, 1, 0, 2, 2, 1,\n",
       "       2, 2, 2, 2, 2, 2, 0, 2, 0, 1, 1, 0, 1, 0, 2, 1, 2, 1, 2, 1, 0, 2,\n",
       "       2, 1, 2, 0, 1, 2, 1, 1, 2, 2, 2, 0, 2, 2, 1, 2, 2, 0, 2, 1, 0, 1,\n",
       "       0, 0, 1, 1, 1, 2, 1, 2, 0, 1, 2, 1, 2, 0, 2, 2, 1, 2, 1, 2, 2, 2,\n",
       "       2, 1, 2, 2, 2, 2, 1, 2, 1, 0, 2, 0, 1, 1, 0, 1, 1, 1, 2, 1, 0, 0,\n",
       "       0, 2, 0, 1, 0, 0, 1, 0, 1, 1, 1, 2, 2, 2, 1, 0, 1, 1, 1, 1, 2, 1,\n",
       "       0, 2, 2, 1, 0, 0, 0, 1, 2, 2, 2, 2, 1, 1, 1, 2, 1, 0, 1, 2, 2, 1,\n",
       "       1, 2, 1, 2, 2, 1, 2, 2, 0, 2, 0, 2, 1, 0, 0, 2, 1, 1, 0, 1, 2, 2,\n",
       "       1, 2, 2, 2, 1, 0, 0, 0, 2, 1, 0, 1, 1, 2, 1, 2, 0, 1, 1, 0, 1, 0,\n",
       "       2, 0, 2, 1, 1, 1, 0, 2, 2, 1, 0, 1, 0, 0, 1, 0, 1, 0, 0, 0, 1, 2,\n",
       "       2, 1, 2, 2, 0, 0, 0, 2, 2, 2, 1, 0, 2, 2, 1, 1, 1, 1, 2, 0, 1, 0,\n",
       "       1, 1, 0, 2, 2, 1, 0, 0, 2, 0, 0, 1, 2, 2, 0, 2, 1, 1, 0, 2, 0, 0,\n",
       "       1, 0, 1, 0, 1, 0, 0, 1, 0, 1, 2, 1, 1, 1, 0, 1, 2, 2, 1, 1, 2, 2,\n",
       "       2, 2, 1, 1, 2, 0, 2, 0, 0, 2, 1, 2, 1, 0, 0, 0, 2, 1, 0, 0, 1, 2,\n",
       "       1, 0, 2, 2, 1, 0, 1, 1, 2, 2, 1, 1, 2, 0, 1, 0, 2, 2, 1, 2, 0, 2,\n",
       "       1, 2, 1, 1, 0, 0, 0, 0, 2, 2, 1, 2, 2, 1, 0, 1, 0, 0, 0, 2, 0, 0,\n",
       "       1, 1, 2, 0, 0, 2, 0, 1, 0, 1, 0, 1, 1, 2, 2, 0, 2, 0, 2, 0, 1, 2,\n",
       "       2, 0, 0, 0, 0, 2, 1, 0, 2, 2, 2, 0, 2, 0, 1, 2, 1, 1, 1, 1, 2, 1,\n",
       "       1, 0, 2, 1, 1, 0, 0, 0, 1, 1, 0, 0, 2, 0, 2, 2, 1, 0, 2, 0, 0, 1,\n",
       "       1, 1])"
      ]
     },
     "execution_count": 36,
     "metadata": {},
     "output_type": "execute_result"
    }
   ],
   "source": [
    "y_train"
   ]
  },
  {
   "cell_type": "code",
   "execution_count": 37,
   "id": "5e8ddd51",
   "metadata": {},
   "outputs": [],
   "source": [
    "from sklearn.linear_model import LogisticRegression\n",
    "logist=LogisticRegression(multi_class='ovr')\n",
    "logist.fit(X_train,y_train)\n",
    "y_pred=logist.predict(X_test)\n"
   ]
  },
  {
   "cell_type": "code",
   "execution_count": 38,
   "id": "03e57385",
   "metadata": {},
   "outputs": [
    {
     "name": "stdout",
     "output_type": "stream",
     "text": [
      "0.624\n"
     ]
    }
   ],
   "source": [
    "score=accuracy_score(y_test,y_pred)\n",
    "print(score)"
   ]
  },
  {
   "cell_type": "code",
   "execution_count": 39,
   "id": "555c5199",
   "metadata": {},
   "outputs": [
    {
     "data": {
      "text/plain": [
       "array([[69, 16,  7],\n",
       "       [ 8, 30, 42],\n",
       "       [14,  7, 57]], dtype=int64)"
      ]
     },
     "execution_count": 39,
     "metadata": {},
     "output_type": "execute_result"
    }
   ],
   "source": [
    "confusion_matrix(y_test,y_pred)"
   ]
  },
  {
   "cell_type": "code",
   "execution_count": 40,
   "id": "5082317e",
   "metadata": {},
   "outputs": [
    {
     "name": "stdout",
     "output_type": "stream",
     "text": [
      "              precision    recall  f1-score   support\n",
      "\n",
      "           0       0.76      0.75      0.75        92\n",
      "           1       0.57      0.38      0.45        80\n",
      "           2       0.54      0.73      0.62        78\n",
      "\n",
      "    accuracy                           0.62       250\n",
      "   macro avg       0.62      0.62      0.61       250\n",
      "weighted avg       0.63      0.62      0.62       250\n",
      "\n"
     ]
    }
   ],
   "source": [
    "print(classification_report(y_test,y_pred))"
   ]
  },
  {
   "cell_type": "markdown",
   "id": "c4991473",
   "metadata": {},
   "source": [
    "## logistic imbalanced dataset"
   ]
  },
  {
   "cell_type": "code",
   "execution_count": 41,
   "id": "14bfac36",
   "metadata": {},
   "outputs": [],
   "source": [
    "from collections import Counter"
   ]
  },
  {
   "cell_type": "code",
   "execution_count": 42,
   "id": "3c3f42f2",
   "metadata": {},
   "outputs": [],
   "source": [
    "X,y=make_classification(n_samples=10000,n_classes=2,n_features=10,random_state=42,weights=[0.99],n_clusters_per_class=1)    # one class will be 99 percent "
   ]
  },
  {
   "cell_type": "code",
   "execution_count": 43,
   "id": "2652255d",
   "metadata": {},
   "outputs": [
    {
     "data": {
      "text/plain": [
       "Counter({0: 9845, 1: 155})"
      ]
     },
     "execution_count": 43,
     "metadata": {},
     "output_type": "execute_result"
    }
   ],
   "source": [
    "Counter(y)"
   ]
  },
  {
   "cell_type": "code",
   "execution_count": null,
   "id": "aeb6b653",
   "metadata": {},
   "outputs": [],
   "source": []
  },
  {
   "cell_type": "code",
   "execution_count": 44,
   "id": "6a1ed062",
   "metadata": {},
   "outputs": [],
   "source": [
    "#train test split\n",
    "X_train,X_test,y_train,y_test=train_test_split(X,y,test_size=0.25)"
   ]
  },
  {
   "cell_type": "code",
   "execution_count": 45,
   "id": "03d3d79e",
   "metadata": {},
   "outputs": [
    {
     "data": {
      "text/plain": [
       "<Axes: xlabel='0', ylabel='1'>"
      ]
     },
     "execution_count": 45,
     "metadata": {},
     "output_type": "execute_result"
    },
    {
     "data": {
      "image/png": "[encoded data removed]",
      "text/plain": [
       "<Figure size 640x480 with 1 Axes>"
      ]
     },
     "metadata": {},
     "output_type": "display_data"
    }
   ],
   "source": [
    "sns.scatterplot(x=pd.DataFrame(X)[0],y=pd.DataFrame(X)[1],hue=y)"
   ]
  },
  {
   "cell_type": "code",
   "execution_count": 46,
   "id": "b825fd91",
   "metadata": {},
   "outputs": [],
   "source": [
    "logistic=LogisticRegression()\n",
    "##hyper parameter tunning\n",
    "penalty=['l1','l2','elasticnet']\n",
    "C=[100,10,1,50]\n",
    "weight=[{0:w,1:y} for w in [1,5,10,14,50] for y in [1,10,30,50,60,70,90]]\n",
    "solver= [ 'liblinear', 'newton-cg', 'newton-cholesky', 'sag', 'saga']\n",
    "params=dict(penalty=penalty,C=C,solver=solver,class_weight=weight)\n"
   ]
  },
  {
   "cell_type": "code",
   "execution_count": 47,
   "id": "d3b3f7a3",
   "metadata": {},
   "outputs": [],
   "source": [
    "ran=RandomizedSearchCV(estimator=logistic,param_distributions=params,scoring='accuracy',n_iter=10)"
   ]
  },
  {
   "cell_type": "code",
   "execution_count": 48,
   "id": "19b51c17",
   "metadata": {},
   "outputs": [
    {
     "name": "stderr",
     "output_type": "stream",
     "text": [
      "c:\\Users\\Acer\\OneDrive\\Desktop\\supervied\\venv\\lib\\site-packages\\sklearn\\linear_model\\_sag.py:350: ConvergenceWarning: The max_iter was reached which means the coef_ did not converge\n",
      "  warnings.warn(\n",
      "c:\\Users\\Acer\\OneDrive\\Desktop\\supervied\\venv\\lib\\site-packages\\sklearn\\linear_model\\_sag.py:350: ConvergenceWarning: The max_iter was reached which means the coef_ did not converge\n",
      "  warnings.warn(\n",
      "c:\\Users\\Acer\\OneDrive\\Desktop\\supervied\\venv\\lib\\site-packages\\sklearn\\linear_model\\_sag.py:350: ConvergenceWarning: The max_iter was reached which means the coef_ did not converge\n",
      "  warnings.warn(\n",
      "c:\\Users\\Acer\\OneDrive\\Desktop\\supervied\\venv\\lib\\site-packages\\sklearn\\linear_model\\_sag.py:350: ConvergenceWarning: The max_iter was reached which means the coef_ did not converge\n",
      "  warnings.warn(\n",
      "c:\\Users\\Acer\\OneDrive\\Desktop\\supervied\\venv\\lib\\site-packages\\sklearn\\linear_model\\_sag.py:350: ConvergenceWarning: The max_iter was reached which means the coef_ did not converge\n",
      "  warnings.warn(\n",
      "c:\\Users\\Acer\\OneDrive\\Desktop\\supervied\\venv\\lib\\site-packages\\sklearn\\linear_model\\_sag.py:350: ConvergenceWarning: The max_iter was reached which means the coef_ did not converge\n",
      "  warnings.warn(\n",
      "c:\\Users\\Acer\\OneDrive\\Desktop\\supervied\\venv\\lib\\site-packages\\sklearn\\linear_model\\_sag.py:350: ConvergenceWarning: The max_iter was reached which means the coef_ did not converge\n",
      "  warnings.warn(\n",
      "c:\\Users\\Acer\\OneDrive\\Desktop\\supervied\\venv\\lib\\site-packages\\sklearn\\linear_model\\_sag.py:350: ConvergenceWarning: The max_iter was reached which means the coef_ did not converge\n",
      "  warnings.warn(\n",
      "c:\\Users\\Acer\\OneDrive\\Desktop\\supervied\\venv\\lib\\site-packages\\sklearn\\linear_model\\_sag.py:350: ConvergenceWarning: The max_iter was reached which means the coef_ did not converge\n",
      "  warnings.warn(\n",
      "c:\\Users\\Acer\\OneDrive\\Desktop\\supervied\\venv\\lib\\site-packages\\sklearn\\model_selection\\_validation.py:425: FitFailedWarning: \n",
      "20 fits failed out of a total of 50.\n",
      "The score on these train-test partitions for these parameters will be set to nan.\n",
      "If these failures are not expected, you can try to debug them by setting error_score='raise'.\n",
      "\n",
      "Below are more details about the failures:\n",
      "--------------------------------------------------------------------------------\n",
      "5 fits failed with the following error:\n",
      "Traceback (most recent call last):\n",
      "  File \"c:\\Users\\Acer\\OneDrive\\Desktop\\supervied\\venv\\lib\\site-packages\\sklearn\\model_selection\\_validation.py\", line 729, in _fit_and_score\n",
      "    estimator.fit(X_train, y_train, **fit_params)\n",
      "  File \"c:\\Users\\Acer\\OneDrive\\Desktop\\supervied\\venv\\lib\\site-packages\\sklearn\\base.py\", line 1152, in wrapper\n",
      "    return fit_method(estimator, *args, **kwargs)\n",
      "  File \"c:\\Users\\Acer\\OneDrive\\Desktop\\supervied\\venv\\lib\\site-packages\\sklearn\\linear_model\\_logistic.py\", line 1169, in fit\n",
      "    solver = _check_solver(self.solver, self.penalty, self.dual)\n",
      "  File \"c:\\Users\\Acer\\OneDrive\\Desktop\\supervied\\venv\\lib\\site-packages\\sklearn\\linear_model\\_logistic.py\", line 56, in _check_solver\n",
      "    raise ValueError(\n",
      "ValueError: Solver newton-cholesky supports only 'l2' or 'none' penalties, got l1 penalty.\n",
      "\n",
      "--------------------------------------------------------------------------------\n",
      "5 fits failed with the following error:\n",
      "Traceback (most recent call last):\n",
      "  File \"c:\\Users\\Acer\\OneDrive\\Desktop\\supervied\\venv\\lib\\site-packages\\sklearn\\model_selection\\_validation.py\", line 729, in _fit_and_score\n",
      "    estimator.fit(X_train, y_train, **fit_params)\n",
      "  File \"c:\\Users\\Acer\\OneDrive\\Desktop\\supervied\\venv\\lib\\site-packages\\sklearn\\base.py\", line 1152, in wrapper\n",
      "    return fit_method(estimator, *args, **kwargs)\n",
      "  File \"c:\\Users\\Acer\\OneDrive\\Desktop\\supervied\\venv\\lib\\site-packages\\sklearn\\linear_model\\_logistic.py\", line 1169, in fit\n",
      "    solver = _check_solver(self.solver, self.penalty, self.dual)\n",
      "  File \"c:\\Users\\Acer\\OneDrive\\Desktop\\supervied\\venv\\lib\\site-packages\\sklearn\\linear_model\\_logistic.py\", line 66, in _check_solver\n",
      "    raise ValueError(\n",
      "ValueError: Only 'saga' solver supports elasticnet penalty, got solver=liblinear.\n",
      "\n",
      "--------------------------------------------------------------------------------\n",
      "5 fits failed with the following error:\n",
      "Traceback (most recent call last):\n",
      "  File \"c:\\Users\\Acer\\OneDrive\\Desktop\\supervied\\venv\\lib\\site-packages\\sklearn\\model_selection\\_validation.py\", line 729, in _fit_and_score\n",
      "    estimator.fit(X_train, y_train, **fit_params)\n",
      "  File \"c:\\Users\\Acer\\OneDrive\\Desktop\\supervied\\venv\\lib\\site-packages\\sklearn\\base.py\", line 1152, in wrapper\n",
      "    return fit_method(estimator, *args, **kwargs)\n",
      "  File \"c:\\Users\\Acer\\OneDrive\\Desktop\\supervied\\venv\\lib\\site-packages\\sklearn\\linear_model\\_logistic.py\", line 1169, in fit\n",
      "    solver = _check_solver(self.solver, self.penalty, self.dual)\n",
      "  File \"c:\\Users\\Acer\\OneDrive\\Desktop\\supervied\\venv\\lib\\site-packages\\sklearn\\linear_model\\_logistic.py\", line 56, in _check_solver\n",
      "    raise ValueError(\n",
      "ValueError: Solver sag supports only 'l2' or 'none' penalties, got elasticnet penalty.\n",
      "\n",
      "--------------------------------------------------------------------------------\n",
      "5 fits failed with the following error:\n",
      "Traceback (most recent call last):\n",
      "  File \"c:\\Users\\Acer\\OneDrive\\Desktop\\supervied\\venv\\lib\\site-packages\\sklearn\\model_selection\\_validation.py\", line 729, in _fit_and_score\n",
      "    estimator.fit(X_train, y_train, **fit_params)\n",
      "  File \"c:\\Users\\Acer\\OneDrive\\Desktop\\supervied\\venv\\lib\\site-packages\\sklearn\\base.py\", line 1152, in wrapper\n",
      "    return fit_method(estimator, *args, **kwargs)\n",
      "  File \"c:\\Users\\Acer\\OneDrive\\Desktop\\supervied\\venv\\lib\\site-packages\\sklearn\\linear_model\\_logistic.py\", line 1179, in fit\n",
      "    raise ValueError(\"l1_ratio must be specified when penalty is elasticnet.\")\n",
      "ValueError: l1_ratio must be specified when penalty is elasticnet.\n",
      "\n",
      "  warnings.warn(some_fits_failed_message, FitFailedWarning)\n",
      "c:\\Users\\Acer\\OneDrive\\Desktop\\supervied\\venv\\lib\\site-packages\\sklearn\\model_selection\\_search.py:979: UserWarning: One or more of the test scores are non-finite: [0.86413333 0.99106667 0.95453333 0.9764     0.99133333        nan\n",
      "        nan        nan 0.99333333        nan]\n",
      "  warnings.warn(\n"
     ]
    },
    {
     "data": {
      "text/html": [
       "<style>#sk-container-id-7 {color: black;}#sk-container-id-7 pre{padding: 0;}#sk-container-id-7 div.sk-toggleable {background-color: white;}#sk-container-id-7 label.sk-toggleable__label {cursor: pointer;display: block;width: 100%;margin-bottom: 0;padding: 0.3em;box-sizing: border-box;text-align: center;}#sk-container-id-7 label.sk-toggleable__label-arrow:before {content: \"▸\";float: left;margin-right: 0.25em;color: #696969;}#sk-container-id-7 label.sk-toggleable__label-arrow:hover:before {color: black;}#sk-container-id-7 div.sk-estimator:hover label.sk-toggleable__label-arrow:before {color: black;}#sk-container-id-7 div.sk-toggleable__content {max-height: 0;max-width: 0;overflow: hidden;text-align: left;background-color: #f0f8ff;}#sk-container-id-7 div.sk-toggleable__content pre {margin: 0.2em;color: black;border-radius: 0.25em;background-color: #f0f8ff;}#sk-container-id-7 input.sk-toggleable__control:checked~div.sk-toggleable__content {max-height: 200px;max-width: 100%;overflow: auto;}#sk-container-id-7 input.sk-toggleable__control:checked~label.sk-toggleable__label-arrow:before {content: \"▾\";}#sk-container-id-7 div.sk-estimator input.sk-toggleable__control:checked~label.sk-toggleable__label {background-color: #d4ebff;}#sk-container-id-7 div.sk-label input.sk-toggleable__control:checked~label.sk-toggleable__label {background-color: #d4ebff;}#sk-container-id-7 input.sk-hidden--visually {border: 0;clip: rect(1px 1px 1px 1px);clip: rect(1px, 1px, 1px, 1px);height: 1px;margin: -1px;overflow: hidden;padding: 0;position: absolute;width: 1px;}#sk-container-id-7 div.sk-estimator {font-family: monospace;background-color: #f0f8ff;border: 1px dotted black;border-radius: 0.25em;box-sizing: border-box;margin-bottom: 0.5em;}#sk-container-id-7 div.sk-estimator:hover {background-color: #d4ebff;}#sk-container-id-7 div.sk-parallel-item::after {content: \"\";width: 100%;border-bottom: 1px solid gray;flex-grow: 1;}#sk-container-id-7 div.sk-label:hover label.sk-toggleable__label {background-color: #d4ebff;}#sk-container-id-7 div.sk-serial::before {content: \"\";position: absolute;border-left: 1px solid gray;box-sizing: border-box;top: 0;bottom: 0;left: 50%;z-index: 0;}#sk-container-id-7 div.sk-serial {display: flex;flex-direction: column;align-items: center;background-color: white;padding-right: 0.2em;padding-left: 0.2em;position: relative;}#sk-container-id-7 div.sk-item {position: relative;z-index: 1;}#sk-container-id-7 div.sk-parallel {display: flex;align-items: stretch;justify-content: center;background-color: white;position: relative;}#sk-container-id-7 div.sk-item::before, #sk-container-id-7 div.sk-parallel-item::before {content: \"\";position: absolute;border-left: 1px solid gray;box-sizing: border-box;top: 0;bottom: 0;left: 50%;z-index: -1;}#sk-container-id-7 div.sk-parallel-item {display: flex;flex-direction: column;z-index: 1;position: relative;background-color: white;}#sk-container-id-7 div.sk-parallel-item:first-child::after {align-self: flex-end;width: 50%;}#sk-container-id-7 div.sk-parallel-item:last-child::after {align-self: flex-start;width: 50%;}#sk-container-id-7 div.sk-parallel-item:only-child::after {width: 0;}#sk-container-id-7 div.sk-dashed-wrapped {border: 1px dashed gray;margin: 0 0.4em 0.5em 0.4em;box-sizing: border-box;padding-bottom: 0.4em;background-color: white;}#sk-container-id-7 div.sk-label label {font-family: monospace;font-weight: bold;display: inline-block;line-height: 1.2em;}#sk-container-id-7 div.sk-label-container {text-align: center;}#sk-container-id-7 div.sk-container {/* jupyter's `normalize.less` sets `[hidden] { display: none; }` but bootstrap.min.css set `[hidden] { display: none !important; }` so we also need the `!important` here to be able to override the default hidden behavior on the sphinx rendered scikit-learn.org. See: https://github.com/scikit-learn/scikit-learn/issues/21755 */display: inline-block !important;position: relative;}#sk-container-id-7 div.sk-text-repr-fallback {display: none;}</style><div id=\"sk-container-id-7\" class=\"sk-top-container\"><div class=\"sk-text-repr-fallback\"><pre>RandomizedSearchCV(estimator=LogisticRegression(),\n",
       "                   param_distributions={&#x27;C&#x27;: [100, 10, 1, 50],\n",
       "                                        &#x27;class_weight&#x27;: [{0: 1, 1: 1},\n",
       "                                                         {0: 1, 1: 10},\n",
       "                                                         {0: 1, 1: 30},\n",
       "                                                         {0: 1, 1: 50},\n",
       "                                                         {0: 1, 1: 60},\n",
       "                                                         {0: 1, 1: 70},\n",
       "                                                         {0: 1, 1: 90},\n",
       "                                                         {0: 5, 1: 1},\n",
       "                                                         {0: 5, 1: 10},\n",
       "                                                         {0: 5, 1: 30},\n",
       "                                                         {0: 5, 1: 50},\n",
       "                                                         {0: 5, 1: 60},\n",
       "                                                         {0: 5, 1: 70},\n",
       "                                                         {0: 5, 1: 90},\n",
       "                                                         {0: 10, 1: 1},\n",
       "                                                         {0: 10, 1: 10},\n",
       "                                                         {0: 10, 1: 30},\n",
       "                                                         {0: 10, 1: 50},\n",
       "                                                         {0: 10, 1: 60},\n",
       "                                                         {0: 10, 1: 70},\n",
       "                                                         {0: 10, 1: 90},\n",
       "                                                         {0: 14, 1: 1},\n",
       "                                                         {0: 14, 1: 10},\n",
       "                                                         {0: 14, 1: 30},\n",
       "                                                         {0: 14, 1: 50},\n",
       "                                                         {0: 14, 1: 60},\n",
       "                                                         {0: 14, 1: 70},\n",
       "                                                         {0: 14, 1: 90},\n",
       "                                                         {0: 50, 1: 1},\n",
       "                                                         {0: 50, 1: 10}, ...],\n",
       "                                        &#x27;penalty&#x27;: [&#x27;l1&#x27;, &#x27;l2&#x27;, &#x27;elasticnet&#x27;],\n",
       "                                        &#x27;solver&#x27;: [&#x27;liblinear&#x27;, &#x27;newton-cg&#x27;,\n",
       "                                                   &#x27;newton-cholesky&#x27;, &#x27;sag&#x27;,\n",
       "                                                   &#x27;saga&#x27;]},\n",
       "                   scoring=&#x27;accuracy&#x27;)</pre><b>In a Jupyter environment, please rerun this cell to show the HTML representation or trust the notebook. <br />On GitHub, the HTML representation is unable to render, please try loading this page with nbviewer.org.</b></div><div class=\"sk-container\" hidden><div class=\"sk-item sk-dashed-wrapped\"><div class=\"sk-label-container\"><div class=\"sk-label sk-toggleable\"><input class=\"sk-toggleable__control sk-hidden--visually\" id=\"sk-estimator-id-17\" type=\"checkbox\" ><label for=\"sk-estimator-id-17\" class=\"sk-toggleable__label sk-toggleable__label-arrow\">RandomizedSearchCV</label><div class=\"sk-toggleable__content\"><pre>RandomizedSearchCV(estimator=LogisticRegression(),\n",
       "                   param_distributions={&#x27;C&#x27;: [100, 10, 1, 50],\n",
       "                                        &#x27;class_weight&#x27;: [{0: 1, 1: 1},\n",
       "                                                         {0: 1, 1: 10},\n",
       "                                                         {0: 1, 1: 30},\n",
       "                                                         {0: 1, 1: 50},\n",
       "                                                         {0: 1, 1: 60},\n",
       "                                                         {0: 1, 1: 70},\n",
       "                                                         {0: 1, 1: 90},\n",
       "                                                         {0: 5, 1: 1},\n",
       "                                                         {0: 5, 1: 10},\n",
       "                                                         {0: 5, 1: 30},\n",
       "                                                         {0: 5, 1: 50},\n",
       "                                                         {0: 5, 1: 60},\n",
       "                                                         {0: 5, 1: 70},\n",
       "                                                         {0: 5, 1: 90},\n",
       "                                                         {0: 10, 1: 1},\n",
       "                                                         {0: 10, 1: 10},\n",
       "                                                         {0: 10, 1: 30},\n",
       "                                                         {0: 10, 1: 50},\n",
       "                                                         {0: 10, 1: 60},\n",
       "                                                         {0: 10, 1: 70},\n",
       "                                                         {0: 10, 1: 90},\n",
       "                                                         {0: 14, 1: 1},\n",
       "                                                         {0: 14, 1: 10},\n",
       "                                                         {0: 14, 1: 30},\n",
       "                                                         {0: 14, 1: 50},\n",
       "                                                         {0: 14, 1: 60},\n",
       "                                                         {0: 14, 1: 70},\n",
       "                                                         {0: 14, 1: 90},\n",
       "                                                         {0: 50, 1: 1},\n",
       "                                                         {0: 50, 1: 10}, ...],\n",
       "                                        &#x27;penalty&#x27;: [&#x27;l1&#x27;, &#x27;l2&#x27;, &#x27;elasticnet&#x27;],\n",
       "                                        &#x27;solver&#x27;: [&#x27;liblinear&#x27;, &#x27;newton-cg&#x27;,\n",
       "                                                   &#x27;newton-cholesky&#x27;, &#x27;sag&#x27;,\n",
       "                                                   &#x27;saga&#x27;]},\n",
       "                   scoring=&#x27;accuracy&#x27;)</pre></div></div></div><div class=\"sk-parallel\"><div class=\"sk-parallel-item\"><div class=\"sk-item\"><div class=\"sk-label-container\"><div class=\"sk-label sk-toggleable\"><input class=\"sk-toggleable__control sk-hidden--visually\" id=\"sk-estimator-id-18\" type=\"checkbox\" ><label for=\"sk-estimator-id-18\" class=\"sk-toggleable__label sk-toggleable__label-arrow\">estimator: LogisticRegression</label><div class=\"sk-toggleable__content\"><pre>LogisticRegression()</pre></div></div></div><div class=\"sk-serial\"><div class=\"sk-item\"><div class=\"sk-estimator sk-toggleable\"><input class=\"sk-toggleable__control sk-hidden--visually\" id=\"sk-estimator-id-19\" type=\"checkbox\" ><label for=\"sk-estimator-id-19\" class=\"sk-toggleable__label sk-toggleable__label-arrow\">LogisticRegression</label><div class=\"sk-toggleable__content\"><pre>LogisticRegression()</pre></div></div></div></div></div></div></div></div></div></div>"
      ],
      "text/plain": [
       "RandomizedSearchCV(estimator=LogisticRegression(),\n",
       "                   param_distributions={'C': [100, 10, 1, 50],\n",
       "                                        'class_weight': [{0: 1, 1: 1},\n",
       "                                                         {0: 1, 1: 10},\n",
       "                                                         {0: 1, 1: 30},\n",
       "                                                         {0: 1, 1: 50},\n",
       "                                                         {0: 1, 1: 60},\n",
       "                                                         {0: 1, 1: 70},\n",
       "                                                         {0: 1, 1: 90},\n",
       "                                                         {0: 5, 1: 1},\n",
       "                                                         {0: 5, 1: 10},\n",
       "                                                         {0: 5, 1: 30},\n",
       "                                                         {0: 5, 1: 50},\n",
       "                                                         {0: 5, 1: 60},\n",
       "                                                         {0: 5, 1: 70},\n",
       "                                                         {0: 5, 1: 90},\n",
       "                                                         {0: 10, 1: 1},\n",
       "                                                         {0: 10, 1: 10},\n",
       "                                                         {0: 10, 1: 30},\n",
       "                                                         {0: 10, 1: 50},\n",
       "                                                         {0: 10, 1: 60},\n",
       "                                                         {0: 10, 1: 70},\n",
       "                                                         {0: 10, 1: 90},\n",
       "                                                         {0: 14, 1: 1},\n",
       "                                                         {0: 14, 1: 10},\n",
       "                                                         {0: 14, 1: 30},\n",
       "                                                         {0: 14, 1: 50},\n",
       "                                                         {0: 14, 1: 60},\n",
       "                                                         {0: 14, 1: 70},\n",
       "                                                         {0: 14, 1: 90},\n",
       "                                                         {0: 50, 1: 1},\n",
       "                                                         {0: 50, 1: 10}, ...],\n",
       "                                        'penalty': ['l1', 'l2', 'elasticnet'],\n",
       "                                        'solver': ['liblinear', 'newton-cg',\n",
       "                                                   'newton-cholesky', 'sag',\n",
       "                                                   'saga']},\n",
       "                   scoring='accuracy')"
      ]
     },
     "execution_count": 48,
     "metadata": {},
     "output_type": "execute_result"
    }
   ],
   "source": [
    "ran.fit(X_train,y_train)"
   ]
  },
  {
   "cell_type": "code",
   "execution_count": 49,
   "id": "4cafbaa3",
   "metadata": {},
   "outputs": [],
   "source": [
    "y_predict=ran.predict(X_test)"
   ]
  },
  {
   "cell_type": "code",
   "execution_count": 50,
   "id": "eff3b4c6",
   "metadata": {},
   "outputs": [
    {
     "data": {
      "text/plain": [
       "0.9912"
      ]
     },
     "execution_count": 50,
     "metadata": {},
     "output_type": "execute_result"
    }
   ],
   "source": [
    "accuracy_score(y_test,y_predict)"
   ]
  },
  {
   "cell_type": "code",
   "execution_count": 51,
   "id": "b1cfb457",
   "metadata": {},
   "outputs": [
    {
     "data": {
      "text/plain": [
       "{'solver': 'sag', 'penalty': 'l2', 'class_weight': {0: 5, 1: 30}, 'C': 100}"
      ]
     },
     "execution_count": 51,
     "metadata": {},
     "output_type": "execute_result"
    }
   ],
   "source": [
    "ran.best_params_"
   ]
  },
  {
   "cell_type": "code",
   "execution_count": 52,
   "id": "b3a324d6",
   "metadata": {},
   "outputs": [
    {
     "data": {
      "text/plain": [
       "array([[2454,    0],\n",
       "       [  22,   24]], dtype=int64)"
      ]
     },
     "execution_count": 52,
     "metadata": {},
     "output_type": "execute_result"
    }
   ],
   "source": [
    "confusion_matrix(y_test,y_predict)"
   ]
  },
  {
   "cell_type": "code",
   "execution_count": 53,
   "id": "5722503f",
   "metadata": {},
   "outputs": [
    {
     "name": "stdout",
     "output_type": "stream",
     "text": [
      "              precision    recall  f1-score   support\n",
      "\n",
      "           0       0.99      1.00      1.00      2454\n",
      "           1       1.00      0.52      0.69        46\n",
      "\n",
      "    accuracy                           0.99      2500\n",
      "   macro avg       1.00      0.76      0.84      2500\n",
      "weighted avg       0.99      0.99      0.99      2500\n",
      "\n"
     ]
    }
   ],
   "source": [
    "print(classification_report(y_test,y_predict))"
   ]
  },
  {
   "cell_type": "markdown",
   "id": "bc39cd3e",
   "metadata": {},
   "source": [
    "## roc curve and roc auc score\n",
    "Receiver Operating Characteristic"
   ]
  },
  {
   "cell_type": "code",
   "execution_count": 54,
   "id": "3a35c7d4",
   "metadata": {},
   "outputs": [],
   "source": [
    "from sklearn.datasets import make_classification\n",
    "from sklearn.linear_model import LogisticRegression\n",
    "from sklearn.model_selection import train_test_split\n",
    "from sklearn.metrics import roc_curve\n",
    "from sklearn.metrics import roc_auc_score\n",
    "from matplotlib import pyplot"
   ]
  },
  {
   "cell_type": "code",
   "execution_count": 55,
   "id": "159a61c9",
   "metadata": {},
   "outputs": [],
   "source": [
    "X, y = make_classification(n_samples=1000, n_classes=2, random_state=1)"
   ]
  },
  {
   "cell_type": "code",
   "execution_count": 56,
   "metadata": {},
   "outputs": [],
   "source": [
    "## Split the dataset into train and test\n",
    "from sklearn.model_selection import train_test_split\n",
    "X_train,X_test,y_train,y_test=train_test_split(X,y,test_size=0.25,random_state=0)\n"
   ]
  },
  {
   "cell_type": "code",
   "execution_count": 57,
   "id": "c3beca0c",
   "metadata": {},
   "outputs": [
    {
     "data": {
      "text/plain": [
       "[0,\n",
       " 0,\n",
       " 0,\n",
       " 0,\n",
       " 0,\n",
       " 0,\n",
       " 0,\n",
       " 0,\n",
       " 0,\n",
       " 0,\n",
       " 0,\n",
       " 0,\n",
       " 0,\n",
       " 0,\n",
       " 0,\n",
       " 0,\n",
       " 0,\n",
       " 0,\n",
       " 0,\n",
       " 0,\n",
       " 0,\n",
       " 0,\n",
       " 0,\n",
       " 0,\n",
       " 0,\n",
       " 0,\n",
       " 0,\n",
       " 0,\n",
       " 0,\n",
       " 0,\n",
       " 0,\n",
       " 0,\n",
       " 0,\n",
       " 0,\n",
       " 0,\n",
       " 0,\n",
       " 0,\n",
       " 0,\n",
       " 0,\n",
       " 0,\n",
       " 0,\n",
       " 0,\n",
       " 0,\n",
       " 0,\n",
       " 0,\n",
       " 0,\n",
       " 0,\n",
       " 0,\n",
       " 0,\n",
       " 0,\n",
       " 0,\n",
       " 0,\n",
       " 0,\n",
       " 0,\n",
       " 0,\n",
       " 0,\n",
       " 0,\n",
       " 0,\n",
       " 0,\n",
       " 0,\n",
       " 0,\n",
       " 0,\n",
       " 0,\n",
       " 0,\n",
       " 0,\n",
       " 0,\n",
       " 0,\n",
       " 0,\n",
       " 0,\n",
       " 0,\n",
       " 0,\n",
       " 0,\n",
       " 0,\n",
       " 0,\n",
       " 0,\n",
       " 0,\n",
       " 0,\n",
       " 0,\n",
       " 0,\n",
       " 0,\n",
       " 0,\n",
       " 0,\n",
       " 0,\n",
       " 0,\n",
       " 0,\n",
       " 0,\n",
       " 0,\n",
       " 0,\n",
       " 0,\n",
       " 0,\n",
       " 0,\n",
       " 0,\n",
       " 0,\n",
       " 0,\n",
       " 0,\n",
       " 0,\n",
       " 0,\n",
       " 0,\n",
       " 0,\n",
       " 0,\n",
       " 0,\n",
       " 0,\n",
       " 0,\n",
       " 0,\n",
       " 0,\n",
       " 0,\n",
       " 0,\n",
       " 0,\n",
       " 0,\n",
       " 0,\n",
       " 0,\n",
       " 0,\n",
       " 0,\n",
       " 0,\n",
       " 0,\n",
       " 0,\n",
       " 0,\n",
       " 0,\n",
       " 0,\n",
       " 0,\n",
       " 0,\n",
       " 0,\n",
       " 0,\n",
       " 0,\n",
       " 0,\n",
       " 0,\n",
       " 0,\n",
       " 0,\n",
       " 0,\n",
       " 0,\n",
       " 0,\n",
       " 0,\n",
       " 0,\n",
       " 0,\n",
       " 0,\n",
       " 0,\n",
       " 0,\n",
       " 0,\n",
       " 0,\n",
       " 0,\n",
       " 0,\n",
       " 0,\n",
       " 0,\n",
       " 0,\n",
       " 0,\n",
       " 0,\n",
       " 0,\n",
       " 0,\n",
       " 0,\n",
       " 0,\n",
       " 0,\n",
       " 0,\n",
       " 0,\n",
       " 0,\n",
       " 0,\n",
       " 0,\n",
       " 0,\n",
       " 0,\n",
       " 0,\n",
       " 0,\n",
       " 0,\n",
       " 0,\n",
       " 0,\n",
       " 0,\n",
       " 0,\n",
       " 0,\n",
       " 0,\n",
       " 0,\n",
       " 0,\n",
       " 0,\n",
       " 0,\n",
       " 0,\n",
       " 0,\n",
       " 0,\n",
       " 0,\n",
       " 0,\n",
       " 0,\n",
       " 0,\n",
       " 0,\n",
       " 0,\n",
       " 0,\n",
       " 0,\n",
       " 0,\n",
       " 0,\n",
       " 0,\n",
       " 0,\n",
       " 0,\n",
       " 0,\n",
       " 0,\n",
       " 0,\n",
       " 0,\n",
       " 0,\n",
       " 0,\n",
       " 0,\n",
       " 0,\n",
       " 0,\n",
       " 0,\n",
       " 0,\n",
       " 0,\n",
       " 0,\n",
       " 0,\n",
       " 0,\n",
       " 0,\n",
       " 0,\n",
       " 0,\n",
       " 0,\n",
       " 0,\n",
       " 0,\n",
       " 0,\n",
       " 0,\n",
       " 0,\n",
       " 0,\n",
       " 0,\n",
       " 0,\n",
       " 0,\n",
       " 0,\n",
       " 0,\n",
       " 0,\n",
       " 0,\n",
       " 0,\n",
       " 0,\n",
       " 0,\n",
       " 0,\n",
       " 0,\n",
       " 0,\n",
       " 0,\n",
       " 0,\n",
       " 0,\n",
       " 0,\n",
       " 0,\n",
       " 0,\n",
       " 0,\n",
       " 0,\n",
       " 0,\n",
       " 0,\n",
       " 0,\n",
       " 0,\n",
       " 0,\n",
       " 0,\n",
       " 0,\n",
       " 0,\n",
       " 0,\n",
       " 0,\n",
       " 0,\n",
       " 0,\n",
       " 0,\n",
       " 0,\n",
       " 0,\n",
       " 0,\n",
       " 0]"
      ]
     },
     "execution_count": 57,
     "metadata": {},
     "output_type": "execute_result"
    }
   ],
   "source": [
    "# Created a dummy model with default 0 as output \n",
    "dummy_model_prob = [0 for _ in range(len(y_test))]\n",
    "dummy_model_prob"
   ]
  },
  {
   "cell_type": "code",
   "execution_count": 58,
   "id": "8510a0a2",
   "metadata": {},
   "outputs": [
    {
     "data": {
      "text/html": [
       "<style>#sk-container-id-8 {color: black;}#sk-container-id-8 pre{padding: 0;}#sk-container-id-8 div.sk-toggleable {background-color: white;}#sk-container-id-8 label.sk-toggleable__label {cursor: pointer;display: block;width: 100%;margin-bottom: 0;padding: 0.3em;box-sizing: border-box;text-align: center;}#sk-container-id-8 label.sk-toggleable__label-arrow:before {content: \"▸\";float: left;margin-right: 0.25em;color: #696969;}#sk-container-id-8 label.sk-toggleable__label-arrow:hover:before {color: black;}#sk-container-id-8 div.sk-estimator:hover label.sk-toggleable__label-arrow:before {color: black;}#sk-container-id-8 div.sk-toggleable__content {max-height: 0;max-width: 0;overflow: hidden;text-align: left;background-color: #f0f8ff;}#sk-container-id-8 div.sk-toggleable__content pre {margin: 0.2em;color: black;border-radius: 0.25em;background-color: #f0f8ff;}#sk-container-id-8 input.sk-toggleable__control:checked~div.sk-toggleable__content {max-height: 200px;max-width: 100%;overflow: auto;}#sk-container-id-8 input.sk-toggleable__control:checked~label.sk-toggleable__label-arrow:before {content: \"▾\";}#sk-container-id-8 div.sk-estimator input.sk-toggleable__control:checked~label.sk-toggleable__label {background-color: #d4ebff;}#sk-container-id-8 div.sk-label input.sk-toggleable__control:checked~label.sk-toggleable__label {background-color: #d4ebff;}#sk-container-id-8 input.sk-hidden--visually {border: 0;clip: rect(1px 1px 1px 1px);clip: rect(1px, 1px, 1px, 1px);height: 1px;margin: -1px;overflow: hidden;padding: 0;position: absolute;width: 1px;}#sk-container-id-8 div.sk-estimator {font-family: monospace;background-color: #f0f8ff;border: 1px dotted black;border-radius: 0.25em;box-sizing: border-box;margin-bottom: 0.5em;}#sk-container-id-8 div.sk-estimator:hover {background-color: #d4ebff;}#sk-container-id-8 div.sk-parallel-item::after {content: \"\";width: 100%;border-bottom: 1px solid gray;flex-grow: 1;}#sk-container-id-8 div.sk-label:hover label.sk-toggleable__label {background-color: #d4ebff;}#sk-container-id-8 div.sk-serial::before {content: \"\";position: absolute;border-left: 1px solid gray;box-sizing: border-box;top: 0;bottom: 0;left: 50%;z-index: 0;}#sk-container-id-8 div.sk-serial {display: flex;flex-direction: column;align-items: center;background-color: white;padding-right: 0.2em;padding-left: 0.2em;position: relative;}#sk-container-id-8 div.sk-item {position: relative;z-index: 1;}#sk-container-id-8 div.sk-parallel {display: flex;align-items: stretch;justify-content: center;background-color: white;position: relative;}#sk-container-id-8 div.sk-item::before, #sk-container-id-8 div.sk-parallel-item::before {content: \"\";position: absolute;border-left: 1px solid gray;box-sizing: border-box;top: 0;bottom: 0;left: 50%;z-index: -1;}#sk-container-id-8 div.sk-parallel-item {display: flex;flex-direction: column;z-index: 1;position: relative;background-color: white;}#sk-container-id-8 div.sk-parallel-item:first-child::after {align-self: flex-end;width: 50%;}#sk-container-id-8 div.sk-parallel-item:last-child::after {align-self: flex-start;width: 50%;}#sk-container-id-8 div.sk-parallel-item:only-child::after {width: 0;}#sk-container-id-8 div.sk-dashed-wrapped {border: 1px dashed gray;margin: 0 0.4em 0.5em 0.4em;box-sizing: border-box;padding-bottom: 0.4em;background-color: white;}#sk-container-id-8 div.sk-label label {font-family: monospace;font-weight: bold;display: inline-block;line-height: 1.2em;}#sk-container-id-8 div.sk-label-container {text-align: center;}#sk-container-id-8 div.sk-container {/* jupyter's `normalize.less` sets `[hidden] { display: none; }` but bootstrap.min.css set `[hidden] { display: none !important; }` so we also need the `!important` here to be able to override the default hidden behavior on the sphinx rendered scikit-learn.org. See: https://github.com/scikit-learn/scikit-learn/issues/21755 */display: inline-block !important;position: relative;}#sk-container-id-8 div.sk-text-repr-fallback {display: none;}</style><div id=\"sk-container-id-8\" class=\"sk-top-container\"><div class=\"sk-text-repr-fallback\"><pre>LogisticRegression()</pre><b>In a Jupyter environment, please rerun this cell to show the HTML representation or trust the notebook. <br />On GitHub, the HTML representation is unable to render, please try loading this page with nbviewer.org.</b></div><div class=\"sk-container\" hidden><div class=\"sk-item\"><div class=\"sk-estimator sk-toggleable\"><input class=\"sk-toggleable__control sk-hidden--visually\" id=\"sk-estimator-id-20\" type=\"checkbox\" checked><label for=\"sk-estimator-id-20\" class=\"sk-toggleable__label sk-toggleable__label-arrow\">LogisticRegression</label><div class=\"sk-toggleable__content\"><pre>LogisticRegression()</pre></div></div></div></div></div>"
      ],
      "text/plain": [
       "LogisticRegression()"
      ]
     },
     "execution_count": 58,
     "metadata": {},
     "output_type": "execute_result"
    }
   ],
   "source": [
    "## Lets Create Basic Logistic Model\n",
    "model=LogisticRegression()\n",
    "model.fit(X_train,y_train)"
   ]
  },
  {
   "cell_type": "code",
   "execution_count": 65,
   "id": "404e4b5b",
   "metadata": {},
   "outputs": [
    {
     "data": {
      "text/plain": [
       "array([[8.16436799e-02, 9.18356320e-01],\n",
       "       [1.13414988e-01, 8.86585012e-01],\n",
       "       [9.76883710e-01, 2.31162898e-02],\n",
       "       [1.80738214e-02, 9.81926179e-01],\n",
       "       [4.54450137e-02, 9.54554986e-01],\n",
       "       [2.03350453e-01, 7.96649547e-01],\n",
       "       [9.93176674e-01, 6.82332634e-03],\n",
       "       [9.46020030e-01, 5.39799703e-02],\n",
       "       [8.67860698e-03, 9.91321393e-01],\n",
       "       [5.91440489e-01, 4.08559511e-01],\n",
       "       [9.85089605e-01, 1.49103945e-02],\n",
       "       [8.28734151e-02, 9.17126585e-01],\n",
       "       [1.37721510e-01, 8.62278490e-01],\n",
       "       [5.20992093e-03, 9.94790079e-01],\n",
       "       [9.60107910e-01, 3.98920904e-02],\n",
       "       [9.50680690e-01, 4.93193096e-02],\n",
       "       [2.10462990e-02, 9.78953701e-01],\n",
       "       [8.30142923e-01, 1.69857077e-01],\n",
       "       [9.62867394e-01, 3.71326061e-02],\n",
       "       [3.21821832e-02, 9.67817817e-01],\n",
       "       [9.96087811e-01, 3.91218916e-03],\n",
       "       [1.14079029e-01, 8.85920971e-01],\n",
       "       [1.80197487e-01, 8.19802513e-01],\n",
       "       [4.30554119e-01, 5.69445881e-01],\n",
       "       [4.11740648e-01, 5.88259352e-01],\n",
       "       [2.68191272e-02, 9.73180873e-01],\n",
       "       [3.39718858e-02, 9.66028114e-01],\n",
       "       [9.97262040e-01, 2.73795975e-03],\n",
       "       [1.98315279e-01, 8.01684721e-01],\n",
       "       [8.61022171e-01, 1.38977829e-01],\n",
       "       [9.64812744e-01, 3.51872564e-02],\n",
       "       [7.15265534e-01, 2.84734466e-01],\n",
       "       [1.89399580e-01, 8.10600420e-01],\n",
       "       [8.97906754e-01, 1.02093246e-01],\n",
       "       [9.90079007e-02, 9.00992099e-01],\n",
       "       [8.95333359e-01, 1.04666641e-01],\n",
       "       [9.93125036e-01, 6.87496368e-03],\n",
       "       [9.03091391e-01, 9.69086090e-02],\n",
       "       [9.69114748e-01, 3.08852522e-02],\n",
       "       [2.55954301e-01, 7.44045699e-01],\n",
       "       [9.47054214e-01, 5.29457861e-02],\n",
       "       [9.85513917e-01, 1.44860827e-02],\n",
       "       [5.53079499e-01, 4.46920501e-01],\n",
       "       [3.38067991e-01, 6.61932009e-01],\n",
       "       [5.79632967e-02, 9.42036703e-01],\n",
       "       [5.89210820e-04, 9.99410789e-01],\n",
       "       [3.39393607e-02, 9.66060639e-01],\n",
       "       [6.39563942e-01, 3.60436058e-01],\n",
       "       [8.56641155e-01, 1.43358845e-01],\n",
       "       [8.57501354e-01, 1.42498646e-01],\n",
       "       [4.81143044e-01, 5.18856956e-01],\n",
       "       [9.36524228e-01, 6.34757718e-02],\n",
       "       [8.43433582e-02, 9.15656642e-01],\n",
       "       [1.84204568e-01, 8.15795432e-01],\n",
       "       [3.82307777e-01, 6.17692223e-01],\n",
       "       [9.21488651e-01, 7.85113485e-02],\n",
       "       [2.27333816e-01, 7.72666184e-01],\n",
       "       [1.78208048e-01, 8.21791952e-01],\n",
       "       [7.81391197e-01, 2.18608803e-01],\n",
       "       [4.86419636e-01, 5.13580364e-01],\n",
       "       [1.18353123e-01, 8.81646877e-01],\n",
       "       [9.53880138e-01, 4.61198616e-02],\n",
       "       [5.37157377e-01, 4.62842623e-01],\n",
       "       [8.69722952e-01, 1.30277048e-01],\n",
       "       [9.83286009e-01, 1.67139915e-02],\n",
       "       [9.97889326e-01, 2.11067367e-03],\n",
       "       [5.03218253e-01, 4.96781747e-01],\n",
       "       [8.07160531e-01, 1.92839469e-01],\n",
       "       [1.34330242e-02, 9.86566976e-01],\n",
       "       [9.99505142e-01, 4.94858495e-04],\n",
       "       [6.07495577e-01, 3.92504423e-01],\n",
       "       [9.68401768e-01, 3.15982321e-02],\n",
       "       [5.44357391e-01, 4.55642609e-01],\n",
       "       [7.27534224e-01, 2.72465776e-01],\n",
       "       [4.57236853e-01, 5.42763147e-01],\n",
       "       [8.30879499e-01, 1.69120501e-01],\n",
       "       [5.85045787e-02, 9.41495421e-01],\n",
       "       [4.05265941e-02, 9.59473406e-01],\n",
       "       [2.81909227e-01, 7.18090773e-01],\n",
       "       [8.99912109e-02, 9.10008789e-01],\n",
       "       [8.18068349e-01, 1.81931651e-01],\n",
       "       [9.96977758e-01, 3.02224178e-03],\n",
       "       [4.56116471e-03, 9.95438835e-01],\n",
       "       [5.11782961e-02, 9.48821704e-01],\n",
       "       [8.82428158e-01, 1.17571842e-01],\n",
       "       [1.49911310e-01, 8.50088690e-01],\n",
       "       [1.06199505e-02, 9.89380050e-01],\n",
       "       [9.23052473e-01, 7.69475275e-02],\n",
       "       [5.15385126e-01, 4.84614874e-01],\n",
       "       [9.76055997e-01, 2.39440029e-02],\n",
       "       [4.04217815e-01, 5.95782185e-01],\n",
       "       [1.12111024e-01, 8.87888976e-01],\n",
       "       [3.70945995e-01, 6.29054005e-01],\n",
       "       [9.07061501e-01, 9.29384989e-02],\n",
       "       [1.56072807e-01, 8.43927193e-01],\n",
       "       [1.85383393e-01, 8.14616607e-01],\n",
       "       [6.60075765e-02, 9.33992424e-01],\n",
       "       [4.71097990e-01, 5.28902010e-01],\n",
       "       [2.48142295e-02, 9.75185771e-01],\n",
       "       [8.73056961e-01, 1.26943039e-01],\n",
       "       [1.23423367e-01, 8.76576633e-01],\n",
       "       [9.43454497e-01, 5.65455028e-02],\n",
       "       [2.02166676e-02, 9.79783332e-01],\n",
       "       [9.49908773e-01, 5.00912275e-02],\n",
       "       [1.44932740e-01, 8.55067260e-01],\n",
       "       [8.85750042e-01, 1.14249958e-01],\n",
       "       [1.35085930e-02, 9.86491407e-01],\n",
       "       [6.43512362e-01, 3.56487638e-01],\n",
       "       [9.39850332e-01, 6.01496683e-02],\n",
       "       [9.98159636e-01, 1.84036419e-03],\n",
       "       [1.75724706e-02, 9.82427529e-01],\n",
       "       [5.78195559e-02, 9.42180444e-01],\n",
       "       [9.91023968e-01, 8.97603221e-03],\n",
       "       [7.02784188e-01, 2.97215812e-01],\n",
       "       [4.21596367e-01, 5.78403633e-01],\n",
       "       [8.44836934e-01, 1.55163066e-01],\n",
       "       [9.89105581e-01, 1.08944186e-02],\n",
       "       [1.34027792e-01, 8.65972208e-01],\n",
       "       [9.90826354e-01, 9.17364585e-03],\n",
       "       [3.33404717e-01, 6.66595283e-01],\n",
       "       [1.69963992e-01, 8.30036008e-01],\n",
       "       [1.67543643e-01, 8.32456357e-01],\n",
       "       [7.14565691e-01, 2.85434309e-01],\n",
       "       [9.93372224e-01, 6.62777561e-03],\n",
       "       [9.95189714e-01, 4.81028558e-03],\n",
       "       [5.77921868e-02, 9.42207813e-01],\n",
       "       [8.73550520e-01, 1.26449480e-01],\n",
       "       [8.91822810e-01, 1.08177190e-01],\n",
       "       [1.01993900e-01, 8.98006100e-01],\n",
       "       [1.40131087e-02, 9.85986891e-01],\n",
       "       [9.53878451e-01, 4.61215489e-02],\n",
       "       [9.79456102e-01, 2.05438984e-02],\n",
       "       [5.04646584e-01, 4.95353416e-01],\n",
       "       [1.32685345e-01, 8.67314655e-01],\n",
       "       [2.27743752e-03, 9.97722562e-01],\n",
       "       [1.27480579e-01, 8.72519421e-01],\n",
       "       [9.82350181e-01, 1.76498190e-02],\n",
       "       [8.95875927e-01, 1.04124073e-01],\n",
       "       [9.59172682e-01, 4.08273180e-02],\n",
       "       [7.88394421e-01, 2.11605579e-01],\n",
       "       [2.83646051e-01, 7.16353949e-01],\n",
       "       [8.03200222e-01, 1.96799778e-01],\n",
       "       [6.13469460e-01, 3.86530540e-01],\n",
       "       [3.04733580e-01, 6.95266420e-01],\n",
       "       [9.66667212e-01, 3.33327882e-02],\n",
       "       [1.54122576e-01, 8.45877424e-01],\n",
       "       [3.78814424e-01, 6.21185576e-01],\n",
       "       [6.03794105e-01, 3.96205895e-01],\n",
       "       [9.90799690e-01, 9.20031005e-03],\n",
       "       [6.24195702e-02, 9.37580430e-01],\n",
       "       [9.57564932e-01, 4.24350675e-02],\n",
       "       [1.97827434e-02, 9.80217257e-01],\n",
       "       [5.62991696e-02, 9.43700830e-01],\n",
       "       [1.77354733e-01, 8.22645267e-01],\n",
       "       [1.30365387e-02, 9.86963461e-01],\n",
       "       [9.99809141e-01, 1.90858901e-04],\n",
       "       [1.54184524e-01, 8.45815476e-01],\n",
       "       [8.98852258e-01, 1.01147742e-01],\n",
       "       [6.30714605e-02, 9.36928540e-01],\n",
       "       [3.84210087e-01, 6.15789913e-01],\n",
       "       [9.84879494e-01, 1.51205062e-02],\n",
       "       [2.61681489e-02, 9.73831851e-01],\n",
       "       [2.15634162e-03, 9.97843658e-01],\n",
       "       [7.38715998e-02, 9.26128400e-01],\n",
       "       [9.45005206e-01, 5.49947942e-02],\n",
       "       [9.95788841e-01, 4.21115905e-03],\n",
       "       [6.99124589e-01, 3.00875411e-01],\n",
       "       [7.75614725e-02, 9.22438527e-01],\n",
       "       [7.18506943e-02, 9.28149306e-01],\n",
       "       [9.97803363e-01, 2.19663664e-03],\n",
       "       [9.91085201e-01, 8.91479876e-03],\n",
       "       [8.23979654e-01, 1.76020346e-01],\n",
       "       [1.50614715e-01, 8.49385285e-01],\n",
       "       [8.28063072e-01, 1.71936928e-01],\n",
       "       [1.25343862e-01, 8.74656138e-01],\n",
       "       [3.75997843e-01, 6.24002157e-01],\n",
       "       [2.60601729e-02, 9.73939827e-01],\n",
       "       [1.25011038e-02, 9.87498896e-01],\n",
       "       [5.11895103e-03, 9.94881049e-01],\n",
       "       [8.66717274e-01, 1.33282726e-01],\n",
       "       [1.68115487e-01, 8.31884513e-01],\n",
       "       [9.60866612e-01, 3.91333876e-02],\n",
       "       [5.12436395e-01, 4.87563605e-01],\n",
       "       [4.89289230e-01, 5.10710770e-01],\n",
       "       [2.78644852e-01, 7.21355148e-01],\n",
       "       [9.97558418e-01, 2.44158190e-03],\n",
       "       [6.64637288e-01, 3.35362712e-01],\n",
       "       [9.91522301e-01, 8.47769868e-03],\n",
       "       [9.97215299e-01, 2.78470096e-03],\n",
       "       [1.92226640e-01, 8.07773360e-01],\n",
       "       [4.66035872e-01, 5.33964128e-01],\n",
       "       [2.15514064e-01, 7.84485936e-01],\n",
       "       [8.21284335e-01, 1.78715665e-01],\n",
       "       [3.11946063e-01, 6.88053937e-01],\n",
       "       [6.67644315e-03, 9.93323557e-01],\n",
       "       [5.82103333e-01, 4.17896667e-01],\n",
       "       [9.03873259e-02, 9.09612674e-01],\n",
       "       [2.60028687e-01, 7.39971313e-01],\n",
       "       [2.74953904e-02, 9.72504610e-01],\n",
       "       [9.98828484e-01, 1.17151649e-03],\n",
       "       [9.90887796e-01, 9.11220385e-03],\n",
       "       [9.57454501e-01, 4.25454993e-02],\n",
       "       [9.31414646e-01, 6.85853539e-02],\n",
       "       [9.89253662e-01, 1.07463378e-02],\n",
       "       [5.78194750e-02, 9.42180525e-01],\n",
       "       [9.97529340e-01, 2.47065994e-03],\n",
       "       [3.90062929e-01, 6.09937071e-01],\n",
       "       [9.04298438e-01, 9.57015622e-02],\n",
       "       [5.67501227e-02, 9.43249877e-01],\n",
       "       [1.85950885e-01, 8.14049115e-01],\n",
       "       [6.54033688e-01, 3.45966312e-01],\n",
       "       [9.97455130e-01, 2.54486986e-03],\n",
       "       [2.69082459e-03, 9.97309175e-01],\n",
       "       [5.41771624e-02, 9.45822838e-01],\n",
       "       [1.17057579e-02, 9.88294242e-01],\n",
       "       [1.27507663e-01, 8.72492337e-01],\n",
       "       [2.72587236e-01, 7.27412764e-01],\n",
       "       [9.81446766e-01, 1.85532336e-02],\n",
       "       [5.74147627e-01, 4.25852373e-01],\n",
       "       [2.90201935e-01, 7.09798065e-01],\n",
       "       [9.05408459e-01, 9.45915412e-02],\n",
       "       [9.43245324e-01, 5.67546764e-02],\n",
       "       [9.96124049e-01, 3.87595135e-03],\n",
       "       [2.85440496e-01, 7.14559504e-01],\n",
       "       [1.06836797e-01, 8.93163203e-01],\n",
       "       [7.65197582e-01, 2.34802418e-01],\n",
       "       [7.62589220e-01, 2.37410780e-01],\n",
       "       [9.83585809e-02, 9.01641419e-01],\n",
       "       [8.76241580e-01, 1.23758420e-01],\n",
       "       [8.65935106e-01, 1.34064894e-01],\n",
       "       [3.00482093e-03, 9.96995179e-01],\n",
       "       [2.28015695e-01, 7.71984305e-01],\n",
       "       [9.90252515e-01, 9.74748496e-03],\n",
       "       [9.93783546e-01, 6.21645425e-03],\n",
       "       [9.86300746e-01, 1.36992544e-02],\n",
       "       [9.29666985e-01, 7.03330148e-02],\n",
       "       [1.64365665e-02, 9.83563434e-01],\n",
       "       [1.68542796e-01, 8.31457204e-01],\n",
       "       [7.42281126e-01, 2.57718874e-01],\n",
       "       [1.78359031e-01, 8.21640969e-01],\n",
       "       [6.45240319e-02, 9.35475968e-01],\n",
       "       [3.79543017e-01, 6.20456983e-01],\n",
       "       [9.97446415e-01, 2.55358454e-03],\n",
       "       [2.78636827e-03, 9.97213632e-01],\n",
       "       [6.92178987e-01, 3.07821013e-01],\n",
       "       [9.71437091e-01, 2.85629085e-02],\n",
       "       [5.97901613e-01, 4.02098387e-01],\n",
       "       [9.18351618e-01, 8.16483815e-02],\n",
       "       [3.99843161e-03, 9.96001568e-01],\n",
       "       [6.35690895e-01, 3.64309105e-01]])"
      ]
     },
     "execution_count": 65,
     "metadata": {},
     "output_type": "execute_result"
    }
   ],
   "source": [
    "## Prediction based on probability\n",
    "model_prob=model.predict_proba(X_test)\n",
    "model_prob"
   ]
  },
  {
   "cell_type": "code",
   "execution_count": 66,
   "id": "63324fec",
   "metadata": {},
   "outputs": [],
   "source": [
    "## Lets focus on the positive outcome\n",
    "model_prob=model_prob[:,1]\n"
   ]
  },
  {
   "cell_type": "code",
   "execution_count": 67,
   "id": "ad4c3bd4",
   "metadata": {},
   "outputs": [
    {
     "data": {
      "text/plain": [
       "array([9.18356320e-01, 8.86585012e-01, 2.31162898e-02, 9.81926179e-01,\n",
       "       9.54554986e-01, 7.96649547e-01, 6.82332634e-03, 5.39799703e-02,\n",
       "       9.91321393e-01, 4.08559511e-01, 1.49103945e-02, 9.17126585e-01,\n",
       "       8.62278490e-01, 9.94790079e-01, 3.98920904e-02, 4.93193096e-02,\n",
       "       9.78953701e-01, 1.69857077e-01, 3.71326061e-02, 9.67817817e-01,\n",
       "       3.91218916e-03, 8.85920971e-01, 8.19802513e-01, 5.69445881e-01,\n",
       "       5.88259352e-01, 9.73180873e-01, 9.66028114e-01, 2.73795975e-03,\n",
       "       8.01684721e-01, 1.38977829e-01, 3.51872564e-02, 2.84734466e-01,\n",
       "       8.10600420e-01, 1.02093246e-01, 9.00992099e-01, 1.04666641e-01,\n",
       "       6.87496368e-03, 9.69086090e-02, 3.08852522e-02, 7.44045699e-01,\n",
       "       5.29457861e-02, 1.44860827e-02, 4.46920501e-01, 6.61932009e-01,\n",
       "       9.42036703e-01, 9.99410789e-01, 9.66060639e-01, 3.60436058e-01,\n",
       "       1.43358845e-01, 1.42498646e-01, 5.18856956e-01, 6.34757718e-02,\n",
       "       9.15656642e-01, 8.15795432e-01, 6.17692223e-01, 7.85113485e-02,\n",
       "       7.72666184e-01, 8.21791952e-01, 2.18608803e-01, 5.13580364e-01,\n",
       "       8.81646877e-01, 4.61198616e-02, 4.62842623e-01, 1.30277048e-01,\n",
       "       1.67139915e-02, 2.11067367e-03, 4.96781747e-01, 1.92839469e-01,\n",
       "       9.86566976e-01, 4.94858495e-04, 3.92504423e-01, 3.15982321e-02,\n",
       "       4.55642609e-01, 2.72465776e-01, 5.42763147e-01, 1.69120501e-01,\n",
       "       9.41495421e-01, 9.59473406e-01, 7.18090773e-01, 9.10008789e-01,\n",
       "       1.81931651e-01, 3.02224178e-03, 9.95438835e-01, 9.48821704e-01,\n",
       "       1.17571842e-01, 8.50088690e-01, 9.89380050e-01, 7.69475275e-02,\n",
       "       4.84614874e-01, 2.39440029e-02, 5.95782185e-01, 8.87888976e-01,\n",
       "       6.29054005e-01, 9.29384989e-02, 8.43927193e-01, 8.14616607e-01,\n",
       "       9.33992424e-01, 5.28902010e-01, 9.75185771e-01, 1.26943039e-01,\n",
       "       8.76576633e-01, 5.65455028e-02, 9.79783332e-01, 5.00912275e-02,\n",
       "       8.55067260e-01, 1.14249958e-01, 9.86491407e-01, 3.56487638e-01,\n",
       "       6.01496683e-02, 1.84036419e-03, 9.82427529e-01, 9.42180444e-01,\n",
       "       8.97603221e-03, 2.97215812e-01, 5.78403633e-01, 1.55163066e-01,\n",
       "       1.08944186e-02, 8.65972208e-01, 9.17364585e-03, 6.66595283e-01,\n",
       "       8.30036008e-01, 8.32456357e-01, 2.85434309e-01, 6.62777561e-03,\n",
       "       4.81028558e-03, 9.42207813e-01, 1.26449480e-01, 1.08177190e-01,\n",
       "       8.98006100e-01, 9.85986891e-01, 4.61215489e-02, 2.05438984e-02,\n",
       "       4.95353416e-01, 8.67314655e-01, 9.97722562e-01, 8.72519421e-01,\n",
       "       1.76498190e-02, 1.04124073e-01, 4.08273180e-02, 2.11605579e-01,\n",
       "       7.16353949e-01, 1.96799778e-01, 3.86530540e-01, 6.95266420e-01,\n",
       "       3.33327882e-02, 8.45877424e-01, 6.21185576e-01, 3.96205895e-01,\n",
       "       9.20031005e-03, 9.37580430e-01, 4.24350675e-02, 9.80217257e-01,\n",
       "       9.43700830e-01, 8.22645267e-01, 9.86963461e-01, 1.90858901e-04,\n",
       "       8.45815476e-01, 1.01147742e-01, 9.36928540e-01, 6.15789913e-01,\n",
       "       1.51205062e-02, 9.73831851e-01, 9.97843658e-01, 9.26128400e-01,\n",
       "       5.49947942e-02, 4.21115905e-03, 3.00875411e-01, 9.22438527e-01,\n",
       "       9.28149306e-01, 2.19663664e-03, 8.91479876e-03, 1.76020346e-01,\n",
       "       8.49385285e-01, 1.71936928e-01, 8.74656138e-01, 6.24002157e-01,\n",
       "       9.73939827e-01, 9.87498896e-01, 9.94881049e-01, 1.33282726e-01,\n",
       "       8.31884513e-01, 3.91333876e-02, 4.87563605e-01, 5.10710770e-01,\n",
       "       7.21355148e-01, 2.44158190e-03, 3.35362712e-01, 8.47769868e-03,\n",
       "       2.78470096e-03, 8.07773360e-01, 5.33964128e-01, 7.84485936e-01,\n",
       "       1.78715665e-01, 6.88053937e-01, 9.93323557e-01, 4.17896667e-01,\n",
       "       9.09612674e-01, 7.39971313e-01, 9.72504610e-01, 1.17151649e-03,\n",
       "       9.11220385e-03, 4.25454993e-02, 6.85853539e-02, 1.07463378e-02,\n",
       "       9.42180525e-01, 2.47065994e-03, 6.09937071e-01, 9.57015622e-02,\n",
       "       9.43249877e-01, 8.14049115e-01, 3.45966312e-01, 2.54486986e-03,\n",
       "       9.97309175e-01, 9.45822838e-01, 9.88294242e-01, 8.72492337e-01,\n",
       "       7.27412764e-01, 1.85532336e-02, 4.25852373e-01, 7.09798065e-01,\n",
       "       9.45915412e-02, 5.67546764e-02, 3.87595135e-03, 7.14559504e-01,\n",
       "       8.93163203e-01, 2.34802418e-01, 2.37410780e-01, 9.01641419e-01,\n",
       "       1.23758420e-01, 1.34064894e-01, 9.96995179e-01, 7.71984305e-01,\n",
       "       9.74748496e-03, 6.21645425e-03, 1.36992544e-02, 7.03330148e-02,\n",
       "       9.83563434e-01, 8.31457204e-01, 2.57718874e-01, 8.21640969e-01,\n",
       "       9.35475968e-01, 6.20456983e-01, 2.55358454e-03, 9.97213632e-01,\n",
       "       3.07821013e-01, 2.85629085e-02, 4.02098387e-01, 8.16483815e-02,\n",
       "       9.96001568e-01, 3.64309105e-01])"
      ]
     },
     "execution_count": 67,
     "metadata": {},
     "output_type": "execute_result"
    }
   ],
   "source": [
    "model_prob"
   ]
  },
  {
   "cell_type": "code",
   "execution_count": 68,
   "id": "7e67aa92",
   "metadata": {},
   "outputs": [
    {
     "name": "stdout",
     "output_type": "stream",
     "text": [
      "0.5\n",
      "0.907648\n"
     ]
    }
   ],
   "source": [
    "dummy_model_auc=roc_auc_score(y_test,dummy_model_prob)\n",
    "model_auc=roc_auc_score(y_test,model_prob)\n",
    "print(dummy_model_auc)\n",
    "print(model_auc)"
   ]
  },
  {
   "cell_type": "code",
   "execution_count": 71,
   "id": "86588586",
   "metadata": {},
   "outputs": [],
   "source": [
    "dummy_fpr, dummy_tpr, _ = roc_curve(y_test, dummy_model_prob)\n",
    "model_fpr, model_tpr, thresholds = roc_curve(y_test, model_prob)   # for diffrent threshold it calculate fpr and tpr"
   ]
  },
  {
   "cell_type": "code",
   "execution_count": 69,
   "id": "8908b1bf",
   "metadata": {},
   "outputs": [
    {
     "data": {
      "text/plain": [
       "array([           inf, 9.99410789e-01, 9.48821704e-01, 9.45822838e-01,\n",
       "       9.35475968e-01, 9.33992424e-01, 9.28149306e-01, 9.26128400e-01,\n",
       "       9.09612674e-01, 9.01641419e-01, 8.98006100e-01, 8.87888976e-01,\n",
       "       8.55067260e-01, 8.50088690e-01, 8.45815476e-01, 8.32456357e-01,\n",
       "       8.19802513e-01, 8.15795432e-01, 8.07773360e-01, 8.01684721e-01,\n",
       "       7.72666184e-01, 7.71984305e-01, 7.18090773e-01, 7.16353949e-01,\n",
       "       6.61932009e-01, 6.29054005e-01, 6.17692223e-01, 6.09937071e-01,\n",
       "       5.95782185e-01, 5.88259352e-01, 5.69445881e-01, 5.42763147e-01,\n",
       "       5.28902010e-01, 5.13580364e-01, 5.10710770e-01, 4.87563605e-01,\n",
       "       4.84614874e-01, 4.55642609e-01, 4.46920501e-01, 4.25852373e-01,\n",
       "       3.64309105e-01, 3.56487638e-01, 3.45966312e-01, 3.07821013e-01,\n",
       "       3.00875411e-01, 2.85434309e-01, 2.84734466e-01, 2.18608803e-01,\n",
       "       1.96799778e-01, 1.34064894e-01, 1.33282726e-01, 1.30277048e-01,\n",
       "       1.26943039e-01, 1.04666641e-01, 1.04124073e-01, 7.03330148e-02,\n",
       "       6.85853539e-02, 5.65455028e-02, 5.49947942e-02, 4.24350675e-02,\n",
       "       4.08273180e-02, 2.47065994e-03, 2.44158190e-03, 1.90858901e-04])"
      ]
     },
     "execution_count": 69,
     "metadata": {},
     "output_type": "execute_result"
    }
   ],
   "source": [
    "thresholds"
   ]
  },
  {
   "cell_type": "code",
   "execution_count": 70,
   "id": "f8845e7d",
   "metadata": {},
   "outputs": [
    {
     "data": {
      "image/png": "[encoded data removed]",
      "text/plain": [
       "<Figure size 640x480 with 1 Axes>"
      ]
     },
     "metadata": {},
     "output_type": "display_data"
    }
   ],
   "source": [
    "# plot the roc curve for the model\n",
    "pyplot.plot(dummy_fpr, dummy_tpr, linestyle='--', label='Dummy Model')\n",
    "pyplot.plot(model_fpr, model_tpr, marker='.', label='Logistic')\n",
    "# axis labels\n",
    "pyplot.xlabel('False Positive Rate')\n",
    "pyplot.ylabel('True Positive Rate')\n",
    "# show the legend\n",
    "pyplot.legend()\n",
    "# show the plot\n",
    "pyplot.show()"
   ]
  },
  {
   "cell_type": "code",
   "execution_count": 72,
   "id": "4625a812",
   "metadata": {},
   "outputs": [],
   "source": [
    "distance = np.sqrt((1 - model_tpr)**2 + model_fpr**2)\n",
    "optimal_idx = np.argmin(distance)\n",
    "optimal_threshold = thresholds[optimal_idx]"
   ]
  },
  {
   "cell_type": "code",
   "execution_count": 73,
   "id": "56b8ff39",
   "metadata": {},
   "outputs": [
    {
     "data": {
      "text/plain": [
       "0.5289020102579215"
      ]
     },
     "execution_count": 73,
     "metadata": {},
     "output_type": "execute_result"
    }
   ],
   "source": [
    "optimal_threshold"
   ]
  },
  {
   "cell_type": "code",
   "execution_count": null,
   "id": "c5b038f6",
   "metadata": {},
   "outputs": [],
   "source": []
  }
 ],
 "metadata": {
  "kernelspec": {
   "display_name": "Python 3",
   "language": "python",
   "name": "python3"
  },
  "language_info": {
   "codemirror_mode": {
    "name": "ipython",
    "version": 3
   },
   "file_extension": ".py",
   "mimetype": "text/x-python",
   "name": "python",
   "nbconvert_exporter": "python",
   "pygments_lexer": "ipython3",
   "version": "3.8.20"
  }
 },
 "nbformat": 4,
 "nbformat_minor": 5
}
