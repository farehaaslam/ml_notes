{
 "cells": [
  {
   "cell_type": "code",
   "execution_count": 5,
   "id": "784067b7",
   "metadata": {},
   "outputs": [
    {
     "name": "stderr",
     "output_type": "stream",
     "text": [
      "Matplotlib is building the font cache; this may take a moment.\n"
     ]
    }
   ],
   "source": [
    "import numpy as np\n",
    "import pandas as pd\n",
    "import matplotlib.pyplot as plt\n",
    "import seaborn as sns"
   ]
  },
  {
   "cell_type": "code",
   "execution_count": 5,
   "id": "0f7aefe0",
   "metadata": {},
   "outputs": [],
   "source": [
    "from sklearn.datasets import make_classification"
   ]
  },
  {
   "cell_type": "code",
   "execution_count": 8,
   "id": "d262128d",
   "metadata": {},
   "outputs": [],
   "source": [
    "X,y=make_classification(n_samples=1000,n_classes=2,n_features=10,random_state=42)"
   ]
  },
  {
   "cell_type": "code",
   "execution_count": 9,
   "id": "216c57cd",
   "metadata": {},
   "outputs": [
    {
     "data": {
      "text/plain": [
       "(1000, 10)"
      ]
     },
     "execution_count": 9,
     "metadata": {},
     "output_type": "execute_result"
    }
   ],
   "source": [
    "X.shape"
   ]
  },
  {
   "cell_type": "code",
   "execution_count": 1,
   "id": "aa27a8c1",
   "metadata": {},
   "outputs": [],
   "source": [
    "from sklearn.model_selection import train_test_split"
   ]
  },
  {
   "cell_type": "code",
   "execution_count": 11,
   "id": "664c1272",
   "metadata": {},
   "outputs": [],
   "source": [
    "X_train,X_test,y_train,y_test=train_test_split(X,y,test_size=0.25,random_state=42)"
   ]
  },
  {
   "cell_type": "code",
   "execution_count": 12,
   "id": "763f9c57",
   "metadata": {},
   "outputs": [
    {
     "data": {
      "text/plain": [
       "array([[-1.01232181,  0.28123049, -0.87512274, ...,  1.15469377,\n",
       "         1.18259881, -1.27036205],\n",
       "       [-0.02101069,  0.74744497, -0.03870931, ..., -0.10435845,\n",
       "        -0.04258589,  0.45015563],\n",
       "       [ 0.37607013,  0.33385997,  0.24958079, ..., -1.31221919,\n",
       "        -0.68607663,  1.08176673],\n",
       "       ...,\n",
       "       [ 0.04091467,  0.42796263, -0.00235298, ..., -1.92277177,\n",
       "        -0.17104772,  1.63925652],\n",
       "       [ 0.3393792 , -0.64015446,  0.25253995, ..., -1.39922826,\n",
       "        -0.52991248, -0.7348109 ],\n",
       "       [ 1.84815207, -0.31305803,  1.78069642, ...,  0.60451533,\n",
       "        -1.56102804, -1.25040773]])"
      ]
     },
     "execution_count": 12,
     "metadata": {},
     "output_type": "execute_result"
    }
   ],
   "source": [
    "X_train"
   ]
  },
  {
   "cell_type": "code",
   "execution_count": 13,
   "id": "a33760e9",
   "metadata": {},
   "outputs": [],
   "source": [
    "from sklearn.linear_model import LogisticRegression\n",
    "logistic=LogisticRegression()"
   ]
  },
  {
   "cell_type": "code",
   "execution_count": 14,
   "id": "dde6938c",
   "metadata": {},
   "outputs": [
    {
     "data": {
      "text/html": [
       "<style>#sk-container-id-1 {color: black;}#sk-container-id-1 pre{padding: 0;}#sk-container-id-1 div.sk-toggleable {background-color: white;}#sk-container-id-1 label.sk-toggleable__label {cursor: pointer;display: block;width: 100%;margin-bottom: 0;padding: 0.3em;box-sizing: border-box;text-align: center;}#sk-container-id-1 label.sk-toggleable__label-arrow:before {content: \"▸\";float: left;margin-right: 0.25em;color: #696969;}#sk-container-id-1 label.sk-toggleable__label-arrow:hover:before {color: black;}#sk-container-id-1 div.sk-estimator:hover label.sk-toggleable__label-arrow:before {color: black;}#sk-container-id-1 div.sk-toggleable__content {max-height: 0;max-width: 0;overflow: hidden;text-align: left;background-color: #f0f8ff;}#sk-container-id-1 div.sk-toggleable__content pre {margin: 0.2em;color: black;border-radius: 0.25em;background-color: #f0f8ff;}#sk-container-id-1 input.sk-toggleable__control:checked~div.sk-toggleable__content {max-height: 200px;max-width: 100%;overflow: auto;}#sk-container-id-1 input.sk-toggleable__control:checked~label.sk-toggleable__label-arrow:before {content: \"▾\";}#sk-container-id-1 div.sk-estimator input.sk-toggleable__control:checked~label.sk-toggleable__label {background-color: #d4ebff;}#sk-container-id-1 div.sk-label input.sk-toggleable__control:checked~label.sk-toggleable__label {background-color: #d4ebff;}#sk-container-id-1 input.sk-hidden--visually {border: 0;clip: rect(1px 1px 1px 1px);clip: rect(1px, 1px, 1px, 1px);height: 1px;margin: -1px;overflow: hidden;padding: 0;position: absolute;width: 1px;}#sk-container-id-1 div.sk-estimator {font-family: monospace;background-color: #f0f8ff;border: 1px dotted black;border-radius: 0.25em;box-sizing: border-box;margin-bottom: 0.5em;}#sk-container-id-1 div.sk-estimator:hover {background-color: #d4ebff;}#sk-container-id-1 div.sk-parallel-item::after {content: \"\";width: 100%;border-bottom: 1px solid gray;flex-grow: 1;}#sk-container-id-1 div.sk-label:hover label.sk-toggleable__label {background-color: #d4ebff;}#sk-container-id-1 div.sk-serial::before {content: \"\";position: absolute;border-left: 1px solid gray;box-sizing: border-box;top: 0;bottom: 0;left: 50%;z-index: 0;}#sk-container-id-1 div.sk-serial {display: flex;flex-direction: column;align-items: center;background-color: white;padding-right: 0.2em;padding-left: 0.2em;position: relative;}#sk-container-id-1 div.sk-item {position: relative;z-index: 1;}#sk-container-id-1 div.sk-parallel {display: flex;align-items: stretch;justify-content: center;background-color: white;position: relative;}#sk-container-id-1 div.sk-item::before, #sk-container-id-1 div.sk-parallel-item::before {content: \"\";position: absolute;border-left: 1px solid gray;box-sizing: border-box;top: 0;bottom: 0;left: 50%;z-index: -1;}#sk-container-id-1 div.sk-parallel-item {display: flex;flex-direction: column;z-index: 1;position: relative;background-color: white;}#sk-container-id-1 div.sk-parallel-item:first-child::after {align-self: flex-end;width: 50%;}#sk-container-id-1 div.sk-parallel-item:last-child::after {align-self: flex-start;width: 50%;}#sk-container-id-1 div.sk-parallel-item:only-child::after {width: 0;}#sk-container-id-1 div.sk-dashed-wrapped {border: 1px dashed gray;margin: 0 0.4em 0.5em 0.4em;box-sizing: border-box;padding-bottom: 0.4em;background-color: white;}#sk-container-id-1 div.sk-label label {font-family: monospace;font-weight: bold;display: inline-block;line-height: 1.2em;}#sk-container-id-1 div.sk-label-container {text-align: center;}#sk-container-id-1 div.sk-container {/* jupyter's `normalize.less` sets `[hidden] { display: none; }` but bootstrap.min.css set `[hidden] { display: none !important; }` so we also need the `!important` here to be able to override the default hidden behavior on the sphinx rendered scikit-learn.org. See: https://github.com/scikit-learn/scikit-learn/issues/21755 */display: inline-block !important;position: relative;}#sk-container-id-1 div.sk-text-repr-fallback {display: none;}</style><div id=\"sk-container-id-1\" class=\"sk-top-container\"><div class=\"sk-text-repr-fallback\"><pre>LogisticRegression()</pre><b>In a Jupyter environment, please rerun this cell to show the HTML representation or trust the notebook. <br />On GitHub, the HTML representation is unable to render, please try loading this page with nbviewer.org.</b></div><div class=\"sk-container\" hidden><div class=\"sk-item\"><div class=\"sk-estimator sk-toggleable\"><input class=\"sk-toggleable__control sk-hidden--visually\" id=\"sk-estimator-id-1\" type=\"checkbox\" checked><label for=\"sk-estimator-id-1\" class=\"sk-toggleable__label sk-toggleable__label-arrow\">LogisticRegression</label><div class=\"sk-toggleable__content\"><pre>LogisticRegression()</pre></div></div></div></div></div>"
      ],
      "text/plain": [
       "LogisticRegression()"
      ]
     },
     "execution_count": 14,
     "metadata": {},
     "output_type": "execute_result"
    }
   ],
   "source": [
    "logistic.fit(X_train,y_train)"
   ]
  },
  {
   "cell_type": "code",
   "execution_count": 15,
   "id": "e649fa9e",
   "metadata": {},
   "outputs": [],
   "source": [
    "y_pred=logistic.predict(X_test)"
   ]
  },
  {
   "cell_type": "code",
   "execution_count": 16,
   "id": "96c7477d",
   "metadata": {},
   "outputs": [
    {
     "data": {
      "text/plain": [
       "array([0, 1, 0, 1, 0, 1, 0, 0, 0, 0, 0, 1, 0, 1, 0, 0, 1, 1, 1, 1, 1, 0,\n",
       "       1, 0, 0, 1, 0, 0, 1, 1, 1, 1, 0, 0, 0, 0, 1, 1, 1, 1, 0, 1, 1, 0,\n",
       "       0, 0, 1, 1, 1, 1, 0, 1, 1, 0, 1, 0, 1, 0, 1, 0, 1, 0, 0, 1, 1, 1,\n",
       "       0, 0, 1, 1, 1, 1, 1, 0, 1, 0, 0, 1, 0, 1, 0, 0, 1, 0, 1, 0, 0, 0,\n",
       "       0, 1, 1, 1, 1, 1, 1, 1, 0, 0, 1, 0, 1, 0, 1, 0, 0, 1, 0, 1, 1, 1,\n",
       "       1, 1, 1, 1, 1, 0, 0, 1, 0, 0, 1, 1, 0, 1, 1, 1, 1, 1, 1, 1, 1, 0,\n",
       "       1, 1, 1, 1, 0, 0, 0, 1, 1, 0, 0, 0, 0, 0, 1, 0, 0, 0, 1, 0, 0, 1,\n",
       "       0, 0, 1, 0, 1, 1, 0, 1, 0, 0, 0, 0, 0, 0, 0, 1, 1, 1, 0, 0, 1, 1,\n",
       "       0, 0, 1, 1, 1, 1, 1, 1, 1, 0, 0, 0, 0, 1, 0, 0, 0, 0, 1, 0, 0, 1,\n",
       "       1, 1, 0, 1, 0, 0, 0, 1, 1, 1, 1, 1, 0, 0, 0, 0, 0, 1, 0, 1, 0, 1,\n",
       "       1, 0, 0, 1, 1, 1, 0, 1, 1, 0, 0, 0, 0, 0, 0, 0, 0, 0, 1, 1, 0, 1,\n",
       "       0, 1, 1, 0, 1, 0, 1, 0])"
      ]
     },
     "execution_count": 16,
     "metadata": {},
     "output_type": "execute_result"
    }
   ],
   "source": [
    "y_pred"
   ]
  },
  {
   "cell_type": "code",
   "execution_count": 17,
   "id": "baac3f77",
   "metadata": {},
   "outputs": [
    {
     "data": {
      "text/plain": [
       "array([[7.80405311e-01, 2.19594689e-01],\n",
       "       [3.33970550e-02, 9.66602945e-01],\n",
       "       [6.54302432e-01, 3.45697568e-01],\n",
       "       [7.74617238e-02, 9.22538276e-01],\n",
       "       [9.74933382e-01, 2.50666180e-02],\n",
       "       [4.02908279e-02, 9.59709172e-01],\n",
       "       [9.77942561e-01, 2.20574386e-02],\n",
       "       [9.53537697e-01, 4.64623026e-02],\n",
       "       [7.96199363e-01, 2.03800637e-01],\n",
       "       [6.82684766e-01, 3.17315234e-01],\n",
       "       [9.11092664e-01, 8.89073362e-02],\n",
       "       [2.49231213e-01, 7.50768787e-01],\n",
       "       [5.20874896e-01, 4.79125104e-01],\n",
       "       [2.11316593e-01, 7.88683407e-01],\n",
       "       [7.85894005e-01, 2.14105995e-01],\n",
       "       [9.43617675e-01, 5.63823254e-02],\n",
       "       [2.64794983e-02, 9.73520502e-01],\n",
       "       [3.45032612e-01, 6.54967388e-01],\n",
       "       [3.19896268e-01, 6.80103732e-01],\n",
       "       [2.00610368e-01, 7.99389632e-01],\n",
       "       [4.95913661e-01, 5.04086339e-01],\n",
       "       [9.62346032e-01, 3.76539681e-02],\n",
       "       [1.92460673e-01, 8.07539327e-01],\n",
       "       [7.86737166e-01, 2.13262834e-01],\n",
       "       [8.67182555e-01, 1.32817445e-01],\n",
       "       [4.23688525e-02, 9.57631148e-01],\n",
       "       [9.21126349e-01, 7.88736514e-02],\n",
       "       [8.00149654e-01, 1.99850346e-01],\n",
       "       [4.87697802e-01, 5.12302198e-01],\n",
       "       [3.41722552e-01, 6.58277448e-01],\n",
       "       [6.56786865e-02, 9.34321313e-01],\n",
       "       [5.50696468e-04, 9.99449304e-01],\n",
       "       [9.68509408e-01, 3.14905923e-02],\n",
       "       [9.72909146e-01, 2.70908537e-02],\n",
       "       [9.37747779e-01, 6.22522213e-02],\n",
       "       [5.04323668e-01, 4.95676332e-01],\n",
       "       [8.41850208e-02, 9.15814979e-01],\n",
       "       [3.24704765e-01, 6.75295235e-01],\n",
       "       [4.63601901e-01, 5.36398099e-01],\n",
       "       [1.62967695e-04, 9.99837032e-01],\n",
       "       [9.15501558e-01, 8.44984417e-02],\n",
       "       [9.22003493e-02, 9.07799651e-01],\n",
       "       [4.76495513e-01, 5.23504487e-01],\n",
       "       [9.37085094e-01, 6.29149062e-02],\n",
       "       [9.76223519e-01, 2.37764807e-02],\n",
       "       [5.72880936e-01, 4.27119064e-01],\n",
       "       [1.63183828e-02, 9.83681617e-01],\n",
       "       [7.34507013e-02, 9.26549299e-01],\n",
       "       [1.38145574e-02, 9.86185443e-01],\n",
       "       [5.35996121e-02, 9.46400388e-01],\n",
       "       [8.11401656e-01, 1.88598344e-01],\n",
       "       [4.93495384e-03, 9.95065046e-01],\n",
       "       [4.86710920e-01, 5.13289080e-01],\n",
       "       [8.68947311e-01, 1.31052689e-01],\n",
       "       [8.34157929e-03, 9.91658421e-01],\n",
       "       [5.86371187e-01, 4.13628813e-01],\n",
       "       [1.50803338e-01, 8.49196662e-01],\n",
       "       [9.77286076e-01, 2.27139238e-02],\n",
       "       [9.52950335e-02, 9.04704967e-01],\n",
       "       [9.02198902e-01, 9.78010978e-02],\n",
       "       [7.02841760e-03, 9.92971582e-01],\n",
       "       [7.09005819e-01, 2.90994181e-01],\n",
       "       [7.59290849e-01, 2.40709151e-01],\n",
       "       [3.15510457e-02, 9.68448954e-01],\n",
       "       [3.22761110e-01, 6.77238890e-01],\n",
       "       [1.83068880e-01, 8.16931120e-01],\n",
       "       [8.37473632e-01, 1.62526368e-01],\n",
       "       [8.95593632e-01, 1.04406368e-01],\n",
       "       [3.28270128e-01, 6.71729872e-01],\n",
       "       [1.67567226e-01, 8.32432774e-01],\n",
       "       [3.32952337e-01, 6.67047663e-01],\n",
       "       [4.37243643e-02, 9.56275636e-01],\n",
       "       [2.11505293e-04, 9.99788495e-01],\n",
       "       [9.67890740e-01, 3.21092598e-02],\n",
       "       [1.88238574e-01, 8.11761426e-01],\n",
       "       [8.79110238e-01, 1.20889762e-01],\n",
       "       [9.73720551e-01, 2.62794490e-02],\n",
       "       [1.72079413e-03, 9.98279206e-01],\n",
       "       [9.41325002e-01, 5.86749980e-02],\n",
       "       [1.62489453e-01, 8.37510547e-01],\n",
       "       [8.06541294e-01, 1.93458706e-01],\n",
       "       [9.40285955e-01, 5.97140450e-02],\n",
       "       [9.59201608e-02, 9.04079839e-01],\n",
       "       [8.64915318e-01, 1.35084682e-01],\n",
       "       [2.52567507e-04, 9.99747432e-01],\n",
       "       [8.67102423e-01, 1.32897577e-01],\n",
       "       [8.39960176e-01, 1.60039824e-01],\n",
       "       [8.56925125e-01, 1.43074875e-01],\n",
       "       [8.66388980e-01, 1.33611020e-01],\n",
       "       [1.28614011e-01, 8.71385989e-01],\n",
       "       [2.64172967e-03, 9.97358270e-01],\n",
       "       [2.16673201e-02, 9.78332680e-01],\n",
       "       [1.15210426e-01, 8.84789574e-01],\n",
       "       [2.74267624e-01, 7.25732376e-01],\n",
       "       [5.72353016e-02, 9.42764698e-01],\n",
       "       [2.24190726e-01, 7.75809274e-01],\n",
       "       [9.36272483e-01, 6.37275173e-02],\n",
       "       [9.37323976e-01, 6.26760242e-02],\n",
       "       [4.08399479e-01, 5.91600521e-01],\n",
       "       [9.15439240e-01, 8.45607604e-02],\n",
       "       [4.68132776e-03, 9.95318672e-01],\n",
       "       [9.38878823e-01, 6.11211769e-02],\n",
       "       [1.57767811e-02, 9.84223219e-01],\n",
       "       [9.97956118e-01, 2.04388162e-03],\n",
       "       [9.91885103e-01, 8.11489684e-03],\n",
       "       [2.79337365e-01, 7.20662635e-01],\n",
       "       [9.79828787e-01, 2.01712133e-02],\n",
       "       [4.48754853e-03, 9.95512451e-01],\n",
       "       [4.48924688e-01, 5.51075312e-01],\n",
       "       [1.04345512e-01, 8.95654488e-01],\n",
       "       [1.75728898e-01, 8.24271102e-01],\n",
       "       [6.10258564e-02, 9.38974144e-01],\n",
       "       [5.82983180e-02, 9.41701682e-01],\n",
       "       [1.26449420e-01, 8.73550580e-01],\n",
       "       [8.77894685e-03, 9.91221053e-01],\n",
       "       [8.57878574e-01, 1.42121426e-01],\n",
       "       [6.80748557e-01, 3.19251443e-01],\n",
       "       [1.95234093e-01, 8.04765907e-01],\n",
       "       [9.82424959e-01, 1.75750410e-02],\n",
       "       [9.43068357e-01, 5.69316429e-02],\n",
       "       [7.52475267e-04, 9.99247525e-01],\n",
       "       [3.95583761e-02, 9.60441624e-01],\n",
       "       [9.37226146e-01, 6.27738542e-02],\n",
       "       [2.71159418e-02, 9.72884058e-01],\n",
       "       [5.34309177e-02, 9.46569082e-01],\n",
       "       [1.58359033e-01, 8.41640967e-01],\n",
       "       [2.33254928e-03, 9.97667451e-01],\n",
       "       [1.26731386e-01, 8.73268614e-01],\n",
       "       [6.74097003e-02, 9.32590300e-01],\n",
       "       [5.35412303e-03, 9.94645877e-01],\n",
       "       [1.60121011e-01, 8.39878989e-01],\n",
       "       [8.61865388e-01, 1.38134612e-01],\n",
       "       [1.93997187e-01, 8.06002813e-01],\n",
       "       [3.58087511e-02, 9.64191249e-01],\n",
       "       [4.30617885e-01, 5.69382115e-01],\n",
       "       [1.20247976e-01, 8.79752024e-01],\n",
       "       [9.66201827e-01, 3.37981727e-02],\n",
       "       [8.48281890e-01, 1.51718110e-01],\n",
       "       [9.51907544e-01, 4.80924555e-02],\n",
       "       [3.52534151e-02, 9.64746585e-01],\n",
       "       [3.05037126e-01, 6.94962874e-01],\n",
       "       [9.84012658e-01, 1.59873419e-02],\n",
       "       [8.58391902e-01, 1.41608098e-01],\n",
       "       [9.66637310e-01, 3.33626896e-02],\n",
       "       [5.54690075e-01, 4.45309925e-01],\n",
       "       [6.12661884e-01, 3.87338116e-01],\n",
       "       [1.51084691e-03, 9.98489153e-01],\n",
       "       [8.96047117e-01, 1.03952883e-01],\n",
       "       [9.84262652e-01, 1.57373484e-02],\n",
       "       [9.88996578e-01, 1.10034223e-02],\n",
       "       [3.10888755e-02, 9.68911125e-01],\n",
       "       [9.93360976e-01, 6.63902362e-03],\n",
       "       [9.19798176e-01, 8.02018241e-02],\n",
       "       [4.93109072e-01, 5.06890928e-01],\n",
       "       [9.33164204e-01, 6.68357959e-02],\n",
       "       [9.83661258e-01, 1.63387416e-02],\n",
       "       [3.51835235e-03, 9.96481648e-01],\n",
       "       [9.41275187e-01, 5.87248132e-02],\n",
       "       [4.86263513e-01, 5.13736487e-01],\n",
       "       [1.32566894e-01, 8.67433106e-01],\n",
       "       [9.64063859e-01, 3.59361406e-02],\n",
       "       [9.49628746e-02, 9.05037125e-01],\n",
       "       [9.05327615e-01, 9.46723852e-02],\n",
       "       [9.29615462e-01, 7.03845378e-02],\n",
       "       [8.89227279e-01, 1.10772721e-01],\n",
       "       [7.67541166e-01, 2.32458834e-01],\n",
       "       [8.71114399e-01, 1.28885601e-01],\n",
       "       [8.49705171e-01, 1.50294829e-01],\n",
       "       [9.61826560e-01, 3.81734400e-02],\n",
       "       [2.63185383e-01, 7.36814617e-01],\n",
       "       [1.03666871e-01, 8.96333129e-01],\n",
       "       [4.80722755e-01, 5.19277245e-01],\n",
       "       [8.54730458e-01, 1.45269542e-01],\n",
       "       [9.18818942e-01, 8.11810581e-02],\n",
       "       [1.38886119e-01, 8.61113881e-01],\n",
       "       [5.72776185e-02, 9.42722382e-01],\n",
       "       [7.95224292e-01, 2.04775708e-01],\n",
       "       [5.39131795e-01, 4.60868205e-01],\n",
       "       [1.38669075e-01, 8.61330925e-01],\n",
       "       [8.50150980e-02, 9.14984902e-01],\n",
       "       [8.34690964e-03, 9.91653090e-01],\n",
       "       [2.44102813e-01, 7.55897187e-01],\n",
       "       [5.55453777e-02, 9.44454622e-01],\n",
       "       [3.34025139e-02, 9.66597486e-01],\n",
       "       [1.21827907e-01, 8.78172093e-01],\n",
       "       [7.99881559e-01, 2.00118441e-01],\n",
       "       [8.38858319e-01, 1.61141681e-01],\n",
       "       [9.98577238e-01, 1.42276226e-03],\n",
       "       [8.74534069e-01, 1.25465931e-01],\n",
       "       [3.60141748e-02, 9.63985825e-01],\n",
       "       [5.90449015e-01, 4.09550985e-01],\n",
       "       [9.86002273e-01, 1.39977266e-02],\n",
       "       [8.03767684e-01, 1.96232316e-01],\n",
       "       [8.54357976e-01, 1.45642024e-01],\n",
       "       [1.07877465e-01, 8.92122535e-01],\n",
       "       [8.17277683e-01, 1.82722317e-01],\n",
       "       [8.94750402e-01, 1.05249598e-01],\n",
       "       [9.33514514e-02, 9.06648549e-01],\n",
       "       [1.33091357e-02, 9.86690864e-01],\n",
       "       [6.55226564e-03, 9.93447734e-01],\n",
       "       [8.95684770e-01, 1.04315230e-01],\n",
       "       [1.22485683e-02, 9.87751432e-01],\n",
       "       [6.61222701e-01, 3.38777299e-01],\n",
       "       [6.55021507e-01, 3.44978493e-01],\n",
       "       [8.93281568e-01, 1.06718432e-01],\n",
       "       [4.06703931e-01, 5.93296069e-01],\n",
       "       [4.98216423e-02, 9.50178358e-01],\n",
       "       [1.24967771e-01, 8.75032229e-01],\n",
       "       [4.75946165e-04, 9.99524054e-01],\n",
       "       [1.75097183e-01, 8.24902817e-01],\n",
       "       [9.76120836e-01, 2.38791642e-02],\n",
       "       [8.99064932e-01, 1.00935068e-01],\n",
       "       [7.72800814e-01, 2.27199186e-01],\n",
       "       [9.30791319e-01, 6.92086811e-02],\n",
       "       [9.77242567e-01, 2.27574334e-02],\n",
       "       [4.10031353e-01, 5.89968647e-01],\n",
       "       [9.50772689e-01, 4.92273108e-02],\n",
       "       [1.43562014e-03, 9.98564380e-01],\n",
       "       [8.11801086e-01, 1.88198914e-01],\n",
       "       [2.19082307e-01, 7.80917693e-01],\n",
       "       [2.32829460e-01, 7.67170540e-01],\n",
       "       [8.07696109e-01, 1.92303891e-01],\n",
       "       [9.37778135e-01, 6.22218652e-02],\n",
       "       [1.72535110e-02, 9.82746489e-01],\n",
       "       [1.68382316e-01, 8.31617684e-01],\n",
       "       [2.58655458e-02, 9.74134454e-01],\n",
       "       [8.64584301e-01, 1.35415699e-01],\n",
       "       [8.87782088e-04, 9.99112218e-01],\n",
       "       [7.92467023e-02, 9.20753298e-01],\n",
       "       [9.77427749e-01, 2.25722508e-02],\n",
       "       [9.67716085e-01, 3.22839151e-02],\n",
       "       [7.81233111e-01, 2.18766889e-01],\n",
       "       [9.96906485e-01, 3.09351477e-03],\n",
       "       [9.55969502e-01, 4.40304978e-02],\n",
       "       [8.01306876e-01, 1.98693124e-01],\n",
       "       [9.61612627e-01, 3.83873729e-02],\n",
       "       [9.97664088e-01, 2.33591165e-03],\n",
       "       [9.28278659e-01, 7.17213409e-02],\n",
       "       [2.52333709e-02, 9.74766629e-01],\n",
       "       [1.40107441e-01, 8.59892559e-01],\n",
       "       [9.93070073e-01, 6.92992740e-03],\n",
       "       [3.41325378e-03, 9.96586746e-01],\n",
       "       [7.24641827e-01, 2.75358173e-01],\n",
       "       [1.29472911e-01, 8.70527089e-01],\n",
       "       [2.32778680e-02, 9.76722132e-01],\n",
       "       [8.45490624e-01, 1.54509376e-01],\n",
       "       [1.53019212e-04, 9.99846981e-01],\n",
       "       [9.39749382e-01, 6.02506183e-02],\n",
       "       [9.67656107e-03, 9.90323439e-01],\n",
       "       [7.89660040e-01, 2.10339960e-01]])"
      ]
     },
     "execution_count": 17,
     "metadata": {},
     "output_type": "execute_result"
    }
   ],
   "source": [
    "logistic.predict_proba(X_test)"
   ]
  },
  {
   "cell_type": "code",
   "execution_count": 18,
   "id": "617c93b4",
   "metadata": {},
   "outputs": [],
   "source": [
    "from sklearn.metrics import accuracy_score,confusion_matrix,classification_report"
   ]
  },
  {
   "cell_type": "code",
   "execution_count": 21,
   "id": "ceddf1a5",
   "metadata": {},
   "outputs": [
    {
     "name": "stdout",
     "output_type": "stream",
     "text": [
      "0.84\n"
     ]
    }
   ],
   "source": [
    "score=accuracy_score(y_test,y_pred)\n",
    "print(score)"
   ]
  },
  {
   "cell_type": "code",
   "execution_count": 22,
   "id": "3f8353d4",
   "metadata": {},
   "outputs": [
    {
     "data": {
      "text/plain": [
       "array([[ 98,  15],\n",
       "       [ 25, 112]], dtype=int64)"
      ]
     },
     "execution_count": 22,
     "metadata": {},
     "output_type": "execute_result"
    }
   ],
   "source": [
    "confusion_matrix(y_test,y_pred)"
   ]
  },
  {
   "cell_type": "code",
   "execution_count": 24,
   "id": "e4cc2e67",
   "metadata": {},
   "outputs": [
    {
     "name": "stdout",
     "output_type": "stream",
     "text": [
      "              precision    recall  f1-score   support\n",
      "\n",
      "           0       0.80      0.87      0.83       113\n",
      "           1       0.88      0.82      0.85       137\n",
      "\n",
      "    accuracy                           0.84       250\n",
      "   macro avg       0.84      0.84      0.84       250\n",
      "weighted avg       0.84      0.84      0.84       250\n",
      "\n"
     ]
    }
   ],
   "source": [
    "print(classification_report(y_test,y_pred))"
   ]
  },
  {
   "cell_type": "code",
   "execution_count": null,
   "id": "1fbdd395",
   "metadata": {},
   "outputs": [],
   "source": []
  }
 ],
 "metadata": {
  "kernelspec": {
   "display_name": "Python 3",
   "language": "python",
   "name": "python3"
  },
  "language_info": {
   "codemirror_mode": {
    "name": "ipython",
    "version": 3
   },
   "file_extension": ".py",
   "mimetype": "text/x-python",
   "name": "python",
   "nbconvert_exporter": "python",
   "pygments_lexer": "ipython3",
   "version": "3.8.20"
  }
 },
 "nbformat": 4,
 "nbformat_minor": 5
}
