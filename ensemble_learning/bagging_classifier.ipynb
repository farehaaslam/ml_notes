{
 "cells": [
  {
   "cell_type": "code",
   "execution_count": 2,
   "id": "67d55df6",
   "metadata": {},
   "outputs": [],
   "source": [
    "import numpy as np\n",
    "import matplotlib.pyplot as plt\n",
    "import pandas as pd\n",
    "import seaborn as sns"
   ]
  },
  {
   "cell_type": "code",
   "execution_count": 3,
   "id": "3462a8c1",
   "metadata": {},
   "outputs": [],
   "source": [
    "from sklearn.datasets import make_classification\n",
    "from sklearn.model_selection import train_test_split\n",
    "from sklearn.ensemble import BaggingClassifier\n",
    "from sklearn.tree import DecisionTreeClassifier \n",
    "X,y= make_classification(n_samples=10000, n_features=10, n_informative=3, random_state=42)"
   ]
  },
  {
   "cell_type": "code",
   "execution_count": 4,
   "id": "5a2267f3",
   "metadata": {},
   "outputs": [],
   "source": [
    "X_train, X_test, y_train, y_test = train_test_split(X, y, test_size=0.2, random_state=42)"
   ]
  },
  {
   "cell_type": "code",
   "execution_count": 5,
   "id": "c8c367b0",
   "metadata": {},
   "outputs": [
    {
     "name": "stdout",
     "output_type": "stream",
     "text": [
      "Accuracy without bagging: 0.9265\n"
     ]
    }
   ],
   "source": [
    "# without bagging\n",
    "tree = DecisionTreeClassifier(random_state=42)\n",
    "tree.fit(X_train, y_train)\n",
    "from sklearn.metrics import accuracy_score\n",
    "y_pred = tree.predict(X_test)\n",
    "print(\"Accuracy without bagging:\", accuracy_score(y_test, y_pred))"
   ]
  },
  {
   "cell_type": "markdown",
   "id": "64f7894f",
   "metadata": {},
   "source": [
    "classic bagging"
   ]
  },
  {
   "cell_type": "code",
   "execution_count": 6,
   "id": "6534f635",
   "metadata": {},
   "outputs": [],
   "source": [
    "bag= BaggingClassifier(\n",
    "                        estimator=DecisionTreeClassifier(),\n",
    "                        n_estimators=500,\n",
    "                        max_samples=0.5,\n",
    "                        bootstrap=True,\n",
    "                        n_jobs= -1,\n",
    "                        verbose=1,\n",
    "                        random_state=42)"
   ]
  },
  {
   "cell_type": "code",
   "execution_count": 7,
   "id": "bbb200a2",
   "metadata": {},
   "outputs": [
    {
     "name": "stderr",
     "output_type": "stream",
     "text": [
      "[Parallel(n_jobs=16)]: Using backend LokyBackend with 16 concurrent workers.\n",
      "[Parallel(n_jobs=16)]: Done   2 out of  16 | elapsed:    3.1s remaining:   22.6s\n"
     ]
    },
    {
     "name": "stdout",
     "output_type": "stream",
     "text": [
      "Accuracy with bagging: 0.95\n"
     ]
    },
    {
     "name": "stderr",
     "output_type": "stream",
     "text": [
      "[Parallel(n_jobs=16)]: Done  16 out of  16 | elapsed:    3.5s finished\n",
      "[Parallel(n_jobs=16)]: Using backend LokyBackend with 16 concurrent workers.\n",
      "[Parallel(n_jobs=16)]: Done   2 out of  16 | elapsed:    0.0s remaining:    0.1s\n",
      "[Parallel(n_jobs=16)]: Done  16 out of  16 | elapsed:    0.0s finished\n"
     ]
    }
   ],
   "source": [
    "bag.fit(X_train, y_train)\n",
    "y_pred_bag = bag.predict(X_test)\n",
    "print(\"Accuracy with bagging:\", accuracy_score(y_test, y_pred_bag))"
   ]
  },
  {
   "cell_type": "markdown",
   "id": "c9f8de72",
   "metadata": {},
   "source": [
    "pasting"
   ]
  },
  {
   "cell_type": "code",
   "execution_count": 8,
   "id": "f28de50f",
   "metadata": {},
   "outputs": [],
   "source": [
    "pasting= BaggingClassifier(\n",
    "                        estimator=DecisionTreeClassifier(),\n",
    "                        n_estimators=500,\n",
    "                        max_samples=0.5,\n",
    "                        bootstrap=False,\n",
    "                        n_jobs= -1,\n",
    "                        verbose=1,\n",
    "                        random_state=42)"
   ]
  },
  {
   "cell_type": "code",
   "execution_count": 9,
   "id": "7fd0762f",
   "metadata": {},
   "outputs": [
    {
     "name": "stderr",
     "output_type": "stream",
     "text": [
      "[Parallel(n_jobs=16)]: Using backend LokyBackend with 16 concurrent workers.\n",
      "[Parallel(n_jobs=16)]: Done   2 out of  16 | elapsed:    1.5s remaining:   11.0s\n"
     ]
    },
    {
     "name": "stdout",
     "output_type": "stream",
     "text": [
      "Accuracy with pasting: 0.9525\n"
     ]
    },
    {
     "name": "stderr",
     "output_type": "stream",
     "text": [
      "[Parallel(n_jobs=16)]: Done  16 out of  16 | elapsed:    1.9s finished\n",
      "[Parallel(n_jobs=16)]: Using backend LokyBackend with 16 concurrent workers.\n",
      "[Parallel(n_jobs=16)]: Done   2 out of  16 | elapsed:    0.0s remaining:    0.1s\n",
      "[Parallel(n_jobs=16)]: Done  16 out of  16 | elapsed:    0.0s finished\n"
     ]
    }
   ],
   "source": [
    "pasting.fit(X_train, y_train)\n",
    "y_pred_pasting = pasting.predict(X_test)\n",
    "print(\"Accuracy with pasting:\", accuracy_score(y_test, y_pred_pasting))"
   ]
  },
  {
   "cell_type": "markdown",
   "id": "2360054f",
   "metadata": {},
   "source": [
    "random subspace"
   ]
  },
  {
   "cell_type": "code",
   "execution_count": 10,
   "id": "3acd79db",
   "metadata": {},
   "outputs": [],
   "source": [
    "sub= BaggingClassifier(\n",
    "                        estimator=DecisionTreeClassifier(),\n",
    "                        n_estimators=500,\n",
    "                        max_samples=1,\n",
    "                        max_features=0.5,\n",
    "                        bootstrap=False,\n",
    "                        bootstrap_features=True, #with replacement\n",
    "                        n_jobs= -1,\n",
    "                        verbose=1,\n",
    "                        random_state=42)"
   ]
  },
  {
   "cell_type": "code",
   "execution_count": 11,
   "id": "446523b0",
   "metadata": {},
   "outputs": [
    {
     "name": "stderr",
     "output_type": "stream",
     "text": [
      "[Parallel(n_jobs=16)]: Using backend LokyBackend with 16 concurrent workers.\n",
      "[Parallel(n_jobs=16)]: Done   2 out of  16 | elapsed:    0.0s remaining:    0.5s\n",
      "[Parallel(n_jobs=16)]: Done  16 out of  16 | elapsed:    0.0s finished\n",
      "[Parallel(n_jobs=16)]: Using backend LokyBackend with 16 concurrent workers.\n",
      "[Parallel(n_jobs=16)]: Done   2 out of  16 | elapsed:    0.0s remaining:    0.1s\n"
     ]
    },
    {
     "name": "stdout",
     "output_type": "stream",
     "text": [
      "Accuracy with sub space: 0.4985\n"
     ]
    },
    {
     "name": "stderr",
     "output_type": "stream",
     "text": [
      "[Parallel(n_jobs=16)]: Done  16 out of  16 | elapsed:    0.0s finished\n"
     ]
    }
   ],
   "source": [
    "sub.fit(X_train, y_train)\n",
    "y_pred_sub = sub.predict(X_test)\n",
    "print(\"Accuracy with sub space:\", accuracy_score(y_test, y_pred_sub))"
   ]
  },
  {
   "cell_type": "markdown",
   "id": "884d9a96",
   "metadata": {},
   "source": [
    "random patches"
   ]
  },
  {
   "cell_type": "code",
   "execution_count": 12,
   "id": "e3a5fe36",
   "metadata": {},
   "outputs": [],
   "source": [
    "pac= BaggingClassifier(\n",
    "                        estimator=DecisionTreeClassifier(),\n",
    "                        n_estimators=500,\n",
    "                        max_samples=0.4,\n",
    "                        max_features=0.5,\n",
    "                        bootstrap=False,\n",
    "                        bootstrap_features=True, #with replacement\n",
    "                        n_jobs= -1,\n",
    "                        verbose=1,\n",
    "                        random_state=42)"
   ]
  },
  {
   "cell_type": "code",
   "execution_count": 13,
   "id": "1b3628a8",
   "metadata": {},
   "outputs": [
    {
     "name": "stderr",
     "output_type": "stream",
     "text": [
      "[Parallel(n_jobs=16)]: Using backend LokyBackend with 16 concurrent workers.\n",
      "[Parallel(n_jobs=16)]: Done   2 out of  16 | elapsed:    0.7s remaining:    5.7s\n"
     ]
    },
    {
     "name": "stdout",
     "output_type": "stream",
     "text": [
      "Accuracy with patches: 0.9415\n"
     ]
    },
    {
     "name": "stderr",
     "output_type": "stream",
     "text": [
      "[Parallel(n_jobs=16)]: Done  16 out of  16 | elapsed:    1.0s finished\n",
      "[Parallel(n_jobs=16)]: Using backend LokyBackend with 16 concurrent workers.\n",
      "[Parallel(n_jobs=16)]: Done   2 out of  16 | elapsed:    0.0s remaining:    0.2s\n",
      "[Parallel(n_jobs=16)]: Done  16 out of  16 | elapsed:    0.1s finished\n"
     ]
    }
   ],
   "source": [
    "pac.fit(X_train, y_train)\n",
    "y_pred_pac = pac.predict(X_test)\n",
    "print(\"Accuracy with patches:\", accuracy_score(y_test, y_pred_pac))"
   ]
  },
  {
   "cell_type": "markdown",
   "id": "ac3c844e",
   "metadata": {},
   "source": [
    "## oob score"
   ]
  },
  {
   "cell_type": "code",
   "execution_count": null,
   "id": "9ecff5f6",
   "metadata": {},
   "outputs": [
    {
     "name": "stdout",
     "output_type": "stream",
     "text": [
      "Out-of-bag score: 0.942875\n"
     ]
    }
   ],
   "source": [
    "bag = BaggingClassifier(\n",
    "    estimator=DecisionTreeClassifier(),\n",
    "    n_estimators=500,\n",
    "    max_samples=0.25,\n",
    "    bootstrap=True,\n",
    "    oob_score=True,\n",
    "    random_state=42,\n",
    "    n_jobs=-1,\n",
    "\n",
    ")\n",
    "bag.fit(X_train, y_train)\n",
    "print(\"Out-of-bag score:\", bag.oob_score_)  \n"
   ]
  },
  {
   "cell_type": "code",
   "execution_count": 18,
   "id": "77741f02",
   "metadata": {},
   "outputs": [
    {
     "name": "stdout",
     "output_type": "stream",
     "text": [
      "Accuracy 0.945\n"
     ]
    }
   ],
   "source": [
    "y_pred = bag.predict(X_test)\n",
    "print(\"Accuracy\",accuracy_score(y_test,y_pred))"
   ]
  },
  {
   "cell_type": "code",
   "execution_count": 27,
   "id": "36829833",
   "metadata": {},
   "outputs": [
    {
     "data": {
      "text/plain": [
       "<bound method BaggingClassifier.predict_proba of BaggingClassifier(estimator=DecisionTreeClassifier(), max_samples=0.25,\n",
       "                  n_estimators=500, n_jobs=-1, oob_score=True, random_state=42)>"
      ]
     },
     "execution_count": 27,
     "metadata": {},
     "output_type": "execute_result"
    }
   ],
   "source": [
    "bag.predict_proba"
   ]
  },
  {
   "cell_type": "markdown",
   "id": "2175755e",
   "metadata": {},
   "source": [
    "In this case (since the base estimator has a pre\n",
    "dict_proba() method) the decision function returns the class probabilities for each\n",
    "training instance."
   ]
  },
  {
   "cell_type": "code",
   "execution_count": null,
   "id": "51f8e69d",
   "metadata": {},
   "outputs": [
    {
     "data": {
      "text/plain": [
       "array([[0.07532468, 0.92467532],\n",
       "       [0.        , 1.        ],\n",
       "       [0.97461929, 0.02538071],\n",
       "       ...,\n",
       "       [0.01017812, 0.98982188],\n",
       "       [0.98209719, 0.01790281],\n",
       "       [0.99741602, 0.00258398]])"
      ]
     },
     "execution_count": 21,
     "metadata": {},
     "output_type": "execute_result"
    }
   ],
   "source": [
    "bag.oob_decision_function_  "
   ]
  },
  {
   "cell_type": "markdown",
   "id": "19e20526",
   "metadata": {},
   "source": [
    "## bagging tips\n",
    "Bagging generally gives better results than Pasting  \n",
    "Good results come around the 25% to 50% row sampling mark  \n",
    "Random patches and subspaces should be used while dealing with high dimensional data  \n",
    "To find the correct hyperparameter values we can do GridSearchCV/RandomSearchCV"
   ]
  },
  {
   "cell_type": "code",
   "execution_count": null,
   "id": "7c36e965",
   "metadata": {},
   "outputs": [],
   "source": []
  },
  {
   "cell_type": "markdown",
   "id": "a05a9ecf",
   "metadata": {},
   "source": [
    "apply grid search for best params "
   ]
  },
  {
   "cell_type": "code",
   "execution_count": 22,
   "id": "4d5ee225",
   "metadata": {},
   "outputs": [],
   "source": [
    "from sklearn.model_selection import GridSearchCV\n",
    "param_grid = {\n",
    "    'n_estimators': [100, 200, 500],\n",
    "    'max_samples': [0.1, 0.25, 0.5],\n",
    "    'max_features': [0.5, 0.75, 1.0],\n",
    "    'bootstrap': [True, False],\n",
    "    'bootstrap_features': [True, False]\n",
    "}"
   ]
  },
  {
   "cell_type": "code",
   "execution_count": 26,
   "id": "503dd4a3",
   "metadata": {},
   "outputs": [
    {
     "name": "stdout",
     "output_type": "stream",
     "text": [
      "Fitting 5 folds for each of 108 candidates, totalling 540 fits\n",
      "Best parameters: {'bootstrap': False, 'bootstrap_features': False, 'max_features': 0.75, 'max_samples': 0.5, 'n_estimators': 200}\n"
     ]
    },
    {
     "data": {
      "text/plain": [
       "np.float64(0.952625)"
      ]
     },
     "execution_count": 26,
     "metadata": {},
     "output_type": "execute_result"
    }
   ],
   "source": [
    "search=GridSearchCV(\n",
    "    estimator=BaggingClassifier(),\n",
    "    param_grid=param_grid,\n",
    "    scoring='accuracy',\n",
    "    cv=5,\n",
    "    n_jobs=-1,\n",
    "    verbose=1)\n",
    "search.fit(X_train, y_train)\n",
    "print(\"Best parameters:\", search.best_params_)\n",
    "search.best_score_"
   ]
  },
  {
   "cell_type": "code",
   "execution_count": null,
   "id": "4618e482",
   "metadata": {},
   "outputs": [],
   "source": []
  }
 ],
 "metadata": {
  "kernelspec": {
   "display_name": "base",
   "language": "python",
   "name": "python3"
  },
  "language_info": {
   "codemirror_mode": {
    "name": "ipython",
    "version": 3
   },
   "file_extension": ".py",
   "mimetype": "text/x-python",
   "name": "python",
   "nbconvert_exporter": "python",
   "pygments_lexer": "ipython3",
   "version": "3.13.5"
  }
 },
 "nbformat": 4,
 "nbformat_minor": 5
}
