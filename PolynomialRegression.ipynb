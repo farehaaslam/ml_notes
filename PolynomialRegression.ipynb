{
  "nbformat": 4,
  "nbformat_minor": 0,
  "metadata": {
    "colab": {
      "provenance": []
    },
    "kernelspec": {
      "name": "python3",
      "display_name": "Python 3"
    },
    "language_info": {
      "name": "python"
    }
  },
  "cells": [
    {
      "cell_type": "code",
      "execution_count": null,
      "metadata": {
        "id": "X9XI1Sv1eTa-"
      },
      "outputs": [],
      "source": [
        "import numpy as np\n",
        "import matplotlib.pyplot as plt\n",
        "import pandas as pd"
      ]
    },
    {
      "cell_type": "code",
      "source": [
        "x=6*np.random.rand(100,1)-3\n",
        "y=0.5*x**2+1.5*x+2+np.random.randn(100,1)"
      ],
      "metadata": {
        "id": "-C8iUuI6ejWm"
      },
      "execution_count": null,
      "outputs": []
    },
    {
      "cell_type": "code",
      "source": [
        "plt.scatter(x,y)"
      ],
      "metadata": {
        "colab": {
          "base_uri": "https://localhost:8080/",
          "height": 447
        },
        "id": "gmQaR54yfbzA",
        "outputId": "4a94c122-00fe-4f61-d915-d08c7b740141"
      },
      "execution_count": null,
      "outputs": [
        {
          "output_type": "execute_result",
          "data": {
            "text/plain": [
              "<matplotlib.collections.PathCollection at 0x794c845c9fd0>"
            ]
          },
          "metadata": {},
          "execution_count": 3
        },
        {
          "output_type": "display_data",
          "data": {
            "text/plain": [
              "<Figure size 640x480 with 1 Axes>"
            ],
            "image/png": "[encoded data removed]"
          },
          "metadata": {}
        }
      ]
    },
    {
      "cell_type": "code",
      "source": [
        "## train test split\n",
        "from sklearn.model_selection import train_test_split\n",
        "x_train,x_test,y_train,y_test=train_test_split(x,y,test_size=0.2,random_state=42)"
      ],
      "metadata": {
        "id": "YWY7ytEwfgIr"
      },
      "execution_count": null,
      "outputs": []
    },
    {
      "cell_type": "code",
      "source": [
        "x_train"
      ],
      "metadata": {
        "colab": {
          "base_uri": "https://localhost:8080/"
        },
        "collapsed": true,
        "id": "RrkgKTX_frMj",
        "outputId": "a50a92af-44ea-436e-db27-2d0e6dabcc7b"
      },
      "execution_count": null,
      "outputs": [
        {
          "output_type": "execute_result",
          "data": {
            "text/plain": [
              "array([[-2.47935056],\n",
              "       [ 1.34179802],\n",
              "       [-2.54762349],\n",
              "       [-2.06787152],\n",
              "       [-0.07433782],\n",
              "       [ 0.97709522],\n",
              "       [-0.65137815],\n",
              "       [-1.96430222],\n",
              "       [-1.0119002 ],\n",
              "       [-0.01401661],\n",
              "       [ 1.03164414],\n",
              "       [-1.68849046],\n",
              "       [ 1.64429094],\n",
              "       [ 0.47966899],\n",
              "       [-0.99417003],\n",
              "       [ 1.00749778],\n",
              "       [-1.29003338],\n",
              "       [ 2.64746085],\n",
              "       [-2.4742859 ],\n",
              "       [ 0.15389653],\n",
              "       [ 2.29160246],\n",
              "       [ 2.20797079],\n",
              "       [ 1.86558743],\n",
              "       [-2.1338664 ],\n",
              "       [ 0.22490906],\n",
              "       [-1.16784952],\n",
              "       [ 1.04660569],\n",
              "       [-2.77423245],\n",
              "       [ 2.679714  ],\n",
              "       [-1.05699208],\n",
              "       [-1.48053071],\n",
              "       [ 2.58553125],\n",
              "       [ 0.46510154],\n",
              "       [ 2.15292854],\n",
              "       [-1.51368172],\n",
              "       [ 0.81411999],\n",
              "       [ 0.74948951],\n",
              "       [ 2.04194826],\n",
              "       [-2.85634204],\n",
              "       [-1.8841279 ],\n",
              "       [-1.53932546],\n",
              "       [-0.63668865],\n",
              "       [-0.32719151],\n",
              "       [-1.55134302],\n",
              "       [-1.80418185],\n",
              "       [-0.96816578],\n",
              "       [ 2.19234552],\n",
              "       [ 2.68907005],\n",
              "       [-0.09367966],\n",
              "       [ 0.36738177],\n",
              "       [-1.05435036],\n",
              "       [ 2.60378306],\n",
              "       [-0.07918358],\n",
              "       [ 0.85405385],\n",
              "       [-2.77189467],\n",
              "       [ 2.08887395],\n",
              "       [-0.3255116 ],\n",
              "       [ 1.30543754],\n",
              "       [ 1.50435052],\n",
              "       [-2.42389544],\n",
              "       [ 0.70951828],\n",
              "       [-2.99204824],\n",
              "       [ 0.19156501],\n",
              "       [-2.35308692],\n",
              "       [ 2.47939727],\n",
              "       [ 0.87608482],\n",
              "       [ 1.81492438],\n",
              "       [ 0.42917739],\n",
              "       [ 1.01829359],\n",
              "       [-0.12709848],\n",
              "       [-2.67214306],\n",
              "       [-0.11599716],\n",
              "       [ 0.79155776],\n",
              "       [ 0.49573758],\n",
              "       [-0.74398717],\n",
              "       [-2.58290979],\n",
              "       [-1.53546847],\n",
              "       [-0.84456531],\n",
              "       [-1.53429403],\n",
              "       [-1.9870148 ]])"
            ]
          },
          "metadata": {},
          "execution_count": 8
        }
      ]
    },
    {
      "cell_type": "code",
      "source": [
        "from sklearn.linear_model import LinearRegression\n",
        "regression_1=LinearRegression()\n",
        "regression_1.fit(x_train,y_train)\n",
        "regression_1.coef_"
      ],
      "metadata": {
        "colab": {
          "base_uri": "https://localhost:8080/"
        },
        "id": "6a3UabNegEQh",
        "outputId": "2dfb88ab-4a82-44c2-82bb-6d5715b473f5"
      },
      "execution_count": null,
      "outputs": [
        {
          "output_type": "execute_result",
          "data": {
            "text/plain": [
              "array([[1.40412169]])"
            ]
          },
          "metadata": {},
          "execution_count": 14
        }
      ]
    },
    {
      "cell_type": "code",
      "source": [
        "regression_1.intercept_"
      ],
      "metadata": {
        "colab": {
          "base_uri": "https://localhost:8080/"
        },
        "id": "VDIvl1gjkYKH",
        "outputId": "5b78030a-0869-4382-b6ea-3ade4698e8bf"
      },
      "execution_count": null,
      "outputs": [
        {
          "output_type": "execute_result",
          "data": {
            "text/plain": [
              "array([3.43200907])"
            ]
          },
          "metadata": {},
          "execution_count": 15
        }
      ]
    },
    {
      "cell_type": "code",
      "source": [
        "from sklearn.metrics import r2_score\n",
        "score_1=r2_score(y_test,regression_1.predict(x_test))\n",
        "print(score_1)"
      ],
      "metadata": {
        "colab": {
          "base_uri": "https://localhost:8080/"
        },
        "id": "YfDoUb7LgiyR",
        "outputId": "a7f25503-15e5-4d33-f71a-f99d14a828d8"
      },
      "execution_count": null,
      "outputs": [
        {
          "output_type": "stream",
          "name": "stdout",
          "text": [
            "0.679838014135945\n"
          ]
        }
      ]
    },
    {
      "cell_type": "code",
      "source": [
        "plt.plot(x_train,regression_1.predict(x_train))\n",
        "plt.scatter(x_train,y_train)"
      ],
      "metadata": {
        "colab": {
          "base_uri": "https://localhost:8080/",
          "height": 447
        },
        "id": "CXA8kZ9Agimq",
        "outputId": "c64d2a30-78f2-48c2-b886-4b693fdec0cc"
      },
      "execution_count": null,
      "outputs": [
        {
          "output_type": "execute_result",
          "data": {
            "text/plain": [
              "<matplotlib.collections.PathCollection at 0x794c5bff3590>"
            ]
          },
          "metadata": {},
          "execution_count": 13
        },
        {
          "output_type": "display_data",
          "data": {
            "text/plain": [
              "<Figure size 640x480 with 1 Axes>"
            ],
            "image/png": "[encoded data removed]"
          },
          "metadata": {}
        }
      ]
    },
    {
      "cell_type": "code",
      "source": [
        "##polynomial reggresion\n",
        "from sklearn.preprocessing import PolynomialFeatures\n",
        "poly=PolynomialFeatures(degree=2,include_bias=True)\n",
        "x_train_poly=poly.fit_transform(x_train)\n",
        "x_test_poly=poly.transform(x_test)"
      ],
      "metadata": {
        "id": "sutatOaCgiSD"
      },
      "execution_count": null,
      "outputs": []
    },
    {
      "cell_type": "code",
      "source": [
        "x_train_poly  # coffeicent of x**0 is 1 so 1st column is 1 [x**0 , x**1 , x**2]"
      ],
      "metadata": {
        "colab": {
          "base_uri": "https://localhost:8080/"
        },
        "collapsed": true,
        "id": "dL8FRxe7oAJO",
        "outputId": "af1c8e1b-38e7-458c-e4c0-84be0bc66d5c"
      },
      "execution_count": null,
      "outputs": [
        {
          "output_type": "execute_result",
          "data": {
            "text/plain": [
              "array([[ 1.00000000e+00, -2.47935056e+00,  6.14717922e+00],\n",
              "       [ 1.00000000e+00,  1.34179802e+00,  1.80042193e+00],\n",
              "       [ 1.00000000e+00, -2.54762349e+00,  6.49038543e+00],\n",
              "       [ 1.00000000e+00, -2.06787152e+00,  4.27609261e+00],\n",
              "       [ 1.00000000e+00, -7.43378199e-02,  5.52611147e-03],\n",
              "       [ 1.00000000e+00,  9.77095221e-01,  9.54715070e-01],\n",
              "       [ 1.00000000e+00, -6.51378154e-01,  4.24293499e-01],\n",
              "       [ 1.00000000e+00, -1.96430222e+00,  3.85848321e+00],\n",
              "       [ 1.00000000e+00, -1.01190020e+00,  1.02394202e+00],\n",
              "       [ 1.00000000e+00, -1.40166114e-02,  1.96465396e-04],\n",
              "       [ 1.00000000e+00,  1.03164414e+00,  1.06428964e+00],\n",
              "       [ 1.00000000e+00, -1.68849046e+00,  2.85100004e+00],\n",
              "       [ 1.00000000e+00,  1.64429094e+00,  2.70369269e+00],\n",
              "       [ 1.00000000e+00,  4.79668988e-01,  2.30082338e-01],\n",
              "       [ 1.00000000e+00, -9.94170032e-01,  9.88374053e-01],\n",
              "       [ 1.00000000e+00,  1.00749778e+00,  1.01505177e+00],\n",
              "       [ 1.00000000e+00, -1.29003338e+00,  1.66418612e+00],\n",
              "       [ 1.00000000e+00,  2.64746085e+00,  7.00904898e+00],\n",
              "       [ 1.00000000e+00, -2.47428590e+00,  6.12209072e+00],\n",
              "       [ 1.00000000e+00,  1.53896525e-01,  2.36841405e-02],\n",
              "       [ 1.00000000e+00,  2.29160246e+00,  5.25144183e+00],\n",
              "       [ 1.00000000e+00,  2.20797079e+00,  4.87513502e+00],\n",
              "       [ 1.00000000e+00,  1.86558743e+00,  3.48041645e+00],\n",
              "       [ 1.00000000e+00, -2.13386640e+00,  4.55338580e+00],\n",
              "       [ 1.00000000e+00,  2.24909060e-01,  5.05840852e-02],\n",
              "       [ 1.00000000e+00, -1.16784952e+00,  1.36387251e+00],\n",
              "       [ 1.00000000e+00,  1.04660569e+00,  1.09538346e+00],\n",
              "       [ 1.00000000e+00, -2.77423245e+00,  7.69636570e+00],\n",
              "       [ 1.00000000e+00,  2.67971400e+00,  7.18086710e+00],\n",
              "       [ 1.00000000e+00, -1.05699208e+00,  1.11723227e+00],\n",
              "       [ 1.00000000e+00, -1.48053071e+00,  2.19197118e+00],\n",
              "       [ 1.00000000e+00,  2.58553125e+00,  6.68497182e+00],\n",
              "       [ 1.00000000e+00,  4.65101542e-01,  2.16319444e-01],\n",
              "       [ 1.00000000e+00,  2.15292854e+00,  4.63510130e+00],\n",
              "       [ 1.00000000e+00, -1.51368172e+00,  2.29123235e+00],\n",
              "       [ 1.00000000e+00,  8.14119991e-01,  6.62791360e-01],\n",
              "       [ 1.00000000e+00,  7.49489511e-01,  5.61734527e-01],\n",
              "       [ 1.00000000e+00,  2.04194826e+00,  4.16955269e+00],\n",
              "       [ 1.00000000e+00, -2.85634204e+00,  8.15868983e+00],\n",
              "       [ 1.00000000e+00, -1.88412790e+00,  3.54993793e+00],\n",
              "       [ 1.00000000e+00, -1.53932546e+00,  2.36952286e+00],\n",
              "       [ 1.00000000e+00, -6.36688647e-01,  4.05372433e-01],\n",
              "       [ 1.00000000e+00, -3.27191509e-01,  1.07054284e-01],\n",
              "       [ 1.00000000e+00, -1.55134302e+00,  2.40666516e+00],\n",
              "       [ 1.00000000e+00, -1.80418185e+00,  3.25507216e+00],\n",
              "       [ 1.00000000e+00, -9.68165783e-01,  9.37344984e-01],\n",
              "       [ 1.00000000e+00,  2.19234552e+00,  4.80637890e+00],\n",
              "       [ 1.00000000e+00,  2.68907005e+00,  7.23109776e+00],\n",
              "       [ 1.00000000e+00, -9.36796636e-02,  8.77587938e-03],\n",
              "       [ 1.00000000e+00,  3.67381773e-01,  1.34969367e-01],\n",
              "       [ 1.00000000e+00, -1.05435036e+00,  1.11165468e+00],\n",
              "       [ 1.00000000e+00,  2.60378306e+00,  6.77968622e+00],\n",
              "       [ 1.00000000e+00, -7.91835825e-02,  6.27003974e-03],\n",
              "       [ 1.00000000e+00,  8.54053850e-01,  7.29407978e-01],\n",
              "       [ 1.00000000e+00, -2.77189467e+00,  7.68340004e+00],\n",
              "       [ 1.00000000e+00,  2.08887395e+00,  4.36339437e+00],\n",
              "       [ 1.00000000e+00, -3.25511600e-01,  1.05957802e-01],\n",
              "       [ 1.00000000e+00,  1.30543754e+00,  1.70416718e+00],\n",
              "       [ 1.00000000e+00,  1.50435052e+00,  2.26307049e+00],\n",
              "       [ 1.00000000e+00, -2.42389544e+00,  5.87526908e+00],\n",
              "       [ 1.00000000e+00,  7.09518284e-01,  5.03416195e-01],\n",
              "       [ 1.00000000e+00, -2.99204824e+00,  8.95235265e+00],\n",
              "       [ 1.00000000e+00,  1.91565012e-01,  3.66971537e-02],\n",
              "       [ 1.00000000e+00, -2.35308692e+00,  5.53701806e+00],\n",
              "       [ 1.00000000e+00,  2.47939727e+00,  6.14741083e+00],\n",
              "       [ 1.00000000e+00,  8.76084822e-01,  7.67524616e-01],\n",
              "       [ 1.00000000e+00,  1.81492438e+00,  3.29395052e+00],\n",
              "       [ 1.00000000e+00,  4.29177395e-01,  1.84193236e-01],\n",
              "       [ 1.00000000e+00,  1.01829359e+00,  1.03692184e+00],\n",
              "       [ 1.00000000e+00, -1.27098478e-01,  1.61540230e-02],\n",
              "       [ 1.00000000e+00, -2.67214306e+00,  7.14034855e+00],\n",
              "       [ 1.00000000e+00, -1.15997156e-01,  1.34553402e-02],\n",
              "       [ 1.00000000e+00,  7.91557763e-01,  6.26563692e-01],\n",
              "       [ 1.00000000e+00,  4.95737577e-01,  2.45755745e-01],\n",
              "       [ 1.00000000e+00, -7.43987166e-01,  5.53516903e-01],\n",
              "       [ 1.00000000e+00, -2.58290979e+00,  6.67142300e+00],\n",
              "       [ 1.00000000e+00, -1.53546847e+00,  2.35766343e+00],\n",
              "       [ 1.00000000e+00, -8.44565312e-01,  7.13290566e-01],\n",
              "       [ 1.00000000e+00, -1.53429403e+00,  2.35405817e+00],\n",
              "       [ 1.00000000e+00, -1.98701480e+00,  3.94822782e+00]])"
            ]
          },
          "metadata": {},
          "execution_count": 18
        }
      ]
    },
    {
      "cell_type": "code",
      "source": [
        "from sklearn.linear_model import LinearRegression\n",
        "regression=LinearRegression()\n",
        "regression.fit(x_train_poly,y_train)\n",
        "regression.coef_"
      ],
      "metadata": {
        "colab": {
          "base_uri": "https://localhost:8080/"
        },
        "id": "WfID9cojo9mT",
        "outputId": "4765e9d5-9925-45f4-a753-b1d99bed7253"
      },
      "execution_count": null,
      "outputs": [
        {
          "output_type": "execute_result",
          "data": {
            "text/plain": [
              "array([[0.        , 1.50890127, 0.45993607]])"
            ]
          },
          "metadata": {},
          "execution_count": 19
        }
      ]
    },
    {
      "cell_type": "markdown",
      "source": [
        "0.0 → coefficient for the bias term (1)\n",
        "\n",
        "1.50890127 → coefficient for x\n",
        "\n",
        "0.45993607 → coefficient for x\n"
      ],
      "metadata": {
        "id": "kdPuZES6p1wW"
      }
    },
    {
      "cell_type": "code",
      "source": [
        "regression.intercept_"
      ],
      "metadata": {
        "colab": {
          "base_uri": "https://localhost:8080/"
        },
        "id": "8dDyHCDcpl8t",
        "outputId": "eda206b6-7f64-4590-ca0f-623a73359bbe"
      },
      "execution_count": null,
      "outputs": [
        {
          "output_type": "execute_result",
          "data": {
            "text/plain": [
              "array([2.17289743])"
            ]
          },
          "metadata": {},
          "execution_count": 20
        }
      ]
    },
    {
      "cell_type": "markdown",
      "source": [
        "y\n",
        "^\n",
        "​\n",
        " =2.1729+1.5089⋅x+0.4599⋅x\n",
        "2\n",
        "\n",
        "✔️ You ignore the 0 coefficient on the bias term from PolynomialFeatures, because LinearRegression handled the intercept separately."
      ],
      "metadata": {
        "id": "SgRXKWnaqvub"
      }
    },
    {
      "cell_type": "code",
      "source": [
        "from sklearn.metrics import r2_score\n",
        "score=r2_score(y_test,regression.predict(x_test_poly))\n",
        "print(score)"
      ],
      "metadata": {
        "colab": {
          "base_uri": "https://localhost:8080/"
        },
        "id": "eGjtwDh7qPdK",
        "outputId": "2c8039ed-7cd2-4bd2-e188-6f086c0fae95"
      },
      "execution_count": null,
      "outputs": [
        {
          "output_type": "stream",
          "name": "stdout",
          "text": [
            "0.9056281616128612\n"
          ]
        }
      ]
    },
    {
      "cell_type": "code",
      "source": [
        "plt.scatter(x_train,regression.predict(x_train_poly)) ##poly regg line\n",
        "plt.scatter(x_train,y_train ,c='r')\n"
      ],
      "metadata": {
        "colab": {
          "base_uri": "https://localhost:8080/",
          "height": 447
        },
        "id": "ap2pjaZFrQWF",
        "outputId": "220bff40-6ea0-4dd5-ba3e-acc14aacd07b"
      },
      "execution_count": null,
      "outputs": [
        {
          "output_type": "execute_result",
          "data": {
            "text/plain": [
              "<matplotlib.collections.PathCollection at 0x794c5c03aa50>"
            ]
          },
          "metadata": {},
          "execution_count": 25
        },
        {
          "output_type": "display_data",
          "data": {
            "text/plain": [
              "<Figure size 640x480 with 1 Axes>"
            ],
            "image/png": "[encoded data removed]"
          },
          "metadata": {}
        }
      ]
    },
    {
      "cell_type": "code",
      "source": [
        "x_new=np.linspace(-3,3,200).reshape(200,1)\n",
        "x_new_poly=poly.transform(x_new)\n",
        "x_new_poly"
      ],
      "metadata": {
        "colab": {
          "base_uri": "https://localhost:8080/"
        },
        "collapsed": true,
        "id": "N36MDk0ir065",
        "outputId": "dca77807-cd55-4f8c-af13-8e34eca382b3"
      },
      "execution_count": null,
      "outputs": [
        {
          "output_type": "execute_result",
          "data": {
            "text/plain": [
              "array([[ 1.00000000e+00, -3.00000000e+00,  9.00000000e+00],\n",
              "       [ 1.00000000e+00, -2.96984925e+00,  8.82000455e+00],\n",
              "       [ 1.00000000e+00, -2.93969849e+00,  8.64182723e+00],\n",
              "       [ 1.00000000e+00, -2.90954774e+00,  8.46546804e+00],\n",
              "       [ 1.00000000e+00, -2.87939698e+00,  8.29092700e+00],\n",
              "       [ 1.00000000e+00, -2.84924623e+00,  8.11820409e+00],\n",
              "       [ 1.00000000e+00, -2.81909548e+00,  7.94729931e+00],\n",
              "       [ 1.00000000e+00, -2.78894472e+00,  7.77821267e+00],\n",
              "       [ 1.00000000e+00, -2.75879397e+00,  7.61094417e+00],\n",
              "       [ 1.00000000e+00, -2.72864322e+00,  7.44549380e+00],\n",
              "       [ 1.00000000e+00, -2.69849246e+00,  7.28186157e+00],\n",
              "       [ 1.00000000e+00, -2.66834171e+00,  7.12004747e+00],\n",
              "       [ 1.00000000e+00, -2.63819095e+00,  6.96005151e+00],\n",
              "       [ 1.00000000e+00, -2.60804020e+00,  6.80187369e+00],\n",
              "       [ 1.00000000e+00, -2.57788945e+00,  6.64551400e+00],\n",
              "       [ 1.00000000e+00, -2.54773869e+00,  6.49097245e+00],\n",
              "       [ 1.00000000e+00, -2.51758794e+00,  6.33824903e+00],\n",
              "       [ 1.00000000e+00, -2.48743719e+00,  6.18734375e+00],\n",
              "       [ 1.00000000e+00, -2.45728643e+00,  6.03825661e+00],\n",
              "       [ 1.00000000e+00, -2.42713568e+00,  5.89098760e+00],\n",
              "       [ 1.00000000e+00, -2.39698492e+00,  5.74553673e+00],\n",
              "       [ 1.00000000e+00, -2.36683417e+00,  5.60190399e+00],\n",
              "       [ 1.00000000e+00, -2.33668342e+00,  5.46008939e+00],\n",
              "       [ 1.00000000e+00, -2.30653266e+00,  5.32009293e+00],\n",
              "       [ 1.00000000e+00, -2.27638191e+00,  5.18191460e+00],\n",
              "       [ 1.00000000e+00, -2.24623116e+00,  5.04555441e+00],\n",
              "       [ 1.00000000e+00, -2.21608040e+00,  4.91101235e+00],\n",
              "       [ 1.00000000e+00, -2.18592965e+00,  4.77828843e+00],\n",
              "       [ 1.00000000e+00, -2.15577889e+00,  4.64738264e+00],\n",
              "       [ 1.00000000e+00, -2.12562814e+00,  4.51829499e+00],\n",
              "       [ 1.00000000e+00, -2.09547739e+00,  4.39102548e+00],\n",
              "       [ 1.00000000e+00, -2.06532663e+00,  4.26557410e+00],\n",
              "       [ 1.00000000e+00, -2.03517588e+00,  4.14194086e+00],\n",
              "       [ 1.00000000e+00, -2.00502513e+00,  4.02012575e+00],\n",
              "       [ 1.00000000e+00, -1.97487437e+00,  3.90012878e+00],\n",
              "       [ 1.00000000e+00, -1.94472362e+00,  3.78194995e+00],\n",
              "       [ 1.00000000e+00, -1.91457286e+00,  3.66558925e+00],\n",
              "       [ 1.00000000e+00, -1.88442211e+00,  3.55104669e+00],\n",
              "       [ 1.00000000e+00, -1.85427136e+00,  3.43832226e+00],\n",
              "       [ 1.00000000e+00, -1.82412060e+00,  3.32741597e+00],\n",
              "       [ 1.00000000e+00, -1.79396985e+00,  3.21832782e+00],\n",
              "       [ 1.00000000e+00, -1.76381910e+00,  3.11105780e+00],\n",
              "       [ 1.00000000e+00, -1.73366834e+00,  3.00560592e+00],\n",
              "       [ 1.00000000e+00, -1.70351759e+00,  2.90197217e+00],\n",
              "       [ 1.00000000e+00, -1.67336683e+00,  2.80015656e+00],\n",
              "       [ 1.00000000e+00, -1.64321608e+00,  2.70015909e+00],\n",
              "       [ 1.00000000e+00, -1.61306533e+00,  2.60197975e+00],\n",
              "       [ 1.00000000e+00, -1.58291457e+00,  2.50561854e+00],\n",
              "       [ 1.00000000e+00, -1.55276382e+00,  2.41107548e+00],\n",
              "       [ 1.00000000e+00, -1.52261307e+00,  2.31835055e+00],\n",
              "       [ 1.00000000e+00, -1.49246231e+00,  2.22744375e+00],\n",
              "       [ 1.00000000e+00, -1.46231156e+00,  2.13835509e+00],\n",
              "       [ 1.00000000e+00, -1.43216080e+00,  2.05108457e+00],\n",
              "       [ 1.00000000e+00, -1.40201005e+00,  1.96563218e+00],\n",
              "       [ 1.00000000e+00, -1.37185930e+00,  1.88199793e+00],\n",
              "       [ 1.00000000e+00, -1.34170854e+00,  1.80018181e+00],\n",
              "       [ 1.00000000e+00, -1.31155779e+00,  1.72018383e+00],\n",
              "       [ 1.00000000e+00, -1.28140704e+00,  1.64200399e+00],\n",
              "       [ 1.00000000e+00, -1.25125628e+00,  1.56564228e+00],\n",
              "       [ 1.00000000e+00, -1.22110553e+00,  1.49109871e+00],\n",
              "       [ 1.00000000e+00, -1.19095477e+00,  1.41837327e+00],\n",
              "       [ 1.00000000e+00, -1.16080402e+00,  1.34746597e+00],\n",
              "       [ 1.00000000e+00, -1.13065327e+00,  1.27837681e+00],\n",
              "       [ 1.00000000e+00, -1.10050251e+00,  1.21110578e+00],\n",
              "       [ 1.00000000e+00, -1.07035176e+00,  1.14565289e+00],\n",
              "       [ 1.00000000e+00, -1.04020101e+00,  1.08201813e+00],\n",
              "       [ 1.00000000e+00, -1.01005025e+00,  1.02020151e+00],\n",
              "       [ 1.00000000e+00, -9.79899497e-01,  9.60203025e-01],\n",
              "       [ 1.00000000e+00, -9.49748744e-01,  9.02022676e-01],\n",
              "       [ 1.00000000e+00, -9.19597990e-01,  8.45660463e-01],\n",
              "       [ 1.00000000e+00, -8.89447236e-01,  7.91116386e-01],\n",
              "       [ 1.00000000e+00, -8.59296482e-01,  7.38390445e-01],\n",
              "       [ 1.00000000e+00, -8.29145729e-01,  6.87482639e-01],\n",
              "       [ 1.00000000e+00, -7.98994975e-01,  6.38392970e-01],\n",
              "       [ 1.00000000e+00, -7.68844221e-01,  5.91121436e-01],\n",
              "       [ 1.00000000e+00, -7.38693467e-01,  5.45668039e-01],\n",
              "       [ 1.00000000e+00, -7.08542714e-01,  5.02032777e-01],\n",
              "       [ 1.00000000e+00, -6.78391960e-01,  4.60215651e-01],\n",
              "       [ 1.00000000e+00, -6.48241206e-01,  4.20216661e-01],\n",
              "       [ 1.00000000e+00, -6.18090452e-01,  3.82035807e-01],\n",
              "       [ 1.00000000e+00, -5.87939698e-01,  3.45673089e-01],\n",
              "       [ 1.00000000e+00, -5.57788945e-01,  3.11128507e-01],\n",
              "       [ 1.00000000e+00, -5.27638191e-01,  2.78402061e-01],\n",
              "       [ 1.00000000e+00, -4.97487437e-01,  2.47493750e-01],\n",
              "       [ 1.00000000e+00, -4.67336683e-01,  2.18403576e-01],\n",
              "       [ 1.00000000e+00, -4.37185930e-01,  1.91131537e-01],\n",
              "       [ 1.00000000e+00, -4.07035176e-01,  1.65677634e-01],\n",
              "       [ 1.00000000e+00, -3.76884422e-01,  1.42041868e-01],\n",
              "       [ 1.00000000e+00, -3.46733668e-01,  1.20224237e-01],\n",
              "       [ 1.00000000e+00, -3.16582915e-01,  1.00224742e-01],\n",
              "       [ 1.00000000e+00, -2.86432161e-01,  8.20433827e-02],\n",
              "       [ 1.00000000e+00, -2.56281407e-01,  6.56801596e-02],\n",
              "       [ 1.00000000e+00, -2.26130653e-01,  5.11350723e-02],\n",
              "       [ 1.00000000e+00, -1.95979899e-01,  3.84081210e-02],\n",
              "       [ 1.00000000e+00, -1.65829146e-01,  2.74993056e-02],\n",
              "       [ 1.00000000e+00, -1.35678392e-01,  1.84086260e-02],\n",
              "       [ 1.00000000e+00, -1.05527638e-01,  1.11360824e-02],\n",
              "       [ 1.00000000e+00, -7.53768844e-02,  5.68167471e-03],\n",
              "       [ 1.00000000e+00, -4.52261307e-02,  2.04540289e-03],\n",
              "       [ 1.00000000e+00, -1.50753769e-02,  2.27266988e-04],\n",
              "       [ 1.00000000e+00,  1.50753769e-02,  2.27266988e-04],\n",
              "       [ 1.00000000e+00,  4.52261307e-02,  2.04540289e-03],\n",
              "       [ 1.00000000e+00,  7.53768844e-02,  5.68167471e-03],\n",
              "       [ 1.00000000e+00,  1.05527638e-01,  1.11360824e-02],\n",
              "       [ 1.00000000e+00,  1.35678392e-01,  1.84086260e-02],\n",
              "       [ 1.00000000e+00,  1.65829146e-01,  2.74993056e-02],\n",
              "       [ 1.00000000e+00,  1.95979899e-01,  3.84081210e-02],\n",
              "       [ 1.00000000e+00,  2.26130653e-01,  5.11350723e-02],\n",
              "       [ 1.00000000e+00,  2.56281407e-01,  6.56801596e-02],\n",
              "       [ 1.00000000e+00,  2.86432161e-01,  8.20433827e-02],\n",
              "       [ 1.00000000e+00,  3.16582915e-01,  1.00224742e-01],\n",
              "       [ 1.00000000e+00,  3.46733668e-01,  1.20224237e-01],\n",
              "       [ 1.00000000e+00,  3.76884422e-01,  1.42041868e-01],\n",
              "       [ 1.00000000e+00,  4.07035176e-01,  1.65677634e-01],\n",
              "       [ 1.00000000e+00,  4.37185930e-01,  1.91131537e-01],\n",
              "       [ 1.00000000e+00,  4.67336683e-01,  2.18403576e-01],\n",
              "       [ 1.00000000e+00,  4.97487437e-01,  2.47493750e-01],\n",
              "       [ 1.00000000e+00,  5.27638191e-01,  2.78402061e-01],\n",
              "       [ 1.00000000e+00,  5.57788945e-01,  3.11128507e-01],\n",
              "       [ 1.00000000e+00,  5.87939698e-01,  3.45673089e-01],\n",
              "       [ 1.00000000e+00,  6.18090452e-01,  3.82035807e-01],\n",
              "       [ 1.00000000e+00,  6.48241206e-01,  4.20216661e-01],\n",
              "       [ 1.00000000e+00,  6.78391960e-01,  4.60215651e-01],\n",
              "       [ 1.00000000e+00,  7.08542714e-01,  5.02032777e-01],\n",
              "       [ 1.00000000e+00,  7.38693467e-01,  5.45668039e-01],\n",
              "       [ 1.00000000e+00,  7.68844221e-01,  5.91121436e-01],\n",
              "       [ 1.00000000e+00,  7.98994975e-01,  6.38392970e-01],\n",
              "       [ 1.00000000e+00,  8.29145729e-01,  6.87482639e-01],\n",
              "       [ 1.00000000e+00,  8.59296482e-01,  7.38390445e-01],\n",
              "       [ 1.00000000e+00,  8.89447236e-01,  7.91116386e-01],\n",
              "       [ 1.00000000e+00,  9.19597990e-01,  8.45660463e-01],\n",
              "       [ 1.00000000e+00,  9.49748744e-01,  9.02022676e-01],\n",
              "       [ 1.00000000e+00,  9.79899497e-01,  9.60203025e-01],\n",
              "       [ 1.00000000e+00,  1.01005025e+00,  1.02020151e+00],\n",
              "       [ 1.00000000e+00,  1.04020101e+00,  1.08201813e+00],\n",
              "       [ 1.00000000e+00,  1.07035176e+00,  1.14565289e+00],\n",
              "       [ 1.00000000e+00,  1.10050251e+00,  1.21110578e+00],\n",
              "       [ 1.00000000e+00,  1.13065327e+00,  1.27837681e+00],\n",
              "       [ 1.00000000e+00,  1.16080402e+00,  1.34746597e+00],\n",
              "       [ 1.00000000e+00,  1.19095477e+00,  1.41837327e+00],\n",
              "       [ 1.00000000e+00,  1.22110553e+00,  1.49109871e+00],\n",
              "       [ 1.00000000e+00,  1.25125628e+00,  1.56564228e+00],\n",
              "       [ 1.00000000e+00,  1.28140704e+00,  1.64200399e+00],\n",
              "       [ 1.00000000e+00,  1.31155779e+00,  1.72018383e+00],\n",
              "       [ 1.00000000e+00,  1.34170854e+00,  1.80018181e+00],\n",
              "       [ 1.00000000e+00,  1.37185930e+00,  1.88199793e+00],\n",
              "       [ 1.00000000e+00,  1.40201005e+00,  1.96563218e+00],\n",
              "       [ 1.00000000e+00,  1.43216080e+00,  2.05108457e+00],\n",
              "       [ 1.00000000e+00,  1.46231156e+00,  2.13835509e+00],\n",
              "       [ 1.00000000e+00,  1.49246231e+00,  2.22744375e+00],\n",
              "       [ 1.00000000e+00,  1.52261307e+00,  2.31835055e+00],\n",
              "       [ 1.00000000e+00,  1.55276382e+00,  2.41107548e+00],\n",
              "       [ 1.00000000e+00,  1.58291457e+00,  2.50561854e+00],\n",
              "       [ 1.00000000e+00,  1.61306533e+00,  2.60197975e+00],\n",
              "       [ 1.00000000e+00,  1.64321608e+00,  2.70015909e+00],\n",
              "       [ 1.00000000e+00,  1.67336683e+00,  2.80015656e+00],\n",
              "       [ 1.00000000e+00,  1.70351759e+00,  2.90197217e+00],\n",
              "       [ 1.00000000e+00,  1.73366834e+00,  3.00560592e+00],\n",
              "       [ 1.00000000e+00,  1.76381910e+00,  3.11105780e+00],\n",
              "       [ 1.00000000e+00,  1.79396985e+00,  3.21832782e+00],\n",
              "       [ 1.00000000e+00,  1.82412060e+00,  3.32741597e+00],\n",
              "       [ 1.00000000e+00,  1.85427136e+00,  3.43832226e+00],\n",
              "       [ 1.00000000e+00,  1.88442211e+00,  3.55104669e+00],\n",
              "       [ 1.00000000e+00,  1.91457286e+00,  3.66558925e+00],\n",
              "       [ 1.00000000e+00,  1.94472362e+00,  3.78194995e+00],\n",
              "       [ 1.00000000e+00,  1.97487437e+00,  3.90012878e+00],\n",
              "       [ 1.00000000e+00,  2.00502513e+00,  4.02012575e+00],\n",
              "       [ 1.00000000e+00,  2.03517588e+00,  4.14194086e+00],\n",
              "       [ 1.00000000e+00,  2.06532663e+00,  4.26557410e+00],\n",
              "       [ 1.00000000e+00,  2.09547739e+00,  4.39102548e+00],\n",
              "       [ 1.00000000e+00,  2.12562814e+00,  4.51829499e+00],\n",
              "       [ 1.00000000e+00,  2.15577889e+00,  4.64738264e+00],\n",
              "       [ 1.00000000e+00,  2.18592965e+00,  4.77828843e+00],\n",
              "       [ 1.00000000e+00,  2.21608040e+00,  4.91101235e+00],\n",
              "       [ 1.00000000e+00,  2.24623116e+00,  5.04555441e+00],\n",
              "       [ 1.00000000e+00,  2.27638191e+00,  5.18191460e+00],\n",
              "       [ 1.00000000e+00,  2.30653266e+00,  5.32009293e+00],\n",
              "       [ 1.00000000e+00,  2.33668342e+00,  5.46008939e+00],\n",
              "       [ 1.00000000e+00,  2.36683417e+00,  5.60190399e+00],\n",
              "       [ 1.00000000e+00,  2.39698492e+00,  5.74553673e+00],\n",
              "       [ 1.00000000e+00,  2.42713568e+00,  5.89098760e+00],\n",
              "       [ 1.00000000e+00,  2.45728643e+00,  6.03825661e+00],\n",
              "       [ 1.00000000e+00,  2.48743719e+00,  6.18734375e+00],\n",
              "       [ 1.00000000e+00,  2.51758794e+00,  6.33824903e+00],\n",
              "       [ 1.00000000e+00,  2.54773869e+00,  6.49097245e+00],\n",
              "       [ 1.00000000e+00,  2.57788945e+00,  6.64551400e+00],\n",
              "       [ 1.00000000e+00,  2.60804020e+00,  6.80187369e+00],\n",
              "       [ 1.00000000e+00,  2.63819095e+00,  6.96005151e+00],\n",
              "       [ 1.00000000e+00,  2.66834171e+00,  7.12004747e+00],\n",
              "       [ 1.00000000e+00,  2.69849246e+00,  7.28186157e+00],\n",
              "       [ 1.00000000e+00,  2.72864322e+00,  7.44549380e+00],\n",
              "       [ 1.00000000e+00,  2.75879397e+00,  7.61094417e+00],\n",
              "       [ 1.00000000e+00,  2.78894472e+00,  7.77821267e+00],\n",
              "       [ 1.00000000e+00,  2.81909548e+00,  7.94729931e+00],\n",
              "       [ 1.00000000e+00,  2.84924623e+00,  8.11820409e+00],\n",
              "       [ 1.00000000e+00,  2.87939698e+00,  8.29092700e+00],\n",
              "       [ 1.00000000e+00,  2.90954774e+00,  8.46546804e+00],\n",
              "       [ 1.00000000e+00,  2.93969849e+00,  8.64182723e+00],\n",
              "       [ 1.00000000e+00,  2.96984925e+00,  8.82000455e+00],\n",
              "       [ 1.00000000e+00,  3.00000000e+00,  9.00000000e+00]])"
            ]
          },
          "metadata": {},
          "execution_count": 27
        }
      ]
    },
    {
      "cell_type": "code",
      "source": [
        "y_new=regression.predict(x_new_poly)\n",
        "plt.plot(x_new,y_new,'r-',label=\"prediction\")\n",
        "plt.scatter(x_train,y_train,label=\"train\")\n",
        "plt.scatter(x_test,y_test,label=\"test\")\n",
        "plt.legend()\n",
        "plt.show()"
      ],
      "metadata": {
        "colab": {
          "base_uri": "https://localhost:8080/",
          "height": 430
        },
        "id": "MiXPY61kxDef",
        "outputId": "ccd1b659-e81c-4e89-fdcc-ddf34e3155fa"
      },
      "execution_count": null,
      "outputs": [
        {
          "output_type": "display_data",
          "data": {
            "text/plain": [
              "<Figure size 640x480 with 1 Axes>"
            ],
            "image/png": "[encoded data removed]"
          },
          "metadata": {}
        }
      ]
    },
    {
      "cell_type": "code",
      "source": [],
      "metadata": {
        "id": "T98nWYNEyM9n"
      },
      "execution_count": null,
      "outputs": []
    }
  ]
}